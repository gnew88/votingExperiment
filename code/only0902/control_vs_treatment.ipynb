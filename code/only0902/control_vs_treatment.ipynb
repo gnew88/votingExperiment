{
 "cells": [
  {
   "cell_type": "markdown",
   "metadata": {},
   "source": [
    "## Control v.s. Treatment"
   ]
  },
  {
   "cell_type": "code",
   "execution_count": 1,
   "metadata": {},
   "outputs": [],
   "source": [
    "import os\n",
    "import pandas as pd\n",
    "import pingouin as pt\n",
    "import warnings\n",
    "\n",
    "warnings.filterwarnings('ignore')"
   ]
  },
  {
   "cell_type": "code",
   "execution_count": 2,
   "metadata": {},
   "outputs": [],
   "source": [
    "pd.set_option('display.float_format', '{:.3f}'.format)"
   ]
  },
  {
   "cell_type": "markdown",
   "metadata": {},
   "source": [
    "### ```拆分成 control 與 treatment```"
   ]
  },
  {
   "cell_type": "code",
   "execution_count": 4,
   "metadata": {},
   "outputs": [],
   "source": [
    "merge = pd.read_csv(r'C:\\Users\\User\\Desktop\\poll\\data\\processed_data\\merge_data.csv', index_col=0)\n",
    "control = merge.loc[(merge['treatment'] == 0)]\n",
    "treatment = merge.loc[(merge['treatment'] == 1)]"
   ]
  },
  {
   "cell_type": "code",
   "execution_count": 7,
   "metadata": {},
   "outputs": [],
   "source": [
    "# control wtp\n",
    "control_wtp = control[['player.wtp_voting_cost', 'player.wtp_voting_cost_pq', 'sb_condition']]\n",
    "control_wtp['wtp_sum'] = control_wtp.apply(lambda x : x['player.wtp_voting_cost'] + x['player.wtp_voting_cost_pq'], axis = 1)\n",
    "\n",
    "# treatment wtp\n",
    "treatment_wtp = treatment[['player.wtp_voting_cost', 'sb_condition']]\n",
    "treatment_wtp.rename(columns = {'player.wtp_voting_cost':'wtp'}, inplace = True)"
   ]
  },
  {
   "cell_type": "markdown",
   "metadata": {},
   "source": [
    "### ```拆分成大大、小小、大小、小大```"
   ]
  },
  {
   "cell_type": "code",
   "execution_count": 8,
   "metadata": {},
   "outputs": [],
   "source": [
    "# select data based on sb_condition\n",
    "bb = 'bb'\n",
    "bb_t = treatment_wtp.query('sb_condition == @bb')\n",
    "bb_c = control_wtp.query('sb_condition == @bb')\n",
    "\n",
    "ss = 'ss'\n",
    "ss_t = treatment_wtp.query('sb_condition == @ss')\n",
    "ss_c = control_wtp.query('sb_condition == @ss')\n",
    "\n",
    "sb = 'sb'\n",
    "sb_t = treatment_wtp.query('sb_condition == @sb')\n",
    "sb_c = control_wtp.query('sb_condition == @sb')\n",
    "\n",
    "bs = 'bs'\n",
    "bs_t = treatment_wtp.query('sb_condition == @bs')\n",
    "bs_c = control_wtp.query('sb_condition == @bs')"
   ]
  },
  {
   "cell_type": "code",
   "execution_count": 9,
   "metadata": {},
   "outputs": [
    {
     "name": "stdout",
     "output_type": "stream",
     "text": [
      "control group:\n",
      "【大大】: 135\n",
      "【大小】: 105\n",
      "【小大】: 105\n",
      "【小小】: 105\n",
      "---------------------\n",
      "treatment group:\n",
      "【大大】: 135\n",
      "【大小】: 105\n",
      "【小大】: 105\n",
      "【小小】: 105\n"
     ]
    }
   ],
   "source": [
    "# 顯示人數分配\n",
    "print('control group:')\n",
    "print(f\"【大大】: {len(bb_c)}\")\n",
    "print(f\"【大小】: {len(bs_c)}\")\n",
    "print(f\"【小大】: {len(sb_c)}\")\n",
    "print(f\"【小小】: {len(ss_c)}\")\n",
    "\n",
    "print('---------------------')\n",
    "\n",
    "print('treatment group:')\n",
    "print(f\"【大大】: {len(bb_t)}\")\n",
    "print(f\"【大小】: {len(bs_t)}\")\n",
    "print(f\"【小大】: {len(sb_t)}\")\n",
    "print(f\"【小小】: {len(ss_t)}\")"
   ]
  },
  {
   "cell_type": "markdown",
   "metadata": {},
   "source": [
    "### ```all```"
   ]
  },
  {
   "cell_type": "code",
   "execution_count": 10,
   "metadata": {},
   "outputs": [
    {
     "data": {
      "text/html": [
       "<div>\n",
       "<style scoped>\n",
       "    .dataframe tbody tr th:only-of-type {\n",
       "        vertical-align: middle;\n",
       "    }\n",
       "\n",
       "    .dataframe tbody tr th {\n",
       "        vertical-align: top;\n",
       "    }\n",
       "\n",
       "    .dataframe thead th {\n",
       "        text-align: right;\n",
       "    }\n",
       "</style>\n",
       "<table border=\"1\" class=\"dataframe\">\n",
       "  <thead>\n",
       "    <tr style=\"text-align: right;\">\n",
       "      <th></th>\n",
       "      <th>T</th>\n",
       "      <th>dof</th>\n",
       "      <th>alternative</th>\n",
       "      <th>p-val</th>\n",
       "      <th>CI95%</th>\n",
       "      <th>cohen-d</th>\n",
       "      <th>BF10</th>\n",
       "      <th>power</th>\n",
       "    </tr>\n",
       "  </thead>\n",
       "  <tbody>\n",
       "    <tr>\n",
       "      <th>T-test</th>\n",
       "      <td>1.495</td>\n",
       "      <td>898</td>\n",
       "      <td>two-sided</td>\n",
       "      <td>0.135</td>\n",
       "      <td>[-0.72, 5.36]</td>\n",
       "      <td>0.100</td>\n",
       "      <td>0.224</td>\n",
       "      <td>0.321</td>\n",
       "    </tr>\n",
       "  </tbody>\n",
       "</table>\n",
       "</div>"
      ],
      "text/plain": [
       "           T  dof alternative  p-val          CI95%  cohen-d   BF10  power\n",
       "T-test 1.495  898   two-sided  0.135  [-0.72, 5.36]    0.100  0.224  0.321"
      ]
     },
     "execution_count": 10,
     "metadata": {},
     "output_type": "execute_result"
    }
   ],
   "source": [
    "# implement unpaired ttest\n",
    "pt.ttest(control_wtp['wtp_sum'], treatment_wtp['wtp'], paired = False)"
   ]
  },
  {
   "cell_type": "code",
   "execution_count": 11,
   "metadata": {},
   "outputs": [
    {
     "name": "stdout",
     "output_type": "stream",
     "text": [
      "control 與 treatment 的 wtp 平均值\n",
      "---------------------------------\n",
      "control: 29.788888888888888\n",
      "treamtent : 27.47111111111111\n"
     ]
    }
   ],
   "source": [
    "# get the mean of wtp\n",
    "print('control 與 treatment 的 wtp 平均值')\n",
    "print('---------------------------------')\n",
    "print(f\"control: {control_wtp['wtp_sum'].describe()['mean']}\")\n",
    "print(f\"treamtent : {treatment_wtp['wtp'].describe()['mean']}\")"
   ]
  },
  {
   "cell_type": "markdown",
   "metadata": {},
   "source": [
    "### ```bb```"
   ]
  },
  {
   "cell_type": "code",
   "execution_count": 12,
   "metadata": {},
   "outputs": [
    {
     "data": {
      "text/html": [
       "<div>\n",
       "<style scoped>\n",
       "    .dataframe tbody tr th:only-of-type {\n",
       "        vertical-align: middle;\n",
       "    }\n",
       "\n",
       "    .dataframe tbody tr th {\n",
       "        vertical-align: top;\n",
       "    }\n",
       "\n",
       "    .dataframe thead th {\n",
       "        text-align: right;\n",
       "    }\n",
       "</style>\n",
       "<table border=\"1\" class=\"dataframe\">\n",
       "  <thead>\n",
       "    <tr style=\"text-align: right;\">\n",
       "      <th></th>\n",
       "      <th>T</th>\n",
       "      <th>dof</th>\n",
       "      <th>alternative</th>\n",
       "      <th>p-val</th>\n",
       "      <th>CI95%</th>\n",
       "      <th>cohen-d</th>\n",
       "      <th>BF10</th>\n",
       "      <th>power</th>\n",
       "    </tr>\n",
       "  </thead>\n",
       "  <tbody>\n",
       "    <tr>\n",
       "      <th>T-test</th>\n",
       "      <td>1.095</td>\n",
       "      <td>268</td>\n",
       "      <td>two-sided</td>\n",
       "      <td>0.275</td>\n",
       "      <td>[-2.82, 9.87]</td>\n",
       "      <td>0.133</td>\n",
       "      <td>0.236</td>\n",
       "      <td>0.194</td>\n",
       "    </tr>\n",
       "  </tbody>\n",
       "</table>\n",
       "</div>"
      ],
      "text/plain": [
       "           T  dof alternative  p-val          CI95%  cohen-d   BF10  power\n",
       "T-test 1.095  268   two-sided  0.275  [-2.82, 9.87]    0.133  0.236  0.194"
      ]
     },
     "execution_count": 12,
     "metadata": {},
     "output_type": "execute_result"
    }
   ],
   "source": [
    "# bb\n",
    "pt.ttest(bb_c['wtp_sum'], bb_t['wtp'], paired = False)"
   ]
  },
  {
   "cell_type": "code",
   "execution_count": 13,
   "metadata": {},
   "outputs": [
    {
     "name": "stdout",
     "output_type": "stream",
     "text": [
      "【大大】control 與 treatment 的 wtp 平均值\n",
      "---------------------------------\n",
      "control: 39.77777777777778\n",
      "treamtent: 36.25185185185185\n"
     ]
    }
   ],
   "source": [
    "# get the mean of wtp\n",
    "print('【大大】control 與 treatment 的 wtp 平均值')\n",
    "print('---------------------------------')\n",
    "print(f\"control: {bb_c['wtp_sum'].describe()['mean']}\")\n",
    "print(f\"treamtent: {bb_t['wtp'].describe()['mean']}\")"
   ]
  },
  {
   "cell_type": "markdown",
   "metadata": {},
   "source": [
    "### ```ss```"
   ]
  },
  {
   "cell_type": "code",
   "execution_count": 14,
   "metadata": {},
   "outputs": [
    {
     "data": {
      "text/html": [
       "<div>\n",
       "<style scoped>\n",
       "    .dataframe tbody tr th:only-of-type {\n",
       "        vertical-align: middle;\n",
       "    }\n",
       "\n",
       "    .dataframe tbody tr th {\n",
       "        vertical-align: top;\n",
       "    }\n",
       "\n",
       "    .dataframe thead th {\n",
       "        text-align: right;\n",
       "    }\n",
       "</style>\n",
       "<table border=\"1\" class=\"dataframe\">\n",
       "  <thead>\n",
       "    <tr style=\"text-align: right;\">\n",
       "      <th></th>\n",
       "      <th>T</th>\n",
       "      <th>dof</th>\n",
       "      <th>alternative</th>\n",
       "      <th>p-val</th>\n",
       "      <th>CI95%</th>\n",
       "      <th>cohen-d</th>\n",
       "      <th>BF10</th>\n",
       "      <th>power</th>\n",
       "    </tr>\n",
       "  </thead>\n",
       "  <tbody>\n",
       "    <tr>\n",
       "      <th>T-test</th>\n",
       "      <td>1.275</td>\n",
       "      <td>208</td>\n",
       "      <td>two-sided</td>\n",
       "      <td>0.204</td>\n",
       "      <td>[-1.86, 8.66]</td>\n",
       "      <td>0.176</td>\n",
       "      <td>0.322</td>\n",
       "      <td>0.245</td>\n",
       "    </tr>\n",
       "  </tbody>\n",
       "</table>\n",
       "</div>"
      ],
      "text/plain": [
       "           T  dof alternative  p-val          CI95%  cohen-d   BF10  power\n",
       "T-test 1.275  208   two-sided  0.204  [-1.86, 8.66]    0.176  0.322  0.245"
      ]
     },
     "execution_count": 14,
     "metadata": {},
     "output_type": "execute_result"
    }
   ],
   "source": [
    "# ss\n",
    "pt.ttest(ss_c['wtp_sum'], ss_t['wtp'], paired = False)"
   ]
  },
  {
   "cell_type": "code",
   "execution_count": 15,
   "metadata": {},
   "outputs": [
    {
     "name": "stdout",
     "output_type": "stream",
     "text": [
      "【小小】control 與 treatment 的 wtp 平均值\n",
      "---------------------------------\n",
      "control: 20.552380952380954\n",
      "treamtent: 17.152380952380952\n"
     ]
    }
   ],
   "source": [
    "# get the mean of wtp\n",
    "print('【小小】control 與 treatment 的 wtp 平均值')\n",
    "print('---------------------------------')\n",
    "print(f\"control: {ss_c['wtp_sum'].describe()['mean']}\")\n",
    "print(f\"treamtent: {ss_t['wtp'].describe()['mean']}\")"
   ]
  },
  {
   "cell_type": "markdown",
   "metadata": {},
   "source": [
    "### ```sb```"
   ]
  },
  {
   "cell_type": "code",
   "execution_count": 16,
   "metadata": {},
   "outputs": [
    {
     "data": {
      "text/html": [
       "<div>\n",
       "<style scoped>\n",
       "    .dataframe tbody tr th:only-of-type {\n",
       "        vertical-align: middle;\n",
       "    }\n",
       "\n",
       "    .dataframe tbody tr th {\n",
       "        vertical-align: top;\n",
       "    }\n",
       "\n",
       "    .dataframe thead th {\n",
       "        text-align: right;\n",
       "    }\n",
       "</style>\n",
       "<table border=\"1\" class=\"dataframe\">\n",
       "  <thead>\n",
       "    <tr style=\"text-align: right;\">\n",
       "      <th></th>\n",
       "      <th>T</th>\n",
       "      <th>dof</th>\n",
       "      <th>alternative</th>\n",
       "      <th>p-val</th>\n",
       "      <th>CI95%</th>\n",
       "      <th>cohen-d</th>\n",
       "      <th>BF10</th>\n",
       "      <th>power</th>\n",
       "    </tr>\n",
       "  </thead>\n",
       "  <tbody>\n",
       "    <tr>\n",
       "      <th>T-test</th>\n",
       "      <td>-0.789</td>\n",
       "      <td>208</td>\n",
       "      <td>two-sided</td>\n",
       "      <td>0.431</td>\n",
       "      <td>[-8.7, 3.73]</td>\n",
       "      <td>0.109</td>\n",
       "      <td>0.201</td>\n",
       "      <td>0.123</td>\n",
       "    </tr>\n",
       "  </tbody>\n",
       "</table>\n",
       "</div>"
      ],
      "text/plain": [
       "            T  dof alternative  p-val         CI95%  cohen-d   BF10  power\n",
       "T-test -0.789  208   two-sided  0.431  [-8.7, 3.73]    0.109  0.201  0.123"
      ]
     },
     "execution_count": 16,
     "metadata": {},
     "output_type": "execute_result"
    }
   ],
   "source": [
    "# sb\n",
    "pt.ttest(sb_c['wtp_sum'], sb_t['wtp'], paired = False)"
   ]
  },
  {
   "cell_type": "code",
   "execution_count": 17,
   "metadata": {},
   "outputs": [
    {
     "name": "stdout",
     "output_type": "stream",
     "text": [
      "【小大】control 與 treatment 的 wtp 平均值\n",
      "---------------------------------\n",
      "control: 28.133333333333333\n",
      "treamtent: 30.61904761904762\n"
     ]
    }
   ],
   "source": [
    "# get the mean of wtp\n",
    "print('【小大】control 與 treatment 的 wtp 平均值')\n",
    "print('---------------------------------')\n",
    "print(f\"control: {sb_c['wtp_sum'].describe()['mean']}\")\n",
    "print(f\"treamtent: {sb_t['wtp'].describe()['mean']}\")"
   ]
  },
  {
   "cell_type": "markdown",
   "metadata": {},
   "source": [
    "### ```bs```"
   ]
  },
  {
   "cell_type": "code",
   "execution_count": 18,
   "metadata": {},
   "outputs": [
    {
     "data": {
      "text/html": [
       "<div>\n",
       "<style scoped>\n",
       "    .dataframe tbody tr th:only-of-type {\n",
       "        vertical-align: middle;\n",
       "    }\n",
       "\n",
       "    .dataframe tbody tr th {\n",
       "        vertical-align: top;\n",
       "    }\n",
       "\n",
       "    .dataframe thead th {\n",
       "        text-align: right;\n",
       "    }\n",
       "</style>\n",
       "<table border=\"1\" class=\"dataframe\">\n",
       "  <thead>\n",
       "    <tr style=\"text-align: right;\">\n",
       "      <th></th>\n",
       "      <th>T</th>\n",
       "      <th>dof</th>\n",
       "      <th>alternative</th>\n",
       "      <th>p-val</th>\n",
       "      <th>CI95%</th>\n",
       "      <th>cohen-d</th>\n",
       "      <th>BF10</th>\n",
       "      <th>power</th>\n",
       "    </tr>\n",
       "  </thead>\n",
       "  <tbody>\n",
       "    <tr>\n",
       "      <th>T-test</th>\n",
       "      <td>1.852</td>\n",
       "      <td>208</td>\n",
       "      <td>two-sided</td>\n",
       "      <td>0.065</td>\n",
       "      <td>[-0.29, 9.26]</td>\n",
       "      <td>0.256</td>\n",
       "      <td>0.747</td>\n",
       "      <td>0.454</td>\n",
       "    </tr>\n",
       "  </tbody>\n",
       "</table>\n",
       "</div>"
      ],
      "text/plain": [
       "           T  dof alternative  p-val          CI95%  cohen-d   BF10  power\n",
       "T-test 1.852  208   two-sided  0.065  [-0.29, 9.26]    0.256  0.747  0.454"
      ]
     },
     "execution_count": 18,
     "metadata": {},
     "output_type": "execute_result"
    }
   ],
   "source": [
    "# bs\n",
    "pt.ttest(bs_c['wtp_sum'], bs_t['wtp'], paired = False)"
   ]
  },
  {
   "cell_type": "code",
   "execution_count": 19,
   "metadata": {},
   "outputs": [
    {
     "name": "stdout",
     "output_type": "stream",
     "text": [
      "【大小】control 與 treatment 的 wtp 平均值\n",
      "---------------------------------\n",
      "control: 27.83809523809524\n",
      "treamtent: 23.35238095238095\n"
     ]
    }
   ],
   "source": [
    "# get the mean of wtp\n",
    "print('【大小】control 與 treatment 的 wtp 平均值')\n",
    "print('---------------------------------')\n",
    "print(f\"control: {bs_c['wtp_sum'].describe()['mean']}\")\n",
    "print(f\"treamtent: {bs_t['wtp'].describe()['mean']}\")"
   ]
  },
  {
   "cell_type": "code",
   "execution_count": null,
   "metadata": {},
   "outputs": [],
   "source": []
  },
  {
   "cell_type": "code",
   "execution_count": null,
   "metadata": {},
   "outputs": [],
   "source": []
  }
 ],
 "metadata": {
  "kernelspec": {
   "display_name": "Python 3",
   "language": "python",
   "name": "python3"
  },
  "language_info": {
   "codemirror_mode": {
    "name": "ipython",
    "version": 3
   },
   "file_extension": ".py",
   "mimetype": "text/x-python",
   "name": "python",
   "nbconvert_exporter": "python",
   "pygments_lexer": "ipython3",
   "version": "3.8.5"
  }
 },
 "nbformat": 4,
 "nbformat_minor": 4
}
