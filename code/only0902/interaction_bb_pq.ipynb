{
 "cells": [
  {
   "cell_type": "markdown",
   "metadata": {},
   "source": [
    "## 交互作用探討\n",
    "- 探討 is_pq, is_large 對於 wtp 之影響\n",
    "- 使用 control"
   ]
  },
  {
   "cell_type": "code",
   "execution_count": 1,
   "metadata": {},
   "outputs": [],
   "source": [
    "import os\n",
    "import pandas as pd\n",
    "from sklearn import linear_model\n",
    "from sklearn.linear_model import LinearRegression\n",
    "import statsmodels.api as sm\n",
    "from scipy import stats\n",
    "import warnings\n",
    "warnings.filterwarnings('ignore')"
   ]
  },
  {
   "cell_type": "markdown",
   "metadata": {},
   "source": [
    "### ```選取control資料```"
   ]
  },
  {
   "cell_type": "code",
   "execution_count": 2,
   "metadata": {},
   "outputs": [],
   "source": [
    "all_data = pd.read_csv(r'C:\\Users\\User\\Desktop\\poll\\data\\processed_data\\merge_data.csv', index_col=0)\n",
    "data = all_data.loc[(all_data['treatment'] == 0)]"
   ]
  },
  {
   "cell_type": "markdown",
   "metadata": {},
   "source": [
    "### ```製作 wtp 資料集```"
   ]
  },
  {
   "cell_type": "code",
   "execution_count": 3,
   "metadata": {},
   "outputs": [],
   "source": [
    "# select non_pq data\n",
    "non_pq_data = data[['player.id_in_group', 'player.wtp_voting_cost', 'player.is_large_team', 'session']]\n",
    "non_pq_data.loc[:,'is_pq'] = 0\n",
    "non_pq_data.columns = ['id','wtp', 'is_large', 'session', 'is_pq']\n",
    "\n",
    "# select pq data\n",
    "pq_data = data[['player.id_in_group','player.wtp_voting_cost_pq', 'player.is_large_team_pq', 'session']]\n",
    "pq_data.loc[:, 'is_pq'] = 1\n",
    "pq_data.columns = ['id','wtp', 'is_large', 'session', 'is_pq']"
   ]
  },
  {
   "cell_type": "code",
   "execution_count": 4,
   "metadata": {},
   "outputs": [],
   "source": [
    "# concat two datasets\n",
    "wtp_data = pd.concat([non_pq_data, pq_data])\n",
    "\n",
    "# add interaction \n",
    "wtp_data['is_large * is_pq'] = wtp_data.apply(lambda x : x['is_large'] * x['is_pq'], axis = 1)"
   ]
  },
  {
   "cell_type": "code",
   "execution_count": 5,
   "metadata": {},
   "outputs": [],
   "source": [
    "# split X and Y\n",
    "wtp_data_Y = wtp_data['wtp']\n",
    "wtp_Y = wtp_data_Y.to_numpy()\n",
    "\n",
    "wtp_data_X = wtp_data.drop(['wtp','id', 'session'], axis = 1)\n",
    "wtp_X = wtp_data_X.to_numpy()"
   ]
  },
  {
   "cell_type": "markdown",
   "metadata": {},
   "source": [
    " ### ```all```"
   ]
  },
  {
   "cell_type": "code",
   "execution_count": 6,
   "metadata": {},
   "outputs": [
    {
     "data": {
      "text/html": [
       "<table class=\"simpletable\">\n",
       "<caption>OLS Regression Results</caption>\n",
       "<tr>\n",
       "  <th>Dep. Variable:</th>           <td>wtp</td>       <th>  R-squared:         </th> <td>   0.172</td>\n",
       "</tr>\n",
       "<tr>\n",
       "  <th>Model:</th>                   <td>OLS</td>       <th>  Adj. R-squared:    </th> <td>   0.169</td>\n",
       "</tr>\n",
       "<tr>\n",
       "  <th>Method:</th>             <td>Least Squares</td>  <th>  F-statistic:       </th> <td>   61.93</td>\n",
       "</tr>\n",
       "<tr>\n",
       "  <th>Date:</th>             <td>Thu, 02 Sep 2021</td> <th>  Prob (F-statistic):</th> <td>2.17e-36</td>\n",
       "</tr>\n",
       "<tr>\n",
       "  <th>Time:</th>                 <td>20:10:10</td>     <th>  Log-Likelihood:    </th> <td> -3619.0</td>\n",
       "</tr>\n",
       "<tr>\n",
       "  <th>No. Observations:</th>      <td>   900</td>      <th>  AIC:               </th> <td>   7246.</td>\n",
       "</tr>\n",
       "<tr>\n",
       "  <th>Df Residuals:</th>          <td>   896</td>      <th>  BIC:               </th> <td>   7265.</td>\n",
       "</tr>\n",
       "<tr>\n",
       "  <th>Df Model:</th>              <td>     3</td>      <th>                     </th>     <td> </td>   \n",
       "</tr>\n",
       "<tr>\n",
       "  <th>Covariance Type:</th>      <td>nonrobust</td>    <th>                     </th>     <td> </td>   \n",
       "</tr>\n",
       "</table>\n",
       "<table class=\"simpletable\">\n",
       "<tr>\n",
       "          <td></td>            <th>coef</th>     <th>std err</th>      <th>t</th>      <th>P>|t|</th>  <th>[0.025</th>    <th>0.975]</th>  \n",
       "</tr>\n",
       "<tr>\n",
       "  <th>const</th>            <td>   13.3286</td> <td>    0.933</td> <td>   14.283</td> <td> 0.000</td> <td>   11.497</td> <td>   15.160</td>\n",
       "</tr>\n",
       "<tr>\n",
       "  <th>is_large</th>         <td>    9.1131</td> <td>    1.278</td> <td>    7.132</td> <td> 0.000</td> <td>    6.605</td> <td>   11.621</td>\n",
       "</tr>\n",
       "<tr>\n",
       "  <th>is_pq</th>            <td>   -7.8810</td> <td>    1.320</td> <td>   -5.972</td> <td> 0.000</td> <td>  -10.471</td> <td>   -5.291</td>\n",
       "</tr>\n",
       "<tr>\n",
       "  <th>is_large * is_pq</th> <td>    2.4226</td> <td>    1.807</td> <td>    1.341</td> <td> 0.180</td> <td>   -1.124</td> <td>    5.969</td>\n",
       "</tr>\n",
       "</table>\n",
       "<table class=\"simpletable\">\n",
       "<tr>\n",
       "  <th>Omnibus:</th>       <td>48.286</td> <th>  Durbin-Watson:     </th> <td>   0.997</td>\n",
       "</tr>\n",
       "<tr>\n",
       "  <th>Prob(Omnibus):</th> <td> 0.000</td> <th>  Jarque-Bera (JB):  </th> <td>  40.456</td>\n",
       "</tr>\n",
       "<tr>\n",
       "  <th>Skew:</th>          <td> 0.442</td> <th>  Prob(JB):          </th> <td>1.64e-09</td>\n",
       "</tr>\n",
       "<tr>\n",
       "  <th>Kurtosis:</th>      <td> 2.454</td> <th>  Cond. No.          </th> <td>    7.08</td>\n",
       "</tr>\n",
       "</table><br/><br/>Notes:<br/>[1] Standard Errors assume that the covariance matrix of the errors is correctly specified."
      ],
      "text/plain": [
       "<class 'statsmodels.iolib.summary.Summary'>\n",
       "\"\"\"\n",
       "                            OLS Regression Results                            \n",
       "==============================================================================\n",
       "Dep. Variable:                    wtp   R-squared:                       0.172\n",
       "Model:                            OLS   Adj. R-squared:                  0.169\n",
       "Method:                 Least Squares   F-statistic:                     61.93\n",
       "Date:                Thu, 02 Sep 2021   Prob (F-statistic):           2.17e-36\n",
       "Time:                        20:10:10   Log-Likelihood:                -3619.0\n",
       "No. Observations:                 900   AIC:                             7246.\n",
       "Df Residuals:                     896   BIC:                             7265.\n",
       "Df Model:                           3                                         \n",
       "Covariance Type:            nonrobust                                         \n",
       "====================================================================================\n",
       "                       coef    std err          t      P>|t|      [0.025      0.975]\n",
       "------------------------------------------------------------------------------------\n",
       "const               13.3286      0.933     14.283      0.000      11.497      15.160\n",
       "is_large             9.1131      1.278      7.132      0.000       6.605      11.621\n",
       "is_pq               -7.8810      1.320     -5.972      0.000     -10.471      -5.291\n",
       "is_large * is_pq     2.4226      1.807      1.341      0.180      -1.124       5.969\n",
       "==============================================================================\n",
       "Omnibus:                       48.286   Durbin-Watson:                   0.997\n",
       "Prob(Omnibus):                  0.000   Jarque-Bera (JB):               40.456\n",
       "Skew:                           0.442   Prob(JB):                     1.64e-09\n",
       "Kurtosis:                       2.454   Cond. No.                         7.08\n",
       "==============================================================================\n",
       "\n",
       "Notes:\n",
       "[1] Standard Errors assume that the covariance matrix of the errors is correctly specified.\n",
       "\"\"\""
      ]
     },
     "execution_count": 6,
     "metadata": {},
     "output_type": "execute_result"
    }
   ],
   "source": [
    "# run regression\n",
    "wtp_X = sm.add_constant(wtp_X)\n",
    "result = sm.OLS(wtp_Y, wtp_X).fit()\n",
    "result.summary(xname=['const','is_large', 'is_pq', 'is_large * is_pq'], yname='wtp')"
   ]
  },
  {
   "cell_type": "markdown",
   "metadata": {},
   "source": [
    "### ```一個一個跑回歸-有交乘項```\n",
    "- 檢視 is_large, is_pq 正負號"
   ]
  },
  {
   "cell_type": "code",
   "execution_count": 7,
   "metadata": {},
   "outputs": [
    {
     "data": {
      "text/plain": [
       "array(['0902_C'], dtype=object)"
      ]
     },
     "execution_count": 7,
     "metadata": {},
     "output_type": "execute_result"
    }
   ],
   "source": [
    "sessionList = wtp_data['session'].unique()\n",
    "sessionList"
   ]
  },
  {
   "cell_type": "code",
   "execution_count": 8,
   "metadata": {},
   "outputs": [],
   "source": [
    "result_interaction = []\n",
    "\n",
    "for session in sessionList:\n",
    "    \n",
    "    for playerID in range(1, 16):\n",
    "\n",
    "        subset = wtp_data.loc[(wtp_data['id'] == playerID) & (wtp_data['session'] == session)]\n",
    "        # split X and Y\n",
    "        wtp_data_Y = subset['wtp']\n",
    "        wtp_Y = wtp_data_Y.to_numpy()\n",
    "\n",
    "        wtp_data_X = subset.drop(['wtp','id', 'session'], axis = 1)\n",
    "        wtp_X = wtp_data_X.to_numpy()\n",
    "\n",
    "        # run regression\n",
    "        wtp_X = sm.add_constant(wtp_X)\n",
    "        result = sm.OLS(wtp_Y, wtp_X).fit()\n",
    "\n",
    "        # 0: const, 1: is_large, 2: is_pq, 3: is_large*is_pq\n",
    "        is_large = '+' if result.params[1] > 0 else '-'\n",
    "        is_pq = '+' if result.params[2] > 0 else '-'\n",
    "        interaction = '+' if result.params[3] > 0 else '-'\n",
    "        \n",
    "        # p-value\n",
    "        p_is_large = result.pvalues[1]\n",
    "        p_is_pq = result.pvalues[2]\n",
    "        p_is_interaction = result.pvalues[3]\n",
    "        \n",
    "        sig = []\n",
    "\n",
    "        for item in [p_is_large, p_is_pq, p_is_interaction]:\n",
    "            if (item < 0.001):\n",
    "                sig.append('***')\n",
    "            elif (item < 0.01):\n",
    "                sig.append('**')\n",
    "            elif (item < 0.05):\n",
    "                sig.append('*')\n",
    "            else:\n",
    "                sig.append('')\n",
    "\n",
    "        result_interaction.append({'session': session, 'ID':playerID, 'is_large': is_large, 'sig_is_large': sig[0], \n",
    "                                   'is_pq':is_pq, 'sig_is_pq':sig[1],\n",
    "                                   'interaction':interaction, 'sig_interaction':sig[2]})"
   ]
  },
  {
   "cell_type": "code",
   "execution_count": 9,
   "metadata": {},
   "outputs": [],
   "source": [
    "result_interaction = pd.DataFrame(result_interaction)"
   ]
  },
  {
   "cell_type": "code",
   "execution_count": 10,
   "metadata": {},
   "outputs": [
    {
     "data": {
      "text/plain": [
       "is_large  is_pq\n",
       "+         +        3\n",
       "          -        7\n",
       "-         -        5\n",
       "dtype: int64"
      ]
     },
     "execution_count": 10,
     "metadata": {},
     "output_type": "execute_result"
    }
   ],
   "source": [
    "# 檢視係數正負號比例分配\n",
    "result_interaction.groupby(['is_large', 'is_pq']).size()"
   ]
  },
  {
   "cell_type": "markdown",
   "metadata": {},
   "source": [
    "### ```一個個跑回歸-沒交乘項```"
   ]
  },
  {
   "cell_type": "code",
   "execution_count": 11,
   "metadata": {},
   "outputs": [],
   "source": [
    "result_no_interaction = []\n",
    "\n",
    "for session in sessionList:\n",
    "    for playerID in range(1, 16):\n",
    "\n",
    "        subset = wtp_data.loc[(wtp_data['id'] == playerID) & (wtp_data['session'] == session)]\n",
    "        # split X and Y\n",
    "        wtp_data_Y = subset['wtp']\n",
    "        wtp_Y = wtp_data_Y.to_numpy()\n",
    "\n",
    "        wtp_data_X = subset.drop(['wtp','id', 'session'], axis = 1)\n",
    "        wtp_X = wtp_data_X.to_numpy()\n",
    "\n",
    "        # run regression\n",
    "        wtp_X = sm.add_constant(wtp_X)\n",
    "        result = sm.OLS(wtp_Y, wtp_X).fit()\n",
    "\n",
    "        # 0: const, 1: is_large, 2: is_pq\n",
    "        is_large = '+' if result.params[1] > 0 else '-'\n",
    "        is_pq = '+' if result.params[2] > 0 else '-'\n",
    "\n",
    "        p_is_large = result.pvalues[1]\n",
    "        p_is_pq = result.pvalues[2]\n",
    "        sig = []\n",
    "\n",
    "        for item in [p_is_large, p_is_pq]:\n",
    "            if (item < 0.001):\n",
    "                sig.append('***')\n",
    "            elif (item < 0.01):\n",
    "                sig.append('**')\n",
    "            elif (item < 0.05):\n",
    "                sig.append('*')\n",
    "            else:\n",
    "                sig.append('')\n",
    "\n",
    "        result_no_interaction.append({'session': session, 'ID':playerID, \n",
    "                                      'is_large': is_large, 'sig_is_large': sig[0], \n",
    "                                      'is_pq':is_pq, 'sig_is_pq':sig[1]})"
   ]
  },
  {
   "cell_type": "code",
   "execution_count": 12,
   "metadata": {},
   "outputs": [],
   "source": [
    "result_no_interaction = pd.DataFrame(result_no_interaction)"
   ]
  },
  {
   "cell_type": "code",
   "execution_count": 13,
   "metadata": {},
   "outputs": [
    {
     "data": {
      "text/html": [
       "<div>\n",
       "<style scoped>\n",
       "    .dataframe tbody tr th:only-of-type {\n",
       "        vertical-align: middle;\n",
       "    }\n",
       "\n",
       "    .dataframe tbody tr th {\n",
       "        vertical-align: top;\n",
       "    }\n",
       "\n",
       "    .dataframe thead th {\n",
       "        text-align: right;\n",
       "    }\n",
       "</style>\n",
       "<table border=\"1\" class=\"dataframe\">\n",
       "  <thead>\n",
       "    <tr style=\"text-align: right;\">\n",
       "      <th></th>\n",
       "      <th>session</th>\n",
       "      <th>ID</th>\n",
       "      <th>is_large</th>\n",
       "      <th>sig_is_large</th>\n",
       "      <th>is_pq</th>\n",
       "      <th>sig_is_pq</th>\n",
       "    </tr>\n",
       "  </thead>\n",
       "  <tbody>\n",
       "    <tr>\n",
       "      <th>1</th>\n",
       "      <td>0902_C</td>\n",
       "      <td>2</td>\n",
       "      <td>+</td>\n",
       "      <td>***</td>\n",
       "      <td>+</td>\n",
       "      <td></td>\n",
       "    </tr>\n",
       "    <tr>\n",
       "      <th>6</th>\n",
       "      <td>0902_C</td>\n",
       "      <td>7</td>\n",
       "      <td>+</td>\n",
       "      <td></td>\n",
       "      <td>+</td>\n",
       "      <td></td>\n",
       "    </tr>\n",
       "    <tr>\n",
       "      <th>10</th>\n",
       "      <td>0902_C</td>\n",
       "      <td>11</td>\n",
       "      <td>+</td>\n",
       "      <td>***</td>\n",
       "      <td>+</td>\n",
       "      <td></td>\n",
       "    </tr>\n",
       "  </tbody>\n",
       "</table>\n",
       "</div>"
      ],
      "text/plain": [
       "   session  ID is_large sig_is_large is_pq sig_is_pq\n",
       "1   0902_C   2        +          ***     +          \n",
       "6   0902_C   7        +                  +          \n",
       "10  0902_C  11        +          ***     +          "
      ]
     },
     "execution_count": 13,
     "metadata": {},
     "output_type": "execute_result"
    }
   ],
   "source": [
    "# 檢視結果特別的人\n",
    "result_no_interaction.loc[(result_no_interaction['is_large'] == '+') & (result_no_interaction['is_pq'] == '+')]"
   ]
  },
  {
   "cell_type": "code",
   "execution_count": null,
   "metadata": {},
   "outputs": [],
   "source": []
  }
 ],
 "metadata": {
  "kernelspec": {
   "display_name": "Python 3",
   "language": "python",
   "name": "python3"
  },
  "language_info": {
   "codemirror_mode": {
    "name": "ipython",
    "version": 3
   },
   "file_extension": ".py",
   "mimetype": "text/x-python",
   "name": "python",
   "nbconvert_exporter": "python",
   "pygments_lexer": "ipython3",
   "version": "3.8.5"
  }
 },
 "nbformat": 4,
 "nbformat_minor": 4
}
