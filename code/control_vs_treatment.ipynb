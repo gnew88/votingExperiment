{
 "cells": [
  {
   "cell_type": "markdown",
   "metadata": {},
   "source": [
    "## Control v.s. Treatment"
   ]
  },
  {
   "cell_type": "code",
   "execution_count": 1,
   "metadata": {},
   "outputs": [],
   "source": [
    "import os\n",
    "import pandas as pd\n",
    "import pingouin as pt\n",
    "import warnings\n",
    "\n",
    "warnings.filterwarnings('ignore')"
   ]
  },
  {
   "cell_type": "code",
   "execution_count": 2,
   "metadata": {},
   "outputs": [],
   "source": [
    "pd.set_option('display.float_format', '{:.3f}'.format)"
   ]
  },
  {
   "cell_type": "markdown",
   "metadata": {},
   "source": [
    "### ```拆分成 control 與 treatment```"
   ]
  },
  {
   "cell_type": "code",
   "execution_count": 3,
   "metadata": {},
   "outputs": [],
   "source": [
    "merge = pd.read_csv(r'C:\\Users\\User\\Desktop\\poll\\data\\processed_data\\merge_data.csv', index_col=0)\n",
    "control = merge.loc[(merge['treatment'] == 0)]\n",
    "treatment = merge.loc[(merge['treatment'] == 1)]"
   ]
  },
  {
   "cell_type": "code",
   "execution_count": 4,
   "metadata": {},
   "outputs": [],
   "source": [
    "# control wtp\n",
    "control_wtp = control[['player.wtp_voting_cost', 'player.wtp_voting_cost_pq', 'sb_condition']]\n",
    "control_wtp['wtp_sum'] = control_wtp.apply(lambda x : x['player.wtp_voting_cost'] + x['player.wtp_voting_cost_pq'], axis = 1)\n",
    "\n",
    "# treatment wtp\n",
    "treatment_wtp = treatment[['player.wtp_voting_cost', 'sb_condition']]\n",
    "treatment_wtp.rename(columns = {'player.wtp_voting_cost':'wtp'}, inplace = True)"
   ]
  },
  {
   "cell_type": "markdown",
   "metadata": {},
   "source": [
    "### ```拆分成大大、小小、大小、小大```"
   ]
  },
  {
   "cell_type": "code",
   "execution_count": 5,
   "metadata": {},
   "outputs": [],
   "source": [
    "# select data based on sb_condition\n",
    "bb = 'bb'\n",
    "bb_t = treatment_wtp.query('sb_condition == @bb')\n",
    "bb_c = control_wtp.query('sb_condition == @bb')\n",
    "\n",
    "ss = 'ss'\n",
    "ss_t = treatment_wtp.query('sb_condition == @ss')\n",
    "ss_c = control_wtp.query('sb_condition == @ss')\n",
    "\n",
    "sb = 'sb'\n",
    "sb_t = treatment_wtp.query('sb_condition == @sb')\n",
    "sb_c = control_wtp.query('sb_condition == @sb')\n",
    "\n",
    "bs = 'bs'\n",
    "bs_t = treatment_wtp.query('sb_condition == @bs')\n",
    "bs_c = control_wtp.query('sb_condition == @bs')"
   ]
  },
  {
   "cell_type": "code",
   "execution_count": 6,
   "metadata": {},
   "outputs": [
    {
     "name": "stdout",
     "output_type": "stream",
     "text": [
      "control group:\n",
      "【大大】: 540\n",
      "【大小】: 420\n",
      "【小大】: 420\n",
      "【小小】: 420\n",
      "---------------------\n",
      "treatment group:\n",
      "【大大】: 135\n",
      "【大小】: 105\n",
      "【小大】: 105\n",
      "【小小】: 105\n"
     ]
    }
   ],
   "source": [
    "# 顯示人數分配\n",
    "print('control group:')\n",
    "print(f\"【大大】: {len(bb_c)}\")\n",
    "print(f\"【大小】: {len(bs_c)}\")\n",
    "print(f\"【小大】: {len(sb_c)}\")\n",
    "print(f\"【小小】: {len(ss_c)}\")\n",
    "\n",
    "print('---------------------')\n",
    "\n",
    "print('treatment group:')\n",
    "print(f\"【大大】: {len(bb_t)}\")\n",
    "print(f\"【大小】: {len(bs_t)}\")\n",
    "print(f\"【小大】: {len(sb_t)}\")\n",
    "print(f\"【小小】: {len(ss_t)}\")"
   ]
  },
  {
   "cell_type": "markdown",
   "metadata": {},
   "source": [
    "### ```all```"
   ]
  },
  {
   "cell_type": "code",
   "execution_count": 7,
   "metadata": {},
   "outputs": [
    {
     "data": {
      "text/html": [
       "<div>\n",
       "<style scoped>\n",
       "    .dataframe tbody tr th:only-of-type {\n",
       "        vertical-align: middle;\n",
       "    }\n",
       "\n",
       "    .dataframe tbody tr th {\n",
       "        vertical-align: top;\n",
       "    }\n",
       "\n",
       "    .dataframe thead th {\n",
       "        text-align: right;\n",
       "    }\n",
       "</style>\n",
       "<table border=\"1\" class=\"dataframe\">\n",
       "  <thead>\n",
       "    <tr style=\"text-align: right;\">\n",
       "      <th></th>\n",
       "      <th>T</th>\n",
       "      <th>dof</th>\n",
       "      <th>alternative</th>\n",
       "      <th>p-val</th>\n",
       "      <th>CI95%</th>\n",
       "      <th>cohen-d</th>\n",
       "      <th>BF10</th>\n",
       "      <th>power</th>\n",
       "    </tr>\n",
       "  </thead>\n",
       "  <tbody>\n",
       "    <tr>\n",
       "      <th>T-test</th>\n",
       "      <td>12.065</td>\n",
       "      <td>852.132</td>\n",
       "      <td>two-sided</td>\n",
       "      <td>0.000</td>\n",
       "      <td>[9.19, 12.76]</td>\n",
       "      <td>0.551</td>\n",
       "      <td>1.449e+29</td>\n",
       "      <td>1.000</td>\n",
       "    </tr>\n",
       "  </tbody>\n",
       "</table>\n",
       "</div>"
      ],
      "text/plain": [
       "            T     dof alternative  p-val          CI95%  cohen-d       BF10  \\\n",
       "T-test 12.065 852.132   two-sided  0.000  [9.19, 12.76]    0.551  1.449e+29   \n",
       "\n",
       "        power  \n",
       "T-test  1.000  "
      ]
     },
     "execution_count": 7,
     "metadata": {},
     "output_type": "execute_result"
    }
   ],
   "source": [
    "# implement unpaired ttest\n",
    "pt.ttest(control_wtp['wtp_sum'], treatment_wtp['wtp'], paired = False)"
   ]
  },
  {
   "cell_type": "code",
   "execution_count": 8,
   "metadata": {},
   "outputs": [
    {
     "name": "stdout",
     "output_type": "stream",
     "text": [
      "control 與 treatment 的 wtp 平均值\n",
      "---------------------------------\n",
      "control: 25.413333333333334\n",
      "treamtent : 14.44\n"
     ]
    }
   ],
   "source": [
    "# get the mean of wtp\n",
    "print('control 與 treatment 的 wtp 平均值')\n",
    "print('---------------------------------')\n",
    "print(f\"control: {control_wtp['wtp_sum'].describe()['mean']}\")\n",
    "print(f\"treamtent : {treatment_wtp['wtp'].describe()['mean']}\")"
   ]
  },
  {
   "cell_type": "markdown",
   "metadata": {},
   "source": [
    "### ```bb```"
   ]
  },
  {
   "cell_type": "code",
   "execution_count": 9,
   "metadata": {},
   "outputs": [
    {
     "data": {
      "text/html": [
       "<div>\n",
       "<style scoped>\n",
       "    .dataframe tbody tr th:only-of-type {\n",
       "        vertical-align: middle;\n",
       "    }\n",
       "\n",
       "    .dataframe tbody tr th {\n",
       "        vertical-align: top;\n",
       "    }\n",
       "\n",
       "    .dataframe thead th {\n",
       "        text-align: right;\n",
       "    }\n",
       "</style>\n",
       "<table border=\"1\" class=\"dataframe\">\n",
       "  <thead>\n",
       "    <tr style=\"text-align: right;\">\n",
       "      <th></th>\n",
       "      <th>T</th>\n",
       "      <th>dof</th>\n",
       "      <th>alternative</th>\n",
       "      <th>p-val</th>\n",
       "      <th>CI95%</th>\n",
       "      <th>cohen-d</th>\n",
       "      <th>BF10</th>\n",
       "      <th>power</th>\n",
       "    </tr>\n",
       "  </thead>\n",
       "  <tbody>\n",
       "    <tr>\n",
       "      <th>T-test</th>\n",
       "      <td>7.006</td>\n",
       "      <td>248.136</td>\n",
       "      <td>two-sided</td>\n",
       "      <td>0.000</td>\n",
       "      <td>[9.16, 16.33]</td>\n",
       "      <td>0.593</td>\n",
       "      <td>1.153e+09</td>\n",
       "      <td>1.000</td>\n",
       "    </tr>\n",
       "  </tbody>\n",
       "</table>\n",
       "</div>"
      ],
      "text/plain": [
       "           T     dof alternative  p-val          CI95%  cohen-d       BF10  \\\n",
       "T-test 7.006 248.136   two-sided  0.000  [9.16, 16.33]    0.593  1.153e+09   \n",
       "\n",
       "        power  \n",
       "T-test  1.000  "
      ]
     },
     "execution_count": 9,
     "metadata": {},
     "output_type": "execute_result"
    }
   ],
   "source": [
    "# bb\n",
    "pt.ttest(bb_c['wtp_sum'], bb_t['wtp'], paired = False)"
   ]
  },
  {
   "cell_type": "code",
   "execution_count": 10,
   "metadata": {},
   "outputs": [
    {
     "name": "stdout",
     "output_type": "stream",
     "text": [
      "【大大】control 與 treatment 的 wtp 平均值\n",
      "---------------------------------\n",
      "control: 31.85925925925926\n",
      "treamtent: 19.11111111111111\n"
     ]
    }
   ],
   "source": [
    "# get the mean of wtp\n",
    "print('【大大】control 與 treatment 的 wtp 平均值')\n",
    "print('---------------------------------')\n",
    "print(f\"control: {bb_c['wtp_sum'].describe()['mean']}\")\n",
    "print(f\"treamtent: {bb_t['wtp'].describe()['mean']}\")"
   ]
  },
  {
   "cell_type": "markdown",
   "metadata": {},
   "source": [
    "### ```ss```"
   ]
  },
  {
   "cell_type": "code",
   "execution_count": 11,
   "metadata": {},
   "outputs": [
    {
     "data": {
      "text/html": [
       "<div>\n",
       "<style scoped>\n",
       "    .dataframe tbody tr th:only-of-type {\n",
       "        vertical-align: middle;\n",
       "    }\n",
       "\n",
       "    .dataframe tbody tr th {\n",
       "        vertical-align: top;\n",
       "    }\n",
       "\n",
       "    .dataframe thead th {\n",
       "        text-align: right;\n",
       "    }\n",
       "</style>\n",
       "<table border=\"1\" class=\"dataframe\">\n",
       "  <thead>\n",
       "    <tr style=\"text-align: right;\">\n",
       "      <th></th>\n",
       "      <th>T</th>\n",
       "      <th>dof</th>\n",
       "      <th>alternative</th>\n",
       "      <th>p-val</th>\n",
       "      <th>CI95%</th>\n",
       "      <th>cohen-d</th>\n",
       "      <th>BF10</th>\n",
       "      <th>power</th>\n",
       "    </tr>\n",
       "  </thead>\n",
       "  <tbody>\n",
       "    <tr>\n",
       "      <th>T-test</th>\n",
       "      <td>5.965</td>\n",
       "      <td>191.235</td>\n",
       "      <td>two-sided</td>\n",
       "      <td>0.000</td>\n",
       "      <td>[6.15, 12.23]</td>\n",
       "      <td>0.575</td>\n",
       "      <td>2.081e+06</td>\n",
       "      <td>1.000</td>\n",
       "    </tr>\n",
       "  </tbody>\n",
       "</table>\n",
       "</div>"
      ],
      "text/plain": [
       "           T     dof alternative  p-val          CI95%  cohen-d       BF10  \\\n",
       "T-test 5.965 191.235   two-sided  0.000  [6.15, 12.23]    0.575  2.081e+06   \n",
       "\n",
       "        power  \n",
       "T-test  1.000  "
      ]
     },
     "execution_count": 11,
     "metadata": {},
     "output_type": "execute_result"
    }
   ],
   "source": [
    "# ss\n",
    "pt.ttest(ss_c['wtp_sum'], ss_t['wtp'], paired = False)"
   ]
  },
  {
   "cell_type": "code",
   "execution_count": 12,
   "metadata": {},
   "outputs": [
    {
     "name": "stdout",
     "output_type": "stream",
     "text": [
      "【小小】control 與 treatment 的 wtp 平均值\n",
      "---------------------------------\n",
      "control: 17.63095238095238\n",
      "treamtent: 8.438095238095238\n"
     ]
    }
   ],
   "source": [
    "# get the mean of wtp\n",
    "print('【小小】control 與 treatment 的 wtp 平均值')\n",
    "print('---------------------------------')\n",
    "print(f\"control: {ss_c['wtp_sum'].describe()['mean']}\")\n",
    "print(f\"treamtent: {ss_t['wtp'].describe()['mean']}\")"
   ]
  },
  {
   "cell_type": "markdown",
   "metadata": {},
   "source": [
    "### ```sb```"
   ]
  },
  {
   "cell_type": "code",
   "execution_count": 13,
   "metadata": {},
   "outputs": [
    {
     "data": {
      "text/html": [
       "<div>\n",
       "<style scoped>\n",
       "    .dataframe tbody tr th:only-of-type {\n",
       "        vertical-align: middle;\n",
       "    }\n",
       "\n",
       "    .dataframe tbody tr th {\n",
       "        vertical-align: top;\n",
       "    }\n",
       "\n",
       "    .dataframe thead th {\n",
       "        text-align: right;\n",
       "    }\n",
       "</style>\n",
       "<table border=\"1\" class=\"dataframe\">\n",
       "  <thead>\n",
       "    <tr style=\"text-align: right;\">\n",
       "      <th></th>\n",
       "      <th>T</th>\n",
       "      <th>dof</th>\n",
       "      <th>alternative</th>\n",
       "      <th>p-val</th>\n",
       "      <th>CI95%</th>\n",
       "      <th>cohen-d</th>\n",
       "      <th>BF10</th>\n",
       "      <th>power</th>\n",
       "    </tr>\n",
       "  </thead>\n",
       "  <tbody>\n",
       "    <tr>\n",
       "      <th>T-test</th>\n",
       "      <td>5.237</td>\n",
       "      <td>221.179</td>\n",
       "      <td>two-sided</td>\n",
       "      <td>0.000</td>\n",
       "      <td>[6.35, 14.01]</td>\n",
       "      <td>0.466</td>\n",
       "      <td>4.92e+04</td>\n",
       "      <td>0.989</td>\n",
       "    </tr>\n",
       "  </tbody>\n",
       "</table>\n",
       "</div>"
      ],
      "text/plain": [
       "           T     dof alternative  p-val          CI95%  cohen-d      BF10  \\\n",
       "T-test 5.237 221.179   two-sided  0.000  [6.35, 14.01]    0.466  4.92e+04   \n",
       "\n",
       "        power  \n",
       "T-test  0.989  "
      ]
     },
     "execution_count": 13,
     "metadata": {},
     "output_type": "execute_result"
    }
   ],
   "source": [
    "# sb\n",
    "pt.ttest(sb_c['wtp_sum'], sb_t['wtp'], paired = False)"
   ]
  },
  {
   "cell_type": "code",
   "execution_count": 14,
   "metadata": {},
   "outputs": [
    {
     "name": "stdout",
     "output_type": "stream",
     "text": [
      "【小大】control 與 treatment 的 wtp 平均值\n",
      "---------------------------------\n",
      "control: 26.083333333333332\n",
      "treamtent: 15.904761904761905\n"
     ]
    }
   ],
   "source": [
    "# get the mean of wtp\n",
    "print('【小大】control 與 treatment 的 wtp 平均值')\n",
    "print('---------------------------------')\n",
    "print(f\"control: {sb_c['wtp_sum'].describe()['mean']}\")\n",
    "print(f\"treamtent: {sb_t['wtp'].describe()['mean']}\")"
   ]
  },
  {
   "cell_type": "markdown",
   "metadata": {},
   "source": [
    "### ```bs```"
   ]
  },
  {
   "cell_type": "code",
   "execution_count": 15,
   "metadata": {},
   "outputs": [
    {
     "data": {
      "text/html": [
       "<div>\n",
       "<style scoped>\n",
       "    .dataframe tbody tr th:only-of-type {\n",
       "        vertical-align: middle;\n",
       "    }\n",
       "\n",
       "    .dataframe tbody tr th {\n",
       "        vertical-align: top;\n",
       "    }\n",
       "\n",
       "    .dataframe thead th {\n",
       "        text-align: right;\n",
       "    }\n",
       "</style>\n",
       "<table border=\"1\" class=\"dataframe\">\n",
       "  <thead>\n",
       "    <tr style=\"text-align: right;\">\n",
       "      <th></th>\n",
       "      <th>T</th>\n",
       "      <th>dof</th>\n",
       "      <th>alternative</th>\n",
       "      <th>p-val</th>\n",
       "      <th>CI95%</th>\n",
       "      <th>cohen-d</th>\n",
       "      <th>BF10</th>\n",
       "      <th>power</th>\n",
       "    </tr>\n",
       "  </thead>\n",
       "  <tbody>\n",
       "    <tr>\n",
       "      <th>T-test</th>\n",
       "      <td>6.840</td>\n",
       "      <td>179.055</td>\n",
       "      <td>two-sided</td>\n",
       "      <td>0.000</td>\n",
       "      <td>[8.02, 14.52]</td>\n",
       "      <td>0.687</td>\n",
       "      <td>3.315e+08</td>\n",
       "      <td>1.000</td>\n",
       "    </tr>\n",
       "  </tbody>\n",
       "</table>\n",
       "</div>"
      ],
      "text/plain": [
       "           T     dof alternative  p-val          CI95%  cohen-d       BF10  \\\n",
       "T-test 6.840 179.055   two-sided  0.000  [8.02, 14.52]    0.687  3.315e+08   \n",
       "\n",
       "        power  \n",
       "T-test  1.000  "
      ]
     },
     "execution_count": 15,
     "metadata": {},
     "output_type": "execute_result"
    }
   ],
   "source": [
    "# bs\n",
    "pt.ttest(bs_c['wtp_sum'], bs_t['wtp'], paired = False)"
   ]
  },
  {
   "cell_type": "code",
   "execution_count": 16,
   "metadata": {},
   "outputs": [
    {
     "name": "stdout",
     "output_type": "stream",
     "text": [
      "【大小】control 與 treatment 的 wtp 平均值\n",
      "---------------------------------\n",
      "control: 24.238095238095237\n",
      "treamtent: 12.971428571428572\n"
     ]
    }
   ],
   "source": [
    "# get the mean of wtp\n",
    "print('【大小】control 與 treatment 的 wtp 平均值')\n",
    "print('---------------------------------')\n",
    "print(f\"control: {bs_c['wtp_sum'].describe()['mean']}\")\n",
    "print(f\"treamtent: {bs_t['wtp'].describe()['mean']}\")"
   ]
  },
  {
   "cell_type": "code",
   "execution_count": null,
   "metadata": {},
   "outputs": [],
   "source": []
  }
 ],
 "metadata": {
  "kernelspec": {
   "display_name": "Python 3",
   "language": "python",
   "name": "python3"
  },
  "language_info": {
   "codemirror_mode": {
    "name": "ipython",
    "version": 3
   },
   "file_extension": ".py",
   "mimetype": "text/x-python",
   "name": "python",
   "nbconvert_exporter": "python",
   "pygments_lexer": "ipython3",
   "version": "3.8.5"
  }
 },
 "nbformat": 4,
 "nbformat_minor": 4
}
