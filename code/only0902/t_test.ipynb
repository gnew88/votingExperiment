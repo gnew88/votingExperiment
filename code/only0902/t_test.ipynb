{
 "cells": [
  {
   "cell_type": "markdown",
   "metadata": {},
   "source": [
    "## 有門檻 v.s. 沒門檻 t 檢定\n",
    "- 使用 control 的資料"
   ]
  },
  {
   "cell_type": "code",
   "execution_count": 1,
   "metadata": {},
   "outputs": [],
   "source": [
    "import os\n",
    "import pandas as pd\n",
    "import pingouin as pt\n",
    "import warnings\n",
    "\n",
    "warnings.filterwarnings('ignore')"
   ]
  },
  {
   "cell_type": "code",
   "execution_count": 2,
   "metadata": {},
   "outputs": [],
   "source": [
    "pd.set_option('display.float_format', '{:.3f}'.format)"
   ]
  },
  {
   "cell_type": "code",
   "execution_count": 3,
   "metadata": {},
   "outputs": [],
   "source": [
    "all_data = pd.read_csv(r'C:\\Users\\User\\Desktop\\poll\\data\\processed_data\\merge_data.csv', index_col=0)\n",
    "data = all_data.loc[(all_data['treatment'] == 0)]"
   ]
  },
  {
   "cell_type": "markdown",
   "metadata": {},
   "source": [
    "### ```檢視人數分配```"
   ]
  },
  {
   "cell_type": "code",
   "execution_count": 4,
   "metadata": {},
   "outputs": [
    {
     "name": "stdout",
     "output_type": "stream",
     "text": [
      "資料筆數: 450\n",
      "---------------------\n",
      "沒門檻/有門檻人數分配\n"
     ]
    },
    {
     "data": {
      "text/plain": [
       "sb_condition\n",
       "bb    135\n",
       "bs    105\n",
       "sb    105\n",
       "ss    105\n",
       "dtype: int64"
      ]
     },
     "metadata": {},
     "output_type": "display_data"
    },
    {
     "name": "stdout",
     "output_type": "stream",
     "text": [
      "---------------------\n",
      "大大底下的兩種情況\n"
     ]
    },
    {
     "data": {
      "text/plain": [
       "sb_condition  bb_pq    \n",
       "bb            different     15\n",
       "              same         120\n",
       "dtype: int64"
      ]
     },
     "metadata": {},
     "output_type": "display_data"
    },
    {
     "name": "stdout",
     "output_type": "stream",
     "text": [
      "---------------------\n"
     ]
    }
   ],
   "source": [
    "# 檢視人數\n",
    "print(f\"資料筆數: {len(data)}\")\n",
    "print(\"---------------------\")\n",
    "\n",
    "print('沒門檻/有門檻人數分配')\n",
    "display(data.groupby(['sb_condition']).size())\n",
    "print('---------------------')\n",
    "\n",
    "print('大大底下的兩種情況')\n",
    "display(data.groupby(['sb_condition', 'bb_pq']).size())\n",
    "print('---------------------')"
   ]
  },
  {
   "cell_type": "markdown",
   "metadata": {},
   "source": [
    "### ```區分為大大、小小、小大、大小```"
   ]
  },
  {
   "cell_type": "code",
   "execution_count": 5,
   "metadata": {},
   "outputs": [],
   "source": [
    "# select data based on sb_condition\n",
    "bb = 'bb'\n",
    "bb_data = data.query('sb_condition == @bb')\n",
    "\n",
    "ss = 'ss'\n",
    "ss_data = data.query('sb_condition == @ss')\n",
    "\n",
    "sb = 'sb'\n",
    "sb_data = data.query('sb_condition == @sb')\n",
    "\n",
    "bs = 'bs'\n",
    "bs_data = data.query('sb_condition == @bs')"
   ]
  },
  {
   "cell_type": "markdown",
   "metadata": {},
   "source": [
    "### t-test for 4 combinations\n",
    "- 上: paired\n",
    "- 下: 沒有 paired"
   ]
  },
  {
   "cell_type": "markdown",
   "metadata": {},
   "source": [
    "### ```all```"
   ]
  },
  {
   "cell_type": "code",
   "execution_count": 6,
   "metadata": {},
   "outputs": [
    {
     "data": {
      "text/html": [
       "<div>\n",
       "<style scoped>\n",
       "    .dataframe tbody tr th:only-of-type {\n",
       "        vertical-align: middle;\n",
       "    }\n",
       "\n",
       "    .dataframe tbody tr th {\n",
       "        vertical-align: top;\n",
       "    }\n",
       "\n",
       "    .dataframe thead th {\n",
       "        text-align: right;\n",
       "    }\n",
       "</style>\n",
       "<table border=\"1\" class=\"dataframe\">\n",
       "  <thead>\n",
       "    <tr style=\"text-align: right;\">\n",
       "      <th></th>\n",
       "      <th>T</th>\n",
       "      <th>dof</th>\n",
       "      <th>alternative</th>\n",
       "      <th>p-val</th>\n",
       "      <th>CI95%</th>\n",
       "      <th>cohen-d</th>\n",
       "      <th>BF10</th>\n",
       "      <th>power</th>\n",
       "    </tr>\n",
       "  </thead>\n",
       "  <tbody>\n",
       "    <tr>\n",
       "      <th>T-test</th>\n",
       "      <td>8.841</td>\n",
       "      <td>449</td>\n",
       "      <td>two-sided</td>\n",
       "      <td>0.000</td>\n",
       "      <td>[5.12, 8.05]</td>\n",
       "      <td>0.455</td>\n",
       "      <td>1.9e+14</td>\n",
       "      <td>1.000</td>\n",
       "    </tr>\n",
       "  </tbody>\n",
       "</table>\n",
       "</div>"
      ],
      "text/plain": [
       "           T  dof alternative  p-val         CI95%  cohen-d     BF10  power\n",
       "T-test 8.841  449   two-sided  0.000  [5.12, 8.05]    0.455  1.9e+14  1.000"
      ]
     },
     "metadata": {},
     "output_type": "display_data"
    },
    {
     "data": {
      "text/html": [
       "<div>\n",
       "<style scoped>\n",
       "    .dataframe tbody tr th:only-of-type {\n",
       "        vertical-align: middle;\n",
       "    }\n",
       "\n",
       "    .dataframe tbody tr th {\n",
       "        vertical-align: top;\n",
       "    }\n",
       "\n",
       "    .dataframe thead th {\n",
       "        text-align: right;\n",
       "    }\n",
       "</style>\n",
       "<table border=\"1\" class=\"dataframe\">\n",
       "  <thead>\n",
       "    <tr style=\"text-align: right;\">\n",
       "      <th></th>\n",
       "      <th>T</th>\n",
       "      <th>dof</th>\n",
       "      <th>alternative</th>\n",
       "      <th>p-val</th>\n",
       "      <th>CI95%</th>\n",
       "      <th>cohen-d</th>\n",
       "      <th>BF10</th>\n",
       "      <th>power</th>\n",
       "    </tr>\n",
       "  </thead>\n",
       "  <tbody>\n",
       "    <tr>\n",
       "      <th>T-test</th>\n",
       "      <td>6.830</td>\n",
       "      <td>898</td>\n",
       "      <td>two-sided</td>\n",
       "      <td>0.000</td>\n",
       "      <td>[4.7, 8.48]</td>\n",
       "      <td>0.455</td>\n",
       "      <td>4.091e+08</td>\n",
       "      <td>1.000</td>\n",
       "    </tr>\n",
       "  </tbody>\n",
       "</table>\n",
       "</div>"
      ],
      "text/plain": [
       "           T  dof alternative  p-val        CI95%  cohen-d       BF10  power\n",
       "T-test 6.830  898   two-sided  0.000  [4.7, 8.48]    0.455  4.091e+08  1.000"
      ]
     },
     "metadata": {},
     "output_type": "display_data"
    }
   ],
   "source": [
    "# perform t test - all\n",
    "display(pt.ttest(data['player.wtp_voting_cost'], data['player.wtp_voting_cost_pq'], paired = True))\n",
    "display(pt.ttest(data['player.wtp_voting_cost'], data['player.wtp_voting_cost_pq'], paired = False))"
   ]
  },
  {
   "cell_type": "code",
   "execution_count": 7,
   "metadata": {},
   "outputs": [
    {
     "name": "stdout",
     "output_type": "stream",
     "text": [
      "【全部資料】有門檻與沒門檻的 wtp 平均值\n",
      "------------------------\n",
      "沒門檻: 18.18888888888889\n",
      "有門檻: 11.6\n"
     ]
    }
   ],
   "source": [
    "# get the mean\n",
    "print('【全部資料】有門檻與沒門檻的 wtp 平均值')\n",
    "print('------------------------')\n",
    "print(f\"沒門檻: {data['player.wtp_voting_cost'].describe()['mean']}\")\n",
    "print(f\"有門檻: {data['player.wtp_voting_cost_pq'].describe()['mean']}\")"
   ]
  },
  {
   "cell_type": "markdown",
   "metadata": {},
   "source": [
    "### ```bb```"
   ]
  },
  {
   "cell_type": "code",
   "execution_count": 8,
   "metadata": {},
   "outputs": [
    {
     "data": {
      "text/html": [
       "<div>\n",
       "<style scoped>\n",
       "    .dataframe tbody tr th:only-of-type {\n",
       "        vertical-align: middle;\n",
       "    }\n",
       "\n",
       "    .dataframe tbody tr th {\n",
       "        vertical-align: top;\n",
       "    }\n",
       "\n",
       "    .dataframe thead th {\n",
       "        text-align: right;\n",
       "    }\n",
       "</style>\n",
       "<table border=\"1\" class=\"dataframe\">\n",
       "  <thead>\n",
       "    <tr style=\"text-align: right;\">\n",
       "      <th></th>\n",
       "      <th>T</th>\n",
       "      <th>dof</th>\n",
       "      <th>alternative</th>\n",
       "      <th>p-val</th>\n",
       "      <th>CI95%</th>\n",
       "      <th>cohen-d</th>\n",
       "      <th>BF10</th>\n",
       "      <th>power</th>\n",
       "    </tr>\n",
       "  </thead>\n",
       "  <tbody>\n",
       "    <tr>\n",
       "      <th>T-test</th>\n",
       "      <td>4.955</td>\n",
       "      <td>134</td>\n",
       "      <td>two-sided</td>\n",
       "      <td>0.000</td>\n",
       "      <td>[2.66, 6.2]</td>\n",
       "      <td>0.293</td>\n",
       "      <td>6095.691</td>\n",
       "      <td>0.921</td>\n",
       "    </tr>\n",
       "  </tbody>\n",
       "</table>\n",
       "</div>"
      ],
      "text/plain": [
       "           T  dof alternative  p-val        CI95%  cohen-d      BF10  power\n",
       "T-test 4.955  134   two-sided  0.000  [2.66, 6.2]    0.293  6095.691  0.921"
      ]
     },
     "metadata": {},
     "output_type": "display_data"
    },
    {
     "data": {
      "text/html": [
       "<div>\n",
       "<style scoped>\n",
       "    .dataframe tbody tr th:only-of-type {\n",
       "        vertical-align: middle;\n",
       "    }\n",
       "\n",
       "    .dataframe tbody tr th {\n",
       "        vertical-align: top;\n",
       "    }\n",
       "\n",
       "    .dataframe thead th {\n",
       "        text-align: right;\n",
       "    }\n",
       "</style>\n",
       "<table border=\"1\" class=\"dataframe\">\n",
       "  <thead>\n",
       "    <tr style=\"text-align: right;\">\n",
       "      <th></th>\n",
       "      <th>T</th>\n",
       "      <th>dof</th>\n",
       "      <th>alternative</th>\n",
       "      <th>p-val</th>\n",
       "      <th>CI95%</th>\n",
       "      <th>cohen-d</th>\n",
       "      <th>BF10</th>\n",
       "      <th>power</th>\n",
       "    </tr>\n",
       "  </thead>\n",
       "  <tbody>\n",
       "    <tr>\n",
       "      <th>T-test</th>\n",
       "      <td>2.403</td>\n",
       "      <td>268</td>\n",
       "      <td>two-sided</td>\n",
       "      <td>0.017</td>\n",
       "      <td>[0.8, 8.06]</td>\n",
       "      <td>0.293</td>\n",
       "      <td>2.04</td>\n",
       "      <td>0.668</td>\n",
       "    </tr>\n",
       "  </tbody>\n",
       "</table>\n",
       "</div>"
      ],
      "text/plain": [
       "           T  dof alternative  p-val        CI95%  cohen-d  BF10  power\n",
       "T-test 2.403  268   two-sided  0.017  [0.8, 8.06]    0.293  2.04  0.668"
      ]
     },
     "metadata": {},
     "output_type": "display_data"
    }
   ],
   "source": [
    "# perform t test - bb\n",
    "display(pt.ttest(bb_data['player.wtp_voting_cost'], bb_data['player.wtp_voting_cost_pq'], paired = True))\n",
    "display(pt.ttest(bb_data['player.wtp_voting_cost'], bb_data['player.wtp_voting_cost_pq'], paired = False))"
   ]
  },
  {
   "cell_type": "code",
   "execution_count": 9,
   "metadata": {},
   "outputs": [
    {
     "name": "stdout",
     "output_type": "stream",
     "text": [
      "【BB 資料】有門檻與沒門檻的 wtp 平均值\n",
      "------------------------\n",
      "沒門檻: 22.103703703703705\n",
      "有門檻: 17.674074074074074\n"
     ]
    }
   ],
   "source": [
    "# get the mean\n",
    "print('【BB 資料】有門檻與沒門檻的 wtp 平均值')\n",
    "print('------------------------')\n",
    "print(f\"沒門檻: {bb_data['player.wtp_voting_cost'].describe()['mean']}\")\n",
    "print(f\"有門檻: {bb_data['player.wtp_voting_cost_pq'].describe()['mean']}\")"
   ]
  },
  {
   "cell_type": "markdown",
   "metadata": {},
   "source": [
    "- bb_pq: same "
   ]
  },
  {
   "cell_type": "code",
   "execution_count": 10,
   "metadata": {},
   "outputs": [
    {
     "data": {
      "text/html": [
       "<div>\n",
       "<style scoped>\n",
       "    .dataframe tbody tr th:only-of-type {\n",
       "        vertical-align: middle;\n",
       "    }\n",
       "\n",
       "    .dataframe tbody tr th {\n",
       "        vertical-align: top;\n",
       "    }\n",
       "\n",
       "    .dataframe thead th {\n",
       "        text-align: right;\n",
       "    }\n",
       "</style>\n",
       "<table border=\"1\" class=\"dataframe\">\n",
       "  <thead>\n",
       "    <tr style=\"text-align: right;\">\n",
       "      <th></th>\n",
       "      <th>T</th>\n",
       "      <th>dof</th>\n",
       "      <th>alternative</th>\n",
       "      <th>p-val</th>\n",
       "      <th>CI95%</th>\n",
       "      <th>cohen-d</th>\n",
       "      <th>BF10</th>\n",
       "      <th>power</th>\n",
       "    </tr>\n",
       "  </thead>\n",
       "  <tbody>\n",
       "    <tr>\n",
       "      <th>T-test</th>\n",
       "      <td>4.824</td>\n",
       "      <td>119</td>\n",
       "      <td>two-sided</td>\n",
       "      <td>0.000</td>\n",
       "      <td>[2.74, 6.56]</td>\n",
       "      <td>0.307</td>\n",
       "      <td>3344.934</td>\n",
       "      <td>0.916</td>\n",
       "    </tr>\n",
       "  </tbody>\n",
       "</table>\n",
       "</div>"
      ],
      "text/plain": [
       "           T  dof alternative  p-val         CI95%  cohen-d      BF10  power\n",
       "T-test 4.824  119   two-sided  0.000  [2.74, 6.56]    0.307  3344.934  0.916"
      ]
     },
     "metadata": {},
     "output_type": "display_data"
    },
    {
     "data": {
      "text/html": [
       "<div>\n",
       "<style scoped>\n",
       "    .dataframe tbody tr th:only-of-type {\n",
       "        vertical-align: middle;\n",
       "    }\n",
       "\n",
       "    .dataframe tbody tr th {\n",
       "        vertical-align: top;\n",
       "    }\n",
       "\n",
       "    .dataframe thead th {\n",
       "        text-align: right;\n",
       "    }\n",
       "</style>\n",
       "<table border=\"1\" class=\"dataframe\">\n",
       "  <thead>\n",
       "    <tr style=\"text-align: right;\">\n",
       "      <th></th>\n",
       "      <th>T</th>\n",
       "      <th>dof</th>\n",
       "      <th>alternative</th>\n",
       "      <th>p-val</th>\n",
       "      <th>CI95%</th>\n",
       "      <th>cohen-d</th>\n",
       "      <th>BF10</th>\n",
       "      <th>power</th>\n",
       "    </tr>\n",
       "  </thead>\n",
       "  <tbody>\n",
       "    <tr>\n",
       "      <th>T-test</th>\n",
       "      <td>2.382</td>\n",
       "      <td>238</td>\n",
       "      <td>two-sided</td>\n",
       "      <td>0.018</td>\n",
       "      <td>[0.8, 8.5]</td>\n",
       "      <td>0.307</td>\n",
       "      <td>2.021</td>\n",
       "      <td>0.660</td>\n",
       "    </tr>\n",
       "  </tbody>\n",
       "</table>\n",
       "</div>"
      ],
      "text/plain": [
       "           T  dof alternative  p-val       CI95%  cohen-d   BF10  power\n",
       "T-test 2.382  238   two-sided  0.018  [0.8, 8.5]    0.307  2.021  0.660"
      ]
     },
     "metadata": {},
     "output_type": "display_data"
    }
   ],
   "source": [
    "# perform t test-bb(same)\n",
    "bb_same = bb_data.loc[(bb_data['bb_pq'] == 'same')]\n",
    "\n",
    "display(pt.ttest(bb_same['player.wtp_voting_cost'], bb_same['player.wtp_voting_cost_pq'], paired = True))\n",
    "display(pt.ttest(bb_same['player.wtp_voting_cost'], bb_same['player.wtp_voting_cost_pq'], paired = False))"
   ]
  },
  {
   "cell_type": "code",
   "execution_count": 11,
   "metadata": {},
   "outputs": [
    {
     "name": "stdout",
     "output_type": "stream",
     "text": [
      "【大大-隊友立場相同】有門檻與沒門檻的 wtp 平均值\n",
      "------------------------\n",
      "沒門檻: 22.008333333333333\n",
      "有門檻: 17.358333333333334\n"
     ]
    }
   ],
   "source": [
    "# get the mean\n",
    "print('【大大-隊友立場相同】有門檻與沒門檻的 wtp 平均值')\n",
    "print('------------------------')\n",
    "print(f\"沒門檻: {bb_same['player.wtp_voting_cost'].describe()['mean']}\")\n",
    "print(f\"有門檻: {bb_same['player.wtp_voting_cost_pq'].describe()['mean']}\")"
   ]
  },
  {
   "cell_type": "markdown",
   "metadata": {},
   "source": [
    "- bb_different"
   ]
  },
  {
   "cell_type": "code",
   "execution_count": 12,
   "metadata": {},
   "outputs": [
    {
     "data": {
      "text/html": [
       "<div>\n",
       "<style scoped>\n",
       "    .dataframe tbody tr th:only-of-type {\n",
       "        vertical-align: middle;\n",
       "    }\n",
       "\n",
       "    .dataframe tbody tr th {\n",
       "        vertical-align: top;\n",
       "    }\n",
       "\n",
       "    .dataframe thead th {\n",
       "        text-align: right;\n",
       "    }\n",
       "</style>\n",
       "<table border=\"1\" class=\"dataframe\">\n",
       "  <thead>\n",
       "    <tr style=\"text-align: right;\">\n",
       "      <th></th>\n",
       "      <th>T</th>\n",
       "      <th>dof</th>\n",
       "      <th>alternative</th>\n",
       "      <th>p-val</th>\n",
       "      <th>CI95%</th>\n",
       "      <th>cohen-d</th>\n",
       "      <th>BF10</th>\n",
       "      <th>power</th>\n",
       "    </tr>\n",
       "  </thead>\n",
       "  <tbody>\n",
       "    <tr>\n",
       "      <th>T-test</th>\n",
       "      <td>1.148</td>\n",
       "      <td>14</td>\n",
       "      <td>two-sided</td>\n",
       "      <td>0.270</td>\n",
       "      <td>[-2.32, 7.65]</td>\n",
       "      <td>0.170</td>\n",
       "      <td>0.459</td>\n",
       "      <td>0.094</td>\n",
       "    </tr>\n",
       "  </tbody>\n",
       "</table>\n",
       "</div>"
      ],
      "text/plain": [
       "           T  dof alternative  p-val          CI95%  cohen-d   BF10  power\n",
       "T-test 1.148   14   two-sided  0.270  [-2.32, 7.65]    0.170  0.459  0.094"
      ]
     },
     "metadata": {},
     "output_type": "display_data"
    },
    {
     "data": {
      "text/html": [
       "<div>\n",
       "<style scoped>\n",
       "    .dataframe tbody tr th:only-of-type {\n",
       "        vertical-align: middle;\n",
       "    }\n",
       "\n",
       "    .dataframe tbody tr th {\n",
       "        vertical-align: top;\n",
       "    }\n",
       "\n",
       "    .dataframe thead th {\n",
       "        text-align: right;\n",
       "    }\n",
       "</style>\n",
       "<table border=\"1\" class=\"dataframe\">\n",
       "  <thead>\n",
       "    <tr style=\"text-align: right;\">\n",
       "      <th></th>\n",
       "      <th>T</th>\n",
       "      <th>dof</th>\n",
       "      <th>alternative</th>\n",
       "      <th>p-val</th>\n",
       "      <th>CI95%</th>\n",
       "      <th>cohen-d</th>\n",
       "      <th>BF10</th>\n",
       "      <th>power</th>\n",
       "    </tr>\n",
       "  </thead>\n",
       "  <tbody>\n",
       "    <tr>\n",
       "      <th>T-test</th>\n",
       "      <td>0.465</td>\n",
       "      <td>28</td>\n",
       "      <td>two-sided</td>\n",
       "      <td>0.645</td>\n",
       "      <td>[-9.08, 14.41]</td>\n",
       "      <td>0.170</td>\n",
       "      <td>0.374</td>\n",
       "      <td>0.073</td>\n",
       "    </tr>\n",
       "  </tbody>\n",
       "</table>\n",
       "</div>"
      ],
      "text/plain": [
       "           T  dof alternative  p-val           CI95%  cohen-d   BF10  power\n",
       "T-test 0.465   28   two-sided  0.645  [-9.08, 14.41]    0.170  0.374  0.073"
      ]
     },
     "metadata": {},
     "output_type": "display_data"
    }
   ],
   "source": [
    "# perform t test-bb(same)\n",
    "bb_different = bb_data.loc[(bb_data['bb_pq'] == 'different')]\n",
    "\n",
    "display(pt.ttest(bb_different['player.wtp_voting_cost'], bb_different['player.wtp_voting_cost_pq'], paired = True))\n",
    "display(pt.ttest(bb_different['player.wtp_voting_cost'], bb_different['player.wtp_voting_cost_pq'], paired = False))"
   ]
  },
  {
   "cell_type": "code",
   "execution_count": 13,
   "metadata": {},
   "outputs": [
    {
     "name": "stdout",
     "output_type": "stream",
     "text": [
      "【大大-隊友立場不同】有門檻與沒門檻的 wtp 平均值\n",
      "------------------------\n",
      "沒門檻: 22.866666666666667\n",
      "有門檻: 20.2\n"
     ]
    }
   ],
   "source": [
    "# get the mean\n",
    "print('【大大-隊友立場不同】有門檻與沒門檻的 wtp 平均值')\n",
    "print('------------------------')\n",
    "print(f\"沒門檻: {bb_different['player.wtp_voting_cost'].describe()['mean']}\")\n",
    "print(f\"有門檻: {bb_different['player.wtp_voting_cost_pq'].describe()['mean']}\")"
   ]
  },
  {
   "cell_type": "markdown",
   "metadata": {},
   "source": [
    "### ```ss```"
   ]
  },
  {
   "cell_type": "code",
   "execution_count": 14,
   "metadata": {},
   "outputs": [
    {
     "data": {
      "text/html": [
       "<div>\n",
       "<style scoped>\n",
       "    .dataframe tbody tr th:only-of-type {\n",
       "        vertical-align: middle;\n",
       "    }\n",
       "\n",
       "    .dataframe tbody tr th {\n",
       "        vertical-align: top;\n",
       "    }\n",
       "\n",
       "    .dataframe thead th {\n",
       "        text-align: right;\n",
       "    }\n",
       "</style>\n",
       "<table border=\"1\" class=\"dataframe\">\n",
       "  <thead>\n",
       "    <tr style=\"text-align: right;\">\n",
       "      <th></th>\n",
       "      <th>T</th>\n",
       "      <th>dof</th>\n",
       "      <th>alternative</th>\n",
       "      <th>p-val</th>\n",
       "      <th>CI95%</th>\n",
       "      <th>cohen-d</th>\n",
       "      <th>BF10</th>\n",
       "      <th>power</th>\n",
       "    </tr>\n",
       "  </thead>\n",
       "  <tbody>\n",
       "    <tr>\n",
       "      <th>T-test</th>\n",
       "      <td>7.395</td>\n",
       "      <td>104</td>\n",
       "      <td>two-sided</td>\n",
       "      <td>0.000</td>\n",
       "      <td>[6.36, 11.02]</td>\n",
       "      <td>0.691</td>\n",
       "      <td>2.338e+08</td>\n",
       "      <td>1.000</td>\n",
       "    </tr>\n",
       "  </tbody>\n",
       "</table>\n",
       "</div>"
      ],
      "text/plain": [
       "           T  dof alternative  p-val          CI95%  cohen-d       BF10  power\n",
       "T-test 7.395  104   two-sided  0.000  [6.36, 11.02]    0.691  2.338e+08  1.000"
      ]
     },
     "metadata": {},
     "output_type": "display_data"
    },
    {
     "data": {
      "text/html": [
       "<div>\n",
       "<style scoped>\n",
       "    .dataframe tbody tr th:only-of-type {\n",
       "        vertical-align: middle;\n",
       "    }\n",
       "\n",
       "    .dataframe tbody tr th {\n",
       "        vertical-align: top;\n",
       "    }\n",
       "\n",
       "    .dataframe thead th {\n",
       "        text-align: right;\n",
       "    }\n",
       "</style>\n",
       "<table border=\"1\" class=\"dataframe\">\n",
       "  <thead>\n",
       "    <tr style=\"text-align: right;\">\n",
       "      <th></th>\n",
       "      <th>T</th>\n",
       "      <th>dof</th>\n",
       "      <th>alternative</th>\n",
       "      <th>p-val</th>\n",
       "      <th>CI95%</th>\n",
       "      <th>cohen-d</th>\n",
       "      <th>BF10</th>\n",
       "      <th>power</th>\n",
       "    </tr>\n",
       "  </thead>\n",
       "  <tbody>\n",
       "    <tr>\n",
       "      <th>T-test</th>\n",
       "      <td>5.009</td>\n",
       "      <td>208</td>\n",
       "      <td>two-sided</td>\n",
       "      <td>0.000</td>\n",
       "      <td>[5.27, 12.1]</td>\n",
       "      <td>0.691</td>\n",
       "      <td>1.195e+04</td>\n",
       "      <td>0.999</td>\n",
       "    </tr>\n",
       "  </tbody>\n",
       "</table>\n",
       "</div>"
      ],
      "text/plain": [
       "           T  dof alternative  p-val         CI95%  cohen-d       BF10  power\n",
       "T-test 5.009  208   two-sided  0.000  [5.27, 12.1]    0.691  1.195e+04  0.999"
      ]
     },
     "metadata": {},
     "output_type": "display_data"
    }
   ],
   "source": [
    "# perform t test - ss\n",
    "display(pt.ttest(ss_data['player.wtp_voting_cost'], ss_data['player.wtp_voting_cost_pq'], paired = True))\n",
    "display(pt.ttest(ss_data['player.wtp_voting_cost'], ss_data['player.wtp_voting_cost_pq'], paired = False))"
   ]
  },
  {
   "cell_type": "code",
   "execution_count": 15,
   "metadata": {},
   "outputs": [
    {
     "name": "stdout",
     "output_type": "stream",
     "text": [
      "【小小】有門檻與沒門檻的 wtp 平均值\n",
      "------------------------\n",
      "沒門檻: 14.619047619047619\n",
      "有門檻: 5.933333333333334\n"
     ]
    }
   ],
   "source": [
    "# get the mean\n",
    "print('【小小】有門檻與沒門檻的 wtp 平均值')\n",
    "print('------------------------')\n",
    "print(f\"沒門檻: {ss_data['player.wtp_voting_cost'].describe()['mean']}\")\n",
    "print(f\"有門檻: {ss_data['player.wtp_voting_cost_pq'].describe()['mean']}\")"
   ]
  },
  {
   "cell_type": "markdown",
   "metadata": {},
   "source": [
    "### ```sb```"
   ]
  },
  {
   "cell_type": "code",
   "execution_count": 16,
   "metadata": {},
   "outputs": [
    {
     "data": {
      "text/html": [
       "<div>\n",
       "<style scoped>\n",
       "    .dataframe tbody tr th:only-of-type {\n",
       "        vertical-align: middle;\n",
       "    }\n",
       "\n",
       "    .dataframe tbody tr th {\n",
       "        vertical-align: top;\n",
       "    }\n",
       "\n",
       "    .dataframe thead th {\n",
       "        text-align: right;\n",
       "    }\n",
       "</style>\n",
       "<table border=\"1\" class=\"dataframe\">\n",
       "  <thead>\n",
       "    <tr style=\"text-align: right;\">\n",
       "      <th></th>\n",
       "      <th>T</th>\n",
       "      <th>dof</th>\n",
       "      <th>alternative</th>\n",
       "      <th>p-val</th>\n",
       "      <th>CI95%</th>\n",
       "      <th>cohen-d</th>\n",
       "      <th>BF10</th>\n",
       "      <th>power</th>\n",
       "    </tr>\n",
       "  </thead>\n",
       "  <tbody>\n",
       "    <tr>\n",
       "      <th>T-test</th>\n",
       "      <td>-2.556</td>\n",
       "      <td>104</td>\n",
       "      <td>two-sided</td>\n",
       "      <td>0.012</td>\n",
       "      <td>[-7.21, -0.91]</td>\n",
       "      <td>0.295</td>\n",
       "      <td>2.373</td>\n",
       "      <td>0.850</td>\n",
       "    </tr>\n",
       "  </tbody>\n",
       "</table>\n",
       "</div>"
      ],
      "text/plain": [
       "            T  dof alternative  p-val           CI95%  cohen-d   BF10  power\n",
       "T-test -2.556  104   two-sided  0.012  [-7.21, -0.91]    0.295  2.373  0.850"
      ]
     },
     "metadata": {},
     "output_type": "display_data"
    },
    {
     "data": {
      "text/html": [
       "<div>\n",
       "<style scoped>\n",
       "    .dataframe tbody tr th:only-of-type {\n",
       "        vertical-align: middle;\n",
       "    }\n",
       "\n",
       "    .dataframe tbody tr th {\n",
       "        vertical-align: top;\n",
       "    }\n",
       "\n",
       "    .dataframe thead th {\n",
       "        text-align: right;\n",
       "    }\n",
       "</style>\n",
       "<table border=\"1\" class=\"dataframe\">\n",
       "  <thead>\n",
       "    <tr style=\"text-align: right;\">\n",
       "      <th></th>\n",
       "      <th>T</th>\n",
       "      <th>dof</th>\n",
       "      <th>alternative</th>\n",
       "      <th>p-val</th>\n",
       "      <th>CI95%</th>\n",
       "      <th>cohen-d</th>\n",
       "      <th>BF10</th>\n",
       "      <th>power</th>\n",
       "    </tr>\n",
       "  </thead>\n",
       "  <tbody>\n",
       "    <tr>\n",
       "      <th>T-test</th>\n",
       "      <td>-2.139</td>\n",
       "      <td>208</td>\n",
       "      <td>two-sided</td>\n",
       "      <td>0.034</td>\n",
       "      <td>[-7.8, -0.32]</td>\n",
       "      <td>0.295</td>\n",
       "      <td>1.269</td>\n",
       "      <td>0.567</td>\n",
       "    </tr>\n",
       "  </tbody>\n",
       "</table>\n",
       "</div>"
      ],
      "text/plain": [
       "            T  dof alternative  p-val          CI95%  cohen-d   BF10  power\n",
       "T-test -2.139  208   two-sided  0.034  [-7.8, -0.32]    0.295  1.269  0.567"
      ]
     },
     "metadata": {},
     "output_type": "display_data"
    }
   ],
   "source": [
    "# perform t test - sb\n",
    "display(pt.ttest(sb_data['player.wtp_voting_cost'], sb_data['player.wtp_voting_cost_pq'], paired = True))\n",
    "display(pt.ttest(sb_data['player.wtp_voting_cost'], sb_data['player.wtp_voting_cost_pq'], paired = False))"
   ]
  },
  {
   "cell_type": "code",
   "execution_count": 17,
   "metadata": {},
   "outputs": [
    {
     "name": "stdout",
     "output_type": "stream",
     "text": [
      "【小大】有門檻與沒門檻的 wtp 平均值\n",
      "------------------------\n",
      "沒門檻: 12.038095238095238\n",
      "有門檻: 16.095238095238095\n"
     ]
    }
   ],
   "source": [
    "# get the mean\n",
    "print('【小大】有門檻與沒門檻的 wtp 平均值')\n",
    "print('------------------------')\n",
    "print(f\"沒門檻: {sb_data['player.wtp_voting_cost'].describe()['mean']}\")\n",
    "print(f\"有門檻: {sb_data['player.wtp_voting_cost_pq'].describe()['mean']}\")"
   ]
  },
  {
   "cell_type": "markdown",
   "metadata": {},
   "source": [
    "### ```bs```"
   ]
  },
  {
   "cell_type": "code",
   "execution_count": 18,
   "metadata": {},
   "outputs": [
    {
     "data": {
      "text/html": [
       "<div>\n",
       "<style scoped>\n",
       "    .dataframe tbody tr th:only-of-type {\n",
       "        vertical-align: middle;\n",
       "    }\n",
       "\n",
       "    .dataframe tbody tr th {\n",
       "        vertical-align: top;\n",
       "    }\n",
       "\n",
       "    .dataframe thead th {\n",
       "        text-align: right;\n",
       "    }\n",
       "</style>\n",
       "<table border=\"1\" class=\"dataframe\">\n",
       "  <thead>\n",
       "    <tr style=\"text-align: right;\">\n",
       "      <th></th>\n",
       "      <th>T</th>\n",
       "      <th>dof</th>\n",
       "      <th>alternative</th>\n",
       "      <th>p-val</th>\n",
       "      <th>CI95%</th>\n",
       "      <th>cohen-d</th>\n",
       "      <th>BF10</th>\n",
       "      <th>power</th>\n",
       "    </tr>\n",
       "  </thead>\n",
       "  <tbody>\n",
       "    <tr>\n",
       "      <th>T-test</th>\n",
       "      <td>11.046</td>\n",
       "      <td>104</td>\n",
       "      <td>two-sided</td>\n",
       "      <td>0.000</td>\n",
       "      <td>[14.7, 21.13]</td>\n",
       "      <td>1.500</td>\n",
       "      <td>1.676e+16</td>\n",
       "      <td>1.000</td>\n",
       "    </tr>\n",
       "  </tbody>\n",
       "</table>\n",
       "</div>"
      ],
      "text/plain": [
       "            T  dof alternative  p-val          CI95%  cohen-d       BF10  \\\n",
       "T-test 11.046  104   two-sided  0.000  [14.7, 21.13]    1.500  1.676e+16   \n",
       "\n",
       "        power  \n",
       "T-test  1.000  "
      ]
     },
     "metadata": {},
     "output_type": "display_data"
    },
    {
     "data": {
      "text/html": [
       "<div>\n",
       "<style scoped>\n",
       "    .dataframe tbody tr th:only-of-type {\n",
       "        vertical-align: middle;\n",
       "    }\n",
       "\n",
       "    .dataframe tbody tr th {\n",
       "        vertical-align: top;\n",
       "    }\n",
       "\n",
       "    .dataframe thead th {\n",
       "        text-align: right;\n",
       "    }\n",
       "</style>\n",
       "<table border=\"1\" class=\"dataframe\">\n",
       "  <thead>\n",
       "    <tr style=\"text-align: right;\">\n",
       "      <th></th>\n",
       "      <th>T</th>\n",
       "      <th>dof</th>\n",
       "      <th>alternative</th>\n",
       "      <th>p-val</th>\n",
       "      <th>CI95%</th>\n",
       "      <th>cohen-d</th>\n",
       "      <th>BF10</th>\n",
       "      <th>power</th>\n",
       "    </tr>\n",
       "  </thead>\n",
       "  <tbody>\n",
       "    <tr>\n",
       "      <th>T-test</th>\n",
       "      <td>10.866</td>\n",
       "      <td>208</td>\n",
       "      <td>two-sided</td>\n",
       "      <td>0.000</td>\n",
       "      <td>[14.66, 21.16]</td>\n",
       "      <td>1.500</td>\n",
       "      <td>7.321e+18</td>\n",
       "      <td>1.000</td>\n",
       "    </tr>\n",
       "  </tbody>\n",
       "</table>\n",
       "</div>"
      ],
      "text/plain": [
       "            T  dof alternative  p-val           CI95%  cohen-d       BF10  \\\n",
       "T-test 10.866  208   two-sided  0.000  [14.66, 21.16]    1.500  7.321e+18   \n",
       "\n",
       "        power  \n",
       "T-test  1.000  "
      ]
     },
     "metadata": {},
     "output_type": "display_data"
    }
   ],
   "source": [
    "# perform t test - bs\n",
    "display(pt.ttest(bs_data['player.wtp_voting_cost'], bs_data['player.wtp_voting_cost_pq'], paired = True))\n",
    "display(pt.ttest(bs_data['player.wtp_voting_cost'], bs_data['player.wtp_voting_cost_pq'], paired = False))"
   ]
  },
  {
   "cell_type": "code",
   "execution_count": 19,
   "metadata": {},
   "outputs": [
    {
     "name": "stdout",
     "output_type": "stream",
     "text": [
      "【大小】有門檻與沒門檻的 wtp 平均值\n",
      "------------------------\n",
      "沒門檻: 22.876190476190477\n",
      "有門檻: 4.961904761904762\n"
     ]
    }
   ],
   "source": [
    "# get the mean\n",
    "print('【大小】有門檻與沒門檻的 wtp 平均值')\n",
    "print('------------------------')\n",
    "print(f\"沒門檻: {bs_data['player.wtp_voting_cost'].describe()['mean']}\")\n",
    "print(f\"有門檻: {bs_data['player.wtp_voting_cost_pq'].describe()['mean']}\")"
   ]
  },
  {
   "cell_type": "markdown",
   "metadata": {},
   "source": [
    "### t-test: non_pq v.s. pq "
   ]
  },
  {
   "cell_type": "markdown",
   "metadata": {},
   "source": [
    "### ```big```"
   ]
  },
  {
   "cell_type": "code",
   "execution_count": 20,
   "metadata": {},
   "outputs": [],
   "source": [
    "# select dataset\n",
    "big_non_pq = data.loc[(data['player.is_large_team'] == 1)]\n",
    "big_pq = data.loc[(data['player.is_large_team_pq'] == 1)]"
   ]
  },
  {
   "cell_type": "code",
   "execution_count": 21,
   "metadata": {},
   "outputs": [
    {
     "data": {
      "text/html": [
       "<div>\n",
       "<style scoped>\n",
       "    .dataframe tbody tr th:only-of-type {\n",
       "        vertical-align: middle;\n",
       "    }\n",
       "\n",
       "    .dataframe tbody tr th {\n",
       "        vertical-align: top;\n",
       "    }\n",
       "\n",
       "    .dataframe thead th {\n",
       "        text-align: right;\n",
       "    }\n",
       "</style>\n",
       "<table border=\"1\" class=\"dataframe\">\n",
       "  <thead>\n",
       "    <tr style=\"text-align: right;\">\n",
       "      <th></th>\n",
       "      <th>T</th>\n",
       "      <th>dof</th>\n",
       "      <th>alternative</th>\n",
       "      <th>p-val</th>\n",
       "      <th>CI95%</th>\n",
       "      <th>cohen-d</th>\n",
       "      <th>BF10</th>\n",
       "      <th>power</th>\n",
       "    </tr>\n",
       "  </thead>\n",
       "  <tbody>\n",
       "    <tr>\n",
       "      <th>T-test</th>\n",
       "      <td>4.023</td>\n",
       "      <td>478</td>\n",
       "      <td>two-sided</td>\n",
       "      <td>0.000</td>\n",
       "      <td>[2.79, 8.12]</td>\n",
       "      <td>0.367</td>\n",
       "      <td>235.318</td>\n",
       "      <td>0.980</td>\n",
       "    </tr>\n",
       "  </tbody>\n",
       "</table>\n",
       "</div>"
      ],
      "text/plain": [
       "           T  dof alternative  p-val         CI95%  cohen-d     BF10  power\n",
       "T-test 4.023  478   two-sided  0.000  [2.79, 8.12]    0.367  235.318  0.980"
      ]
     },
     "metadata": {},
     "output_type": "display_data"
    }
   ],
   "source": [
    "# perform t test\n",
    "display(pt.ttest(big_non_pq['player.wtp_voting_cost'], big_pq['player.wtp_voting_cost_pq'], paired = False))"
   ]
  },
  {
   "cell_type": "code",
   "execution_count": 22,
   "metadata": {},
   "outputs": [
    {
     "name": "stdout",
     "output_type": "stream",
     "text": [
      "【大】有門檻與沒門檻的 wtp 平均值\n",
      "------------------------\n",
      "沒門檻: 22.441666666666666\n",
      "有門檻: 16.983333333333334\n"
     ]
    }
   ],
   "source": [
    "# get the mean\n",
    "print('【大】有門檻與沒門檻的 wtp 平均值')\n",
    "print('------------------------')\n",
    "print(f\"沒門檻: {big_non_pq['player.wtp_voting_cost'].describe()['mean']}\")\n",
    "print(f\"有門檻: {big_pq['player.wtp_voting_cost_pq'].describe()['mean']}\")"
   ]
  },
  {
   "cell_type": "markdown",
   "metadata": {},
   "source": [
    "### ```small```"
   ]
  },
  {
   "cell_type": "code",
   "execution_count": 23,
   "metadata": {},
   "outputs": [],
   "source": [
    "# select dataset\n",
    "small_non_pq = data.loc[(data['player.is_large_team'] == 0)]\n",
    "small_pq = data.loc[(data['player.is_large_team_pq'] == 0)]"
   ]
  },
  {
   "cell_type": "code",
   "execution_count": 24,
   "metadata": {},
   "outputs": [
    {
     "data": {
      "text/html": [
       "<div>\n",
       "<style scoped>\n",
       "    .dataframe tbody tr th:only-of-type {\n",
       "        vertical-align: middle;\n",
       "    }\n",
       "\n",
       "    .dataframe tbody tr th {\n",
       "        vertical-align: top;\n",
       "    }\n",
       "\n",
       "    .dataframe thead th {\n",
       "        text-align: right;\n",
       "    }\n",
       "</style>\n",
       "<table border=\"1\" class=\"dataframe\">\n",
       "  <thead>\n",
       "    <tr style=\"text-align: right;\">\n",
       "      <th></th>\n",
       "      <th>T</th>\n",
       "      <th>dof</th>\n",
       "      <th>alternative</th>\n",
       "      <th>p-val</th>\n",
       "      <th>CI95%</th>\n",
       "      <th>cohen-d</th>\n",
       "      <th>BF10</th>\n",
       "      <th>power</th>\n",
       "    </tr>\n",
       "  </thead>\n",
       "  <tbody>\n",
       "    <tr>\n",
       "      <th>T-test</th>\n",
       "      <td>6.841</td>\n",
       "      <td>418</td>\n",
       "      <td>two-sided</td>\n",
       "      <td>0.000</td>\n",
       "      <td>[5.62, 10.15]</td>\n",
       "      <td>0.668</td>\n",
       "      <td>2.65e+08</td>\n",
       "      <td>1.000</td>\n",
       "    </tr>\n",
       "  </tbody>\n",
       "</table>\n",
       "</div>"
      ],
      "text/plain": [
       "           T  dof alternative  p-val          CI95%  cohen-d      BF10  power\n",
       "T-test 6.841  418   two-sided  0.000  [5.62, 10.15]    0.668  2.65e+08  1.000"
      ]
     },
     "metadata": {},
     "output_type": "display_data"
    }
   ],
   "source": [
    "# perform t test\n",
    "display(pt.ttest(small_non_pq['player.wtp_voting_cost'], small_pq['player.wtp_voting_cost_pq'], paired = False))"
   ]
  },
  {
   "cell_type": "code",
   "execution_count": 25,
   "metadata": {},
   "outputs": [
    {
     "name": "stdout",
     "output_type": "stream",
     "text": [
      "【小】有門檻與沒門檻的 wtp 平均值\n",
      "------------------------\n",
      "沒門檻: 13.32857142857143\n",
      "有門檻: 5.447619047619048\n"
     ]
    }
   ],
   "source": [
    "# get the mean\n",
    "print('【小】有門檻與沒門檻的 wtp 平均值')\n",
    "print('------------------------')\n",
    "print(f\"沒門檻: {small_non_pq['player.wtp_voting_cost'].describe()['mean']}\")\n",
    "print(f\"有門檻: {small_pq['player.wtp_voting_cost_pq'].describe()['mean']}\")"
   ]
  },
  {
   "cell_type": "code",
   "execution_count": null,
   "metadata": {},
   "outputs": [],
   "source": []
  }
 ],
 "metadata": {
  "kernelspec": {
   "display_name": "Python 3",
   "language": "python",
   "name": "python3"
  },
  "language_info": {
   "codemirror_mode": {
    "name": "ipython",
    "version": 3
   },
   "file_extension": ".py",
   "mimetype": "text/x-python",
   "name": "python",
   "nbconvert_exporter": "python",
   "pygments_lexer": "ipython3",
   "version": "3.8.5"
  }
 },
 "nbformat": 4,
 "nbformat_minor": 4
}
