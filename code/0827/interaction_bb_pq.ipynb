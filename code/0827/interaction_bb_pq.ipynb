{
 "cells": [
  {
   "cell_type": "markdown",
   "metadata": {},
   "source": [
    "## 交互作用探討\n",
    "- 探討 is_pq, is_large 對於 wtp 之影響\n",
    "- 使用 control"
   ]
  },
  {
   "cell_type": "code",
   "execution_count": 1,
   "metadata": {},
   "outputs": [],
   "source": [
    "import os\n",
    "import pandas as pd\n",
    "from sklearn import linear_model\n",
    "from sklearn.linear_model import LinearRegression\n",
    "import statsmodels.api as sm\n",
    "from scipy import stats\n",
    "import warnings\n",
    "warnings.filterwarnings('ignore')"
   ]
  },
  {
   "cell_type": "markdown",
   "metadata": {},
   "source": [
    "### ```選取control資料```"
   ]
  },
  {
   "cell_type": "code",
   "execution_count": 2,
   "metadata": {},
   "outputs": [],
   "source": [
    "all_data = pd.read_csv(r'C:\\Users\\User\\Desktop\\poll\\data\\processed_data\\merge_data.csv', index_col=0)\n",
    "data = all_data.loc[(all_data['treatment'] == 0)]"
   ]
  },
  {
   "cell_type": "markdown",
   "metadata": {},
   "source": [
    "### ```製作 wtp 資料集```"
   ]
  },
  {
   "cell_type": "code",
   "execution_count": 3,
   "metadata": {},
   "outputs": [],
   "source": [
    "# select non_pq data\n",
    "non_pq_data = data[['player.id_in_group', 'player.wtp_voting_cost', 'player.is_large_team', 'session']]\n",
    "non_pq_data.loc[:,'is_pq'] = 0\n",
    "non_pq_data.columns = ['id','wtp', 'is_large', 'session', 'is_pq']\n",
    "\n",
    "# select pq data\n",
    "pq_data = data[['player.id_in_group','player.wtp_voting_cost_pq', 'player.is_large_team_pq', 'session']]\n",
    "pq_data.loc[:, 'is_pq'] = 1\n",
    "pq_data.columns = ['id','wtp', 'is_large', 'session', 'is_pq']"
   ]
  },
  {
   "cell_type": "code",
   "execution_count": 4,
   "metadata": {},
   "outputs": [],
   "source": [
    "# concat two datasets\n",
    "wtp_data = pd.concat([non_pq_data, pq_data])\n",
    "\n",
    "# add interaction \n",
    "wtp_data['is_large * is_pq'] = wtp_data.apply(lambda x : x['is_large'] * x['is_pq'], axis = 1)"
   ]
  },
  {
   "cell_type": "code",
   "execution_count": 5,
   "metadata": {},
   "outputs": [],
   "source": [
    "# split X and Y\n",
    "wtp_data_Y = wtp_data['wtp']\n",
    "wtp_Y = wtp_data_Y.to_numpy()\n",
    "\n",
    "wtp_data_X = wtp_data.drop(['wtp','id', 'session'], axis = 1)\n",
    "wtp_X = wtp_data_X.to_numpy()"
   ]
  },
  {
   "cell_type": "markdown",
   "metadata": {},
   "source": [
    " ### ```all```"
   ]
  },
  {
   "cell_type": "code",
   "execution_count": 6,
   "metadata": {},
   "outputs": [
    {
     "data": {
      "text/html": [
       "<table class=\"simpletable\">\n",
       "<caption>OLS Regression Results</caption>\n",
       "<tr>\n",
       "  <th>Dep. Variable:</th>           <td>wtp</td>       <th>  R-squared:         </th> <td>   0.187</td> \n",
       "</tr>\n",
       "<tr>\n",
       "  <th>Model:</th>                   <td>OLS</td>       <th>  Adj. R-squared:    </th> <td>   0.186</td> \n",
       "</tr>\n",
       "<tr>\n",
       "  <th>Method:</th>             <td>Least Squares</td>  <th>  F-statistic:       </th> <td>   275.3</td> \n",
       "</tr>\n",
       "<tr>\n",
       "  <th>Date:</th>             <td>Mon, 30 Aug 2021</td> <th>  Prob (F-statistic):</th> <td>7.32e-161</td>\n",
       "</tr>\n",
       "<tr>\n",
       "  <th>Time:</th>                 <td>21:17:52</td>     <th>  Log-Likelihood:    </th> <td> -14083.</td> \n",
       "</tr>\n",
       "<tr>\n",
       "  <th>No. Observations:</th>      <td>  3600</td>      <th>  AIC:               </th> <td>2.817e+04</td>\n",
       "</tr>\n",
       "<tr>\n",
       "  <th>Df Residuals:</th>          <td>  3596</td>      <th>  BIC:               </th> <td>2.820e+04</td>\n",
       "</tr>\n",
       "<tr>\n",
       "  <th>Df Model:</th>              <td>     3</td>      <th>                     </th>     <td> </td>    \n",
       "</tr>\n",
       "<tr>\n",
       "  <th>Covariance Type:</th>      <td>nonrobust</td>    <th>                     </th>     <td> </td>    \n",
       "</tr>\n",
       "</table>\n",
       "<table class=\"simpletable\">\n",
       "<tr>\n",
       "          <td></td>            <th>coef</th>     <th>std err</th>      <th>t</th>      <th>P>|t|</th>  <th>[0.025</th>    <th>0.975]</th>  \n",
       "</tr>\n",
       "<tr>\n",
       "  <th>const</th>            <td>   13.9190</td> <td>    0.418</td> <td>   33.329</td> <td> 0.000</td> <td>   13.100</td> <td>   14.738</td>\n",
       "</tr>\n",
       "<tr>\n",
       "  <th>is_large</th>         <td>    6.2372</td> <td>    0.572</td> <td>   10.907</td> <td> 0.000</td> <td>    5.116</td> <td>    7.358</td>\n",
       "</tr>\n",
       "<tr>\n",
       "  <th>is_pq</th>            <td>  -10.0726</td> <td>    0.591</td> <td>  -17.055</td> <td> 0.000</td> <td>  -11.231</td> <td>   -8.915</td>\n",
       "</tr>\n",
       "<tr>\n",
       "  <th>is_large * is_pq</th> <td>    1.8653</td> <td>    0.809</td> <td>    2.307</td> <td> 0.021</td> <td>    0.280</td> <td>    3.451</td>\n",
       "</tr>\n",
       "</table>\n",
       "<table class=\"simpletable\">\n",
       "<tr>\n",
       "  <th>Omnibus:</th>       <td>270.311</td> <th>  Durbin-Watson:     </th> <td>   0.993</td>\n",
       "</tr>\n",
       "<tr>\n",
       "  <th>Prob(Omnibus):</th> <td> 0.000</td>  <th>  Jarque-Bera (JB):  </th> <td> 334.786</td>\n",
       "</tr>\n",
       "<tr>\n",
       "  <th>Skew:</th>          <td> 0.747</td>  <th>  Prob(JB):          </th> <td>2.00e-73</td>\n",
       "</tr>\n",
       "<tr>\n",
       "  <th>Kurtosis:</th>      <td> 3.010</td>  <th>  Cond. No.          </th> <td>    7.08</td>\n",
       "</tr>\n",
       "</table><br/><br/>Notes:<br/>[1] Standard Errors assume that the covariance matrix of the errors is correctly specified."
      ],
      "text/plain": [
       "<class 'statsmodels.iolib.summary.Summary'>\n",
       "\"\"\"\n",
       "                            OLS Regression Results                            \n",
       "==============================================================================\n",
       "Dep. Variable:                    wtp   R-squared:                       0.187\n",
       "Model:                            OLS   Adj. R-squared:                  0.186\n",
       "Method:                 Least Squares   F-statistic:                     275.3\n",
       "Date:                Mon, 30 Aug 2021   Prob (F-statistic):          7.32e-161\n",
       "Time:                        21:17:52   Log-Likelihood:                -14083.\n",
       "No. Observations:                3600   AIC:                         2.817e+04\n",
       "Df Residuals:                    3596   BIC:                         2.820e+04\n",
       "Df Model:                           3                                         \n",
       "Covariance Type:            nonrobust                                         \n",
       "====================================================================================\n",
       "                       coef    std err          t      P>|t|      [0.025      0.975]\n",
       "------------------------------------------------------------------------------------\n",
       "const               13.9190      0.418     33.329      0.000      13.100      14.738\n",
       "is_large             6.2372      0.572     10.907      0.000       5.116       7.358\n",
       "is_pq              -10.0726      0.591    -17.055      0.000     -11.231      -8.915\n",
       "is_large * is_pq     1.8653      0.809      2.307      0.021       0.280       3.451\n",
       "==============================================================================\n",
       "Omnibus:                      270.311   Durbin-Watson:                   0.993\n",
       "Prob(Omnibus):                  0.000   Jarque-Bera (JB):              334.786\n",
       "Skew:                           0.747   Prob(JB):                     2.00e-73\n",
       "Kurtosis:                       3.010   Cond. No.                         7.08\n",
       "==============================================================================\n",
       "\n",
       "Notes:\n",
       "[1] Standard Errors assume that the covariance matrix of the errors is correctly specified.\n",
       "\"\"\""
      ]
     },
     "execution_count": 6,
     "metadata": {},
     "output_type": "execute_result"
    }
   ],
   "source": [
    "# run regression\n",
    "wtp_X = sm.add_constant(wtp_X)\n",
    "result = sm.OLS(wtp_Y, wtp_X).fit()\n",
    "result.summary(xname=['const','is_large', 'is_pq', 'is_large * is_pq'], yname='wtp')"
   ]
  },
  {
   "cell_type": "markdown",
   "metadata": {},
   "source": [
    "### ```一個一個跑回歸-有交乘項```\n",
    "- 檢視 is_large, is_pq 正負號"
   ]
  },
  {
   "cell_type": "code",
   "execution_count": 7,
   "metadata": {},
   "outputs": [
    {
     "data": {
      "text/plain": [
       "array(['0820_control', '0826_m_control', '0827_a_control',\n",
       "       '0827_m_control'], dtype=object)"
      ]
     },
     "execution_count": 7,
     "metadata": {},
     "output_type": "execute_result"
    }
   ],
   "source": [
    "sessionList = wtp_data['session'].unique()\n",
    "sessionList"
   ]
  },
  {
   "cell_type": "code",
   "execution_count": 8,
   "metadata": {},
   "outputs": [],
   "source": [
    "result_interaction = []\n",
    "\n",
    "for session in sessionList:\n",
    "    \n",
    "    for playerID in range(1, 16):\n",
    "\n",
    "        subset = wtp_data.loc[(wtp_data['id'] == playerID) & (wtp_data['session'] == session)]\n",
    "        # split X and Y\n",
    "        wtp_data_Y = subset['wtp']\n",
    "        wtp_Y = wtp_data_Y.to_numpy()\n",
    "\n",
    "        wtp_data_X = subset.drop(['wtp','id', 'session'], axis = 1)\n",
    "        wtp_X = wtp_data_X.to_numpy()\n",
    "\n",
    "        # run regression\n",
    "        wtp_X = sm.add_constant(wtp_X)\n",
    "        result = sm.OLS(wtp_Y, wtp_X).fit()\n",
    "\n",
    "        # 0: const, 1: is_large, 2: is_pq, 3: is_large*is_pq\n",
    "        is_large = '+' if result.params[1] > 0 else '-'\n",
    "        is_pq = '+' if result.params[2] > 0 else '-'\n",
    "        interaction = '+' if result.params[3] > 0 else '-'\n",
    "        \n",
    "        # p-value\n",
    "        p_is_large = result.pvalues[1]\n",
    "        p_is_pq = result.pvalues[2]\n",
    "        p_is_interaction = result.pvalues[3]\n",
    "        \n",
    "        sig = []\n",
    "\n",
    "        for item in [p_is_large, p_is_pq, p_is_interaction]:\n",
    "            if (item < 0.001):\n",
    "                sig.append('***')\n",
    "            elif (item < 0.01):\n",
    "                sig.append('**')\n",
    "            elif (item < 0.05):\n",
    "                sig.append('*')\n",
    "            else:\n",
    "                sig.append('')\n",
    "\n",
    "        result_interaction.append({'session': session, 'ID':playerID, 'is_large': is_large, 'sig_is_large': sig[0], \n",
    "                                   'is_pq':is_pq, 'sig_is_pq':sig[1],\n",
    "                                   'interaction':interaction, 'sig_interaction':sig[2]})"
   ]
  },
  {
   "cell_type": "code",
   "execution_count": 9,
   "metadata": {},
   "outputs": [],
   "source": [
    "result_interaction = pd.DataFrame(result_interaction)"
   ]
  },
  {
   "cell_type": "code",
   "execution_count": 10,
   "metadata": {},
   "outputs": [
    {
     "data": {
      "text/plain": [
       "is_large  is_pq\n",
       "+         +         7\n",
       "          -        42\n",
       "-         -        11\n",
       "dtype: int64"
      ]
     },
     "execution_count": 10,
     "metadata": {},
     "output_type": "execute_result"
    }
   ],
   "source": [
    "# 檢視係數正負號比例分配\n",
    "result_interaction.groupby(['is_large', 'is_pq']).size()"
   ]
  },
  {
   "cell_type": "markdown",
   "metadata": {},
   "source": [
    "### ```一個個跑回歸-沒交乘項```"
   ]
  },
  {
   "cell_type": "code",
   "execution_count": 11,
   "metadata": {},
   "outputs": [],
   "source": [
    "result_no_interaction = []\n",
    "\n",
    "for session in sessionList:\n",
    "    for playerID in range(1, 16):\n",
    "\n",
    "        subset = wtp_data.loc[(wtp_data['id'] == playerID) & (wtp_data['session'] == session)]\n",
    "        # split X and Y\n",
    "        wtp_data_Y = subset['wtp']\n",
    "        wtp_Y = wtp_data_Y.to_numpy()\n",
    "\n",
    "        wtp_data_X = subset.drop(['wtp','id', 'session'], axis = 1)\n",
    "        wtp_X = wtp_data_X.to_numpy()\n",
    "\n",
    "        # run regression\n",
    "        wtp_X = sm.add_constant(wtp_X)\n",
    "        result = sm.OLS(wtp_Y, wtp_X).fit()\n",
    "\n",
    "        # 0: const, 1: is_large, 2: is_pq\n",
    "        is_large = '+' if result.params[1] > 0 else '-'\n",
    "        is_pq = '+' if result.params[2] > 0 else '-'\n",
    "\n",
    "        p_is_large = result.pvalues[1]\n",
    "        p_is_pq = result.pvalues[2]\n",
    "        sig = []\n",
    "\n",
    "        for item in [p_is_large, p_is_pq]:\n",
    "            if (item < 0.001):\n",
    "                sig.append('***')\n",
    "            elif (item < 0.01):\n",
    "                sig.append('**')\n",
    "            elif (item < 0.05):\n",
    "                sig.append('*')\n",
    "            else:\n",
    "                sig.append('')\n",
    "\n",
    "        result_no_interaction.append({'session': session, 'ID':playerID, \n",
    "                                      'is_large': is_large, 'sig_is_large': sig[0], \n",
    "                                      'is_pq':is_pq, 'sig_is_pq':sig[1]})"
   ]
  },
  {
   "cell_type": "code",
   "execution_count": 12,
   "metadata": {},
   "outputs": [],
   "source": [
    "result_no_interaction = pd.DataFrame(result_no_interaction)"
   ]
  },
  {
   "cell_type": "code",
   "execution_count": 13,
   "metadata": {},
   "outputs": [
    {
     "data": {
      "text/html": [
       "<div>\n",
       "<style scoped>\n",
       "    .dataframe tbody tr th:only-of-type {\n",
       "        vertical-align: middle;\n",
       "    }\n",
       "\n",
       "    .dataframe tbody tr th {\n",
       "        vertical-align: top;\n",
       "    }\n",
       "\n",
       "    .dataframe thead th {\n",
       "        text-align: right;\n",
       "    }\n",
       "</style>\n",
       "<table border=\"1\" class=\"dataframe\">\n",
       "  <thead>\n",
       "    <tr style=\"text-align: right;\">\n",
       "      <th></th>\n",
       "      <th>session</th>\n",
       "      <th>ID</th>\n",
       "      <th>is_large</th>\n",
       "      <th>sig_is_large</th>\n",
       "      <th>is_pq</th>\n",
       "      <th>sig_is_pq</th>\n",
       "    </tr>\n",
       "  </thead>\n",
       "  <tbody>\n",
       "    <tr>\n",
       "      <th>1</th>\n",
       "      <td>0820_control</td>\n",
       "      <td>2</td>\n",
       "      <td>+</td>\n",
       "      <td>**</td>\n",
       "      <td>+</td>\n",
       "      <td>*</td>\n",
       "    </tr>\n",
       "    <tr>\n",
       "      <th>3</th>\n",
       "      <td>0820_control</td>\n",
       "      <td>4</td>\n",
       "      <td>+</td>\n",
       "      <td></td>\n",
       "      <td>+</td>\n",
       "      <td></td>\n",
       "    </tr>\n",
       "    <tr>\n",
       "      <th>12</th>\n",
       "      <td>0820_control</td>\n",
       "      <td>13</td>\n",
       "      <td>+</td>\n",
       "      <td>***</td>\n",
       "      <td>+</td>\n",
       "      <td></td>\n",
       "    </tr>\n",
       "    <tr>\n",
       "      <th>19</th>\n",
       "      <td>0826_m_control</td>\n",
       "      <td>5</td>\n",
       "      <td>+</td>\n",
       "      <td>***</td>\n",
       "      <td>+</td>\n",
       "      <td></td>\n",
       "    </tr>\n",
       "    <tr>\n",
       "      <th>34</th>\n",
       "      <td>0827_a_control</td>\n",
       "      <td>5</td>\n",
       "      <td>+</td>\n",
       "      <td>**</td>\n",
       "      <td>+</td>\n",
       "      <td></td>\n",
       "    </tr>\n",
       "    <tr>\n",
       "      <th>41</th>\n",
       "      <td>0827_a_control</td>\n",
       "      <td>12</td>\n",
       "      <td>+</td>\n",
       "      <td>***</td>\n",
       "      <td>+</td>\n",
       "      <td></td>\n",
       "    </tr>\n",
       "    <tr>\n",
       "      <th>48</th>\n",
       "      <td>0827_m_control</td>\n",
       "      <td>4</td>\n",
       "      <td>+</td>\n",
       "      <td></td>\n",
       "      <td>+</td>\n",
       "      <td></td>\n",
       "    </tr>\n",
       "  </tbody>\n",
       "</table>\n",
       "</div>"
      ],
      "text/plain": [
       "           session  ID is_large sig_is_large is_pq sig_is_pq\n",
       "1     0820_control   2        +           **     +         *\n",
       "3     0820_control   4        +                  +          \n",
       "12    0820_control  13        +          ***     +          \n",
       "19  0826_m_control   5        +          ***     +          \n",
       "34  0827_a_control   5        +           **     +          \n",
       "41  0827_a_control  12        +          ***     +          \n",
       "48  0827_m_control   4        +                  +          "
      ]
     },
     "execution_count": 13,
     "metadata": {},
     "output_type": "execute_result"
    }
   ],
   "source": [
    "# 檢視結果特別的人\n",
    "result_no_interaction.loc[(result_no_interaction['is_large'] == '+') & (result_no_interaction['is_pq'] == '+')]"
   ]
  },
  {
   "cell_type": "code",
   "execution_count": null,
   "metadata": {},
   "outputs": [],
   "source": []
  }
 ],
 "metadata": {
  "kernelspec": {
   "display_name": "Python 3",
   "language": "python",
   "name": "python3"
  },
  "language_info": {
   "codemirror_mode": {
    "name": "ipython",
    "version": 3
   },
   "file_extension": ".py",
   "mimetype": "text/x-python",
   "name": "python",
   "nbconvert_exporter": "python",
   "pygments_lexer": "ipython3",
   "version": "3.8.5"
  }
 },
 "nbformat": 4,
 "nbformat_minor": 4
}
