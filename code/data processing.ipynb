{
 "cells": [
  {
   "cell_type": "markdown",
   "metadata": {},
   "source": [
    "### 資料處理"
   ]
  },
  {
   "cell_type": "code",
   "execution_count": 1,
   "metadata": {},
   "outputs": [],
   "source": [
    "import pandas as pd\n",
    "import re\n",
    "import os"
   ]
  },
  {
   "cell_type": "markdown",
   "metadata": {},
   "source": [
    "### ```處理資料```"
   ]
  },
  {
   "cell_type": "code",
   "execution_count": 2,
   "metadata": {},
   "outputs": [],
   "source": [
    "os.chdir(r'C:\\Users\\User\\Desktop\\poll\\data\\original_data')"
   ]
  },
  {
   "cell_type": "code",
   "execution_count": 3,
   "metadata": {},
   "outputs": [],
   "source": [
    "class dataProcessing:\n",
    "    def __init__(self, file):\n",
    "        self.file = file\n",
    "        self.data = pd.read_csv(file) \n",
    "        self.roundNum = 30\n",
    "        self.playerNum = 15\n",
    "        \n",
    "    ######### Modify columns #########\n",
    "    def modifyCol(self):\n",
    "        \n",
    "        # add the column to identify whether it is treatment or control \n",
    "        self.data['treatment'] = 0\n",
    "        self.data.loc[(self.data['session.config.name'] == 'voting_treatment'), 'treatment'] = 1\n",
    "        \n",
    "        # remove control/treatment and number\n",
    "        new_col = []\n",
    "        \n",
    "        pattern = \"(voting|survey)_(control|treatment)\\.[0-9]{1,2}\\.\"\n",
    "        for col in self.data.columns:\n",
    "            new_col.append(re.sub(pattern, '', col))\n",
    "        \n",
    "        self.data.columns = new_col\n",
    "        \n",
    "    ######## Extract voting data ########\n",
    "    def splitVoteData(self):\n",
    "        # modify column name\n",
    "        self.modifyCol()\n",
    "        # the first and last item of a round\n",
    "        firstItem = 'player.id_in_group'\n",
    "        lastItem = 'subsession.round_row'\n",
    "        \n",
    "        # obtain their indices\n",
    "        firstIdx = list(self.data.columns).index(firstItem)\n",
    "        lastIdx = list(self.data.columns).index(lastItem)\n",
    "        \n",
    "        # the interval size of round1\n",
    "        interval = lastIdx - firstIdx + 1\n",
    "        \n",
    "        # the ideal index of the lastItem of round30\n",
    "        round30LastIdx = firstIdx + interval * self.roundNum - 1\n",
    "        \n",
    "        # whether the data has equal interval\n",
    "        if (self.data.columns[round30LastIdx] == lastItem):\n",
    "            # split the data into votingData and otherData(introduction, survey)\n",
    "            votingData = self.data.iloc[:,firstIdx:round30LastIdx+1]\n",
    "            otherData = pd.concat([self.data.iloc[:,:firstIdx], \n",
    "                                   self.data.iloc[:,round30LastIdx+1:]], \n",
    "                                   axis = 1)\n",
    "            return votingData, otherData\n",
    "            \n",
    "        else:\n",
    "            print('interval is not equal')\n",
    "            return False\n",
    "        \n",
    "    ######## Extract the columns #########\n",
    "    def extractCol(self, extractFile = r'..\\columns\\extractCol.csv'):\n",
    "        # get votingData and otherData\n",
    "        try:\n",
    "            votingData, otherData = self.splitVoteData()\n",
    "        except: \n",
    "            print('Something wrong')\n",
    "            return False\n",
    "            \n",
    "        # get the columns we need\n",
    "        voteCol = pd.read_csv(extractFile)['vote'].to_list()\n",
    "        voteCol = [col for col in voteCol if str(col) != 'nan']\n",
    "        \n",
    "        otherCol = pd.read_csv(extractFile)['survey'].to_list()\n",
    "        otherCol = [col for col in otherCol if str(col) != 'nan']\n",
    "\n",
    "        # select dataframe\n",
    "        extractedVote = votingData.loc[:, votingData.columns.isin(voteCol)]\n",
    "        extractedOther = otherData.loc[:, otherData.columns.isin(otherCol)]\n",
    "        \n",
    "        return extractedVote, extractedOther         \n",
    "    \n",
    "    ######## Reshape data ########\n",
    "    def reshapeData(self):\n",
    "        # new dataframe\n",
    "        processedData = pd.DataFrame()\n",
    "        \n",
    "        # get extractedVote and extractedOther\n",
    "        extractVote, extractOther = self.extractCol()\n",
    "        \n",
    "        # process extractVote\n",
    "        interval = int(len(extractVote.columns) / self.roundNum)\n",
    "        \n",
    "        if (len(extractVote.columns) % self.roundNum == 0):\n",
    "        \n",
    "            for player in range(self.playerNum):\n",
    "                for num in range(self.roundNum):\n",
    "                    dataRow = pd.DataFrame(extractVote.iloc[player, num * interval:(num + 1) * interval]).T\n",
    "                    processedData = pd.concat([processedData, dataRow])\n",
    "                    processedData = processedData.reset_index(drop=True)\n",
    "            \n",
    "        else:\n",
    "            print('Something wrong')\n",
    "            return False\n",
    "        \n",
    "        # merge with extractOther\n",
    "        finalData = pd.merge(left = processedData, \n",
    "                    right = extractOther, \n",
    "                    on = ['player.id_in_group'])\n",
    "        \n",
    "        # add column to identify the round number\n",
    "        finalData['round_num'] = [*range(1,self.roundNum + 1)]*self.playerNum\n",
    "\n",
    "        return finalData\n",
    "    \n",
    "    ####### Add column to identify sesseion\n",
    "    def addSession(self):\n",
    "        # get data\n",
    "        data = self.reshapeData()\n",
    "        # set the file name as session\n",
    "        fileName = self.file.replace('.csv', '')\n",
    "        data['session'] = fileName    \n",
    "        return data\n",
    "    \n",
    "    # Identify the condition: small-big, big-small, big-big (1, 2), big-small\n",
    "    def tag_condition(self):\n",
    "        \n",
    "        df = self.addSession()\n",
    "        \n",
    "        # bb, bs, ss, sb\n",
    "        df.loc[((df['player.is_large_team'] == 1) & (df['player.is_large_team_pq'] == 1)), 'sb_condition'] = 'bb'\n",
    "        df.loc[((df['player.is_large_team'] == 1) & (df['player.is_large_team_pq'] == 0)), 'sb_condition'] = 'bs'\n",
    "        df.loc[((df['player.is_large_team'] == 0) & (df['player.is_large_team_pq'] == 1)), 'sb_condition'] = 'sb'\n",
    "        df.loc[((df['player.is_large_team'] == 0) & (df['player.is_large_team_pq'] == 0)), 'sb_condition'] = 'ss'\n",
    "\n",
    "       # bb has two cases: pq_same, pq_different (team member) \n",
    "\n",
    "        for num in range(1, self.roundNum + 1):\n",
    "\n",
    "            obsNum = len(df.loc[((df['sb_condition'] == 'bb') & (df['round_num'] == num))])\n",
    "\n",
    "            if (obsNum == 1):\n",
    "                df.loc[((df['sb_condition'] == 'bb') & (df['round_num'] == num)), 'bb_pq'] = 'different'    \n",
    "            if(obsNum == 8):\n",
    "                df.loc[((df['sb_condition'] == 'bb') & (df['round_num'] == num)), 'bb_pq'] = 'same'    \n",
    "\n",
    "        return df\n",
    "    \n",
    "    \n",
    "    ######## Save data to data/processed_data ########\n",
    "    def saveData(self):\n",
    "        # get the finalData\n",
    "        finalData = self.tag_condition()\n",
    "        # save file\n",
    "        fileName = 'reshape_' + self.file\n",
    "        finalData.to_csv('..\\\\processed_data\\\\' + fileName)"
   ]
  },
  {
   "cell_type": "markdown",
   "metadata": {},
   "source": [
    "### ```合併資料```"
   ]
  },
  {
   "cell_type": "code",
   "execution_count": 4,
   "metadata": {},
   "outputs": [
    {
     "data": {
      "text/plain": [
       "['0820_control.csv',\n",
       " '0826_a_treatment.csv',\n",
       " '0826_m_control.csv',\n",
       " '0827_a_control.csv',\n",
       " '0827_m_control.csv']"
      ]
     },
     "execution_count": 4,
     "metadata": {},
     "output_type": "execute_result"
    }
   ],
   "source": [
    "original_data = os.listdir()\n",
    "original_data"
   ]
  },
  {
   "cell_type": "code",
   "execution_count": 5,
   "metadata": {},
   "outputs": [],
   "source": [
    "merge_data = pd.DataFrame()\n",
    "\n",
    "for file in original_data:\n",
    "    # save file\n",
    "    processed = dataProcessing(file)\n",
    "    processed.saveData()\n",
    "    # merge file\n",
    "    reshape_data = processed.tag_condition()\n",
    "    merge_data = pd.concat([merge_data, reshape_data])\n",
    "\n",
    "merge_data.to_csv('..\\\\processed_data\\\\merge_data.csv')"
   ]
  },
  {
   "cell_type": "code",
   "execution_count": null,
   "metadata": {},
   "outputs": [],
   "source": []
  }
 ],
 "metadata": {
  "kernelspec": {
   "display_name": "Python 3",
   "language": "python",
   "name": "python3"
  },
  "language_info": {
   "codemirror_mode": {
    "name": "ipython",
    "version": 3
   },
   "file_extension": ".py",
   "mimetype": "text/x-python",
   "name": "python",
   "nbconvert_exporter": "python",
   "pygments_lexer": "ipython3",
   "version": "3.8.5"
  }
 },
 "nbformat": 4,
 "nbformat_minor": 4
}
