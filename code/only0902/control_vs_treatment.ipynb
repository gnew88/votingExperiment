{
 "cells": [
  {
   "cell_type": "markdown",
   "metadata": {},
   "source": [
    "## Control v.s. Treatment"
   ]
  },
  {
   "cell_type": "code",
   "execution_count": 1,
   "metadata": {},
   "outputs": [],
   "source": [
    "import os\n",
    "import pandas as pd\n",
    "import pingouin as pt\n",
    "import warnings\n",
    "from sklearn import linear_model\n",
    "from sklearn.linear_model import LinearRegression\n",
    "import statsmodels.api as sm\n",
    "from scipy import stats\n",
    "\n",
    "warnings.filterwarnings('ignore')"
   ]
  },
  {
   "cell_type": "code",
   "execution_count": 2,
   "metadata": {},
   "outputs": [],
   "source": [
    "pd.set_option('display.float_format', '{:.3f}'.format)"
   ]
  },
  {
   "cell_type": "markdown",
   "metadata": {},
   "source": [
    "### ```拆分成 control 與 treatment```"
   ]
  },
  {
   "cell_type": "code",
   "execution_count": 3,
   "metadata": {},
   "outputs": [],
   "source": [
    "merge = pd.read_csv(r'C:\\Users\\User\\Desktop\\poll\\data\\processed_data\\merge_data.csv', index_col=0)\n",
    "control = merge.loc[(merge['treatment'] == 0)]\n",
    "treatment = merge.loc[(merge['treatment'] == 1)]"
   ]
  },
  {
   "cell_type": "code",
   "execution_count": 4,
   "metadata": {},
   "outputs": [],
   "source": [
    "# control wtp\n",
    "control_wtp = control[['treatment', 'player.wtp_voting_cost', 'player.wtp_voting_cost_pq', 'sb_condition']]\n",
    "control_wtp['wtp_sum'] = control_wtp.apply(lambda x : x['player.wtp_voting_cost'] + x['player.wtp_voting_cost_pq'], axis = 1)\n",
    "\n",
    "# treatment wtp\n",
    "treatment_wtp = treatment[['treatment','player.wtp_voting_cost', 'sb_condition']]\n",
    "treatment_wtp.rename(columns = {'player.wtp_voting_cost':'wtp'}, inplace = True)"
   ]
  },
  {
   "cell_type": "markdown",
   "metadata": {},
   "source": [
    "### ```拆分成大大、小小、大小、小大```"
   ]
  },
  {
   "cell_type": "code",
   "execution_count": 5,
   "metadata": {},
   "outputs": [],
   "source": [
    "# select data based on sb_condition\n",
    "bb = 'bb'\n",
    "bb_t = treatment_wtp.query('sb_condition == @bb')\n",
    "bb_c = control_wtp.query('sb_condition == @bb')\n",
    "\n",
    "ss = 'ss'\n",
    "ss_t = treatment_wtp.query('sb_condition == @ss')\n",
    "ss_c = control_wtp.query('sb_condition == @ss')\n",
    "\n",
    "sb = 'sb'\n",
    "sb_t = treatment_wtp.query('sb_condition == @sb')\n",
    "sb_c = control_wtp.query('sb_condition == @sb')\n",
    "\n",
    "bs = 'bs'\n",
    "bs_t = treatment_wtp.query('sb_condition == @bs')\n",
    "bs_c = control_wtp.query('sb_condition == @bs')"
   ]
  },
  {
   "cell_type": "code",
   "execution_count": 6,
   "metadata": {},
   "outputs": [
    {
     "name": "stdout",
     "output_type": "stream",
     "text": [
      "control group:\n",
      "【大大】: 135\n",
      "【大小】: 105\n",
      "【小大】: 105\n",
      "【小小】: 105\n",
      "---------------------\n",
      "treatment group:\n",
      "【大大】: 135\n",
      "【大小】: 105\n",
      "【小大】: 105\n",
      "【小小】: 105\n"
     ]
    }
   ],
   "source": [
    "# 顯示人數分配\n",
    "print('control group:')\n",
    "print(f\"【大大】: {len(bb_c)}\")\n",
    "print(f\"【大小】: {len(bs_c)}\")\n",
    "print(f\"【小大】: {len(sb_c)}\")\n",
    "print(f\"【小小】: {len(ss_c)}\")\n",
    "\n",
    "print('---------------------')\n",
    "\n",
    "print('treatment group:')\n",
    "print(f\"【大大】: {len(bb_t)}\")\n",
    "print(f\"【大小】: {len(bs_t)}\")\n",
    "print(f\"【小大】: {len(sb_t)}\")\n",
    "print(f\"【小小】: {len(ss_t)}\")"
   ]
  },
  {
   "cell_type": "markdown",
   "metadata": {},
   "source": [
    "### ```all```"
   ]
  },
  {
   "cell_type": "code",
   "execution_count": 7,
   "metadata": {},
   "outputs": [
    {
     "data": {
      "text/html": [
       "<div>\n",
       "<style scoped>\n",
       "    .dataframe tbody tr th:only-of-type {\n",
       "        vertical-align: middle;\n",
       "    }\n",
       "\n",
       "    .dataframe tbody tr th {\n",
       "        vertical-align: top;\n",
       "    }\n",
       "\n",
       "    .dataframe thead th {\n",
       "        text-align: right;\n",
       "    }\n",
       "</style>\n",
       "<table border=\"1\" class=\"dataframe\">\n",
       "  <thead>\n",
       "    <tr style=\"text-align: right;\">\n",
       "      <th></th>\n",
       "      <th>T</th>\n",
       "      <th>dof</th>\n",
       "      <th>alternative</th>\n",
       "      <th>p-val</th>\n",
       "      <th>CI95%</th>\n",
       "      <th>cohen-d</th>\n",
       "      <th>BF10</th>\n",
       "      <th>power</th>\n",
       "    </tr>\n",
       "  </thead>\n",
       "  <tbody>\n",
       "    <tr>\n",
       "      <th>T-test</th>\n",
       "      <td>1.495</td>\n",
       "      <td>898</td>\n",
       "      <td>two-sided</td>\n",
       "      <td>0.135</td>\n",
       "      <td>[-0.72, 5.36]</td>\n",
       "      <td>0.100</td>\n",
       "      <td>0.224</td>\n",
       "      <td>0.321</td>\n",
       "    </tr>\n",
       "  </tbody>\n",
       "</table>\n",
       "</div>"
      ],
      "text/plain": [
       "           T  dof alternative  p-val          CI95%  cohen-d   BF10  power\n",
       "T-test 1.495  898   two-sided  0.135  [-0.72, 5.36]    0.100  0.224  0.321"
      ]
     },
     "execution_count": 7,
     "metadata": {},
     "output_type": "execute_result"
    }
   ],
   "source": [
    "# implement unpaired ttest\n",
    "pt.ttest(control_wtp['wtp_sum'], treatment_wtp['wtp'], paired = False)"
   ]
  },
  {
   "cell_type": "code",
   "execution_count": 8,
   "metadata": {},
   "outputs": [
    {
     "name": "stdout",
     "output_type": "stream",
     "text": [
      "control 與 treatment 的 wtp 平均值\n",
      "---------------------------------\n",
      "control: 29.788888888888888\n",
      "treamtent : 27.47111111111111\n"
     ]
    }
   ],
   "source": [
    "# get the mean of wtp\n",
    "print('control 與 treatment 的 wtp 平均值')\n",
    "print('---------------------------------')\n",
    "print(f\"control: {control_wtp['wtp_sum'].describe()['mean']}\")\n",
    "print(f\"treamtent : {treatment_wtp['wtp'].describe()['mean']}\")"
   ]
  },
  {
   "cell_type": "markdown",
   "metadata": {},
   "source": [
    "### ```bb```"
   ]
  },
  {
   "cell_type": "code",
   "execution_count": 9,
   "metadata": {},
   "outputs": [
    {
     "data": {
      "text/html": [
       "<div>\n",
       "<style scoped>\n",
       "    .dataframe tbody tr th:only-of-type {\n",
       "        vertical-align: middle;\n",
       "    }\n",
       "\n",
       "    .dataframe tbody tr th {\n",
       "        vertical-align: top;\n",
       "    }\n",
       "\n",
       "    .dataframe thead th {\n",
       "        text-align: right;\n",
       "    }\n",
       "</style>\n",
       "<table border=\"1\" class=\"dataframe\">\n",
       "  <thead>\n",
       "    <tr style=\"text-align: right;\">\n",
       "      <th></th>\n",
       "      <th>T</th>\n",
       "      <th>dof</th>\n",
       "      <th>alternative</th>\n",
       "      <th>p-val</th>\n",
       "      <th>CI95%</th>\n",
       "      <th>cohen-d</th>\n",
       "      <th>BF10</th>\n",
       "      <th>power</th>\n",
       "    </tr>\n",
       "  </thead>\n",
       "  <tbody>\n",
       "    <tr>\n",
       "      <th>T-test</th>\n",
       "      <td>1.095</td>\n",
       "      <td>268</td>\n",
       "      <td>two-sided</td>\n",
       "      <td>0.275</td>\n",
       "      <td>[-2.82, 9.87]</td>\n",
       "      <td>0.133</td>\n",
       "      <td>0.236</td>\n",
       "      <td>0.194</td>\n",
       "    </tr>\n",
       "  </tbody>\n",
       "</table>\n",
       "</div>"
      ],
      "text/plain": [
       "           T  dof alternative  p-val          CI95%  cohen-d   BF10  power\n",
       "T-test 1.095  268   two-sided  0.275  [-2.82, 9.87]    0.133  0.236  0.194"
      ]
     },
     "execution_count": 9,
     "metadata": {},
     "output_type": "execute_result"
    }
   ],
   "source": [
    "# bb\n",
    "pt.ttest(bb_c['wtp_sum'], bb_t['wtp'], paired = False)"
   ]
  },
  {
   "cell_type": "code",
   "execution_count": 10,
   "metadata": {},
   "outputs": [
    {
     "name": "stdout",
     "output_type": "stream",
     "text": [
      "【大大】control 與 treatment 的 wtp 平均值\n",
      "---------------------------------\n",
      "control: 39.77777777777778\n",
      "treamtent: 36.25185185185185\n"
     ]
    }
   ],
   "source": [
    "# get the mean of wtp\n",
    "print('【大大】control 與 treatment 的 wtp 平均值')\n",
    "print('---------------------------------')\n",
    "print(f\"control: {bb_c['wtp_sum'].describe()['mean']}\")\n",
    "print(f\"treamtent: {bb_t['wtp'].describe()['mean']}\")"
   ]
  },
  {
   "cell_type": "markdown",
   "metadata": {},
   "source": [
    "### ```ss```"
   ]
  },
  {
   "cell_type": "code",
   "execution_count": 11,
   "metadata": {},
   "outputs": [
    {
     "data": {
      "text/html": [
       "<div>\n",
       "<style scoped>\n",
       "    .dataframe tbody tr th:only-of-type {\n",
       "        vertical-align: middle;\n",
       "    }\n",
       "\n",
       "    .dataframe tbody tr th {\n",
       "        vertical-align: top;\n",
       "    }\n",
       "\n",
       "    .dataframe thead th {\n",
       "        text-align: right;\n",
       "    }\n",
       "</style>\n",
       "<table border=\"1\" class=\"dataframe\">\n",
       "  <thead>\n",
       "    <tr style=\"text-align: right;\">\n",
       "      <th></th>\n",
       "      <th>T</th>\n",
       "      <th>dof</th>\n",
       "      <th>alternative</th>\n",
       "      <th>p-val</th>\n",
       "      <th>CI95%</th>\n",
       "      <th>cohen-d</th>\n",
       "      <th>BF10</th>\n",
       "      <th>power</th>\n",
       "    </tr>\n",
       "  </thead>\n",
       "  <tbody>\n",
       "    <tr>\n",
       "      <th>T-test</th>\n",
       "      <td>1.275</td>\n",
       "      <td>208</td>\n",
       "      <td>two-sided</td>\n",
       "      <td>0.204</td>\n",
       "      <td>[-1.86, 8.66]</td>\n",
       "      <td>0.176</td>\n",
       "      <td>0.322</td>\n",
       "      <td>0.245</td>\n",
       "    </tr>\n",
       "  </tbody>\n",
       "</table>\n",
       "</div>"
      ],
      "text/plain": [
       "           T  dof alternative  p-val          CI95%  cohen-d   BF10  power\n",
       "T-test 1.275  208   two-sided  0.204  [-1.86, 8.66]    0.176  0.322  0.245"
      ]
     },
     "execution_count": 11,
     "metadata": {},
     "output_type": "execute_result"
    }
   ],
   "source": [
    "# ss\n",
    "pt.ttest(ss_c['wtp_sum'], ss_t['wtp'], paired = False)"
   ]
  },
  {
   "cell_type": "code",
   "execution_count": 12,
   "metadata": {},
   "outputs": [
    {
     "name": "stdout",
     "output_type": "stream",
     "text": [
      "【小小】control 與 treatment 的 wtp 平均值\n",
      "---------------------------------\n",
      "control: 20.552380952380954\n",
      "treamtent: 17.152380952380952\n"
     ]
    }
   ],
   "source": [
    "# get the mean of wtp\n",
    "print('【小小】control 與 treatment 的 wtp 平均值')\n",
    "print('---------------------------------')\n",
    "print(f\"control: {ss_c['wtp_sum'].describe()['mean']}\")\n",
    "print(f\"treamtent: {ss_t['wtp'].describe()['mean']}\")"
   ]
  },
  {
   "cell_type": "markdown",
   "metadata": {},
   "source": [
    "### ```sb```"
   ]
  },
  {
   "cell_type": "code",
   "execution_count": 13,
   "metadata": {},
   "outputs": [
    {
     "data": {
      "text/html": [
       "<div>\n",
       "<style scoped>\n",
       "    .dataframe tbody tr th:only-of-type {\n",
       "        vertical-align: middle;\n",
       "    }\n",
       "\n",
       "    .dataframe tbody tr th {\n",
       "        vertical-align: top;\n",
       "    }\n",
       "\n",
       "    .dataframe thead th {\n",
       "        text-align: right;\n",
       "    }\n",
       "</style>\n",
       "<table border=\"1\" class=\"dataframe\">\n",
       "  <thead>\n",
       "    <tr style=\"text-align: right;\">\n",
       "      <th></th>\n",
       "      <th>T</th>\n",
       "      <th>dof</th>\n",
       "      <th>alternative</th>\n",
       "      <th>p-val</th>\n",
       "      <th>CI95%</th>\n",
       "      <th>cohen-d</th>\n",
       "      <th>BF10</th>\n",
       "      <th>power</th>\n",
       "    </tr>\n",
       "  </thead>\n",
       "  <tbody>\n",
       "    <tr>\n",
       "      <th>T-test</th>\n",
       "      <td>-0.789</td>\n",
       "      <td>208</td>\n",
       "      <td>two-sided</td>\n",
       "      <td>0.431</td>\n",
       "      <td>[-8.7, 3.73]</td>\n",
       "      <td>0.109</td>\n",
       "      <td>0.201</td>\n",
       "      <td>0.123</td>\n",
       "    </tr>\n",
       "  </tbody>\n",
       "</table>\n",
       "</div>"
      ],
      "text/plain": [
       "            T  dof alternative  p-val         CI95%  cohen-d   BF10  power\n",
       "T-test -0.789  208   two-sided  0.431  [-8.7, 3.73]    0.109  0.201  0.123"
      ]
     },
     "execution_count": 13,
     "metadata": {},
     "output_type": "execute_result"
    }
   ],
   "source": [
    "# sb\n",
    "pt.ttest(sb_c['wtp_sum'], sb_t['wtp'], paired = False)"
   ]
  },
  {
   "cell_type": "code",
   "execution_count": 14,
   "metadata": {},
   "outputs": [
    {
     "name": "stdout",
     "output_type": "stream",
     "text": [
      "【小大】control 與 treatment 的 wtp 平均值\n",
      "---------------------------------\n",
      "control: 28.133333333333333\n",
      "treamtent: 30.61904761904762\n"
     ]
    }
   ],
   "source": [
    "# get the mean of wtp\n",
    "print('【小大】control 與 treatment 的 wtp 平均值')\n",
    "print('---------------------------------')\n",
    "print(f\"control: {sb_c['wtp_sum'].describe()['mean']}\")\n",
    "print(f\"treamtent: {sb_t['wtp'].describe()['mean']}\")"
   ]
  },
  {
   "cell_type": "markdown",
   "metadata": {},
   "source": [
    "### ```bs```"
   ]
  },
  {
   "cell_type": "code",
   "execution_count": 15,
   "metadata": {},
   "outputs": [
    {
     "data": {
      "text/html": [
       "<div>\n",
       "<style scoped>\n",
       "    .dataframe tbody tr th:only-of-type {\n",
       "        vertical-align: middle;\n",
       "    }\n",
       "\n",
       "    .dataframe tbody tr th {\n",
       "        vertical-align: top;\n",
       "    }\n",
       "\n",
       "    .dataframe thead th {\n",
       "        text-align: right;\n",
       "    }\n",
       "</style>\n",
       "<table border=\"1\" class=\"dataframe\">\n",
       "  <thead>\n",
       "    <tr style=\"text-align: right;\">\n",
       "      <th></th>\n",
       "      <th>T</th>\n",
       "      <th>dof</th>\n",
       "      <th>alternative</th>\n",
       "      <th>p-val</th>\n",
       "      <th>CI95%</th>\n",
       "      <th>cohen-d</th>\n",
       "      <th>BF10</th>\n",
       "      <th>power</th>\n",
       "    </tr>\n",
       "  </thead>\n",
       "  <tbody>\n",
       "    <tr>\n",
       "      <th>T-test</th>\n",
       "      <td>1.852</td>\n",
       "      <td>208</td>\n",
       "      <td>two-sided</td>\n",
       "      <td>0.065</td>\n",
       "      <td>[-0.29, 9.26]</td>\n",
       "      <td>0.256</td>\n",
       "      <td>0.747</td>\n",
       "      <td>0.454</td>\n",
       "    </tr>\n",
       "  </tbody>\n",
       "</table>\n",
       "</div>"
      ],
      "text/plain": [
       "           T  dof alternative  p-val          CI95%  cohen-d   BF10  power\n",
       "T-test 1.852  208   two-sided  0.065  [-0.29, 9.26]    0.256  0.747  0.454"
      ]
     },
     "execution_count": 15,
     "metadata": {},
     "output_type": "execute_result"
    }
   ],
   "source": [
    "# bs\n",
    "pt.ttest(bs_c['wtp_sum'], bs_t['wtp'], paired = False)"
   ]
  },
  {
   "cell_type": "code",
   "execution_count": 16,
   "metadata": {},
   "outputs": [
    {
     "name": "stdout",
     "output_type": "stream",
     "text": [
      "【大小】control 與 treatment 的 wtp 平均值\n",
      "---------------------------------\n",
      "control: 27.83809523809524\n",
      "treamtent: 23.35238095238095\n"
     ]
    }
   ],
   "source": [
    "# get the mean of wtp\n",
    "print('【大小】control 與 treatment 的 wtp 平均值')\n",
    "print('---------------------------------')\n",
    "print(f\"control: {bs_c['wtp_sum'].describe()['mean']}\")\n",
    "print(f\"treamtent: {bs_t['wtp'].describe()['mean']}\")"
   ]
  },
  {
   "cell_type": "markdown",
   "metadata": {},
   "source": [
    "### ```檢視 treatment 和 is_large 是否有交互作用```"
   ]
  },
  {
   "cell_type": "code",
   "execution_count": 17,
   "metadata": {},
   "outputs": [],
   "source": [
    "# create dataset\n",
    "control_int = control_wtp[['wtp_sum', 'treatment', 'sb_condition']]\n",
    "control_int = control_int.rename(columns = {'wtp_sum':'wtp'})\n",
    "\n",
    "treatment_int = treatment_wtp\n",
    "\n",
    "merge_int = pd.concat([control_int, treatment_int])"
   ]
  },
  {
   "cell_type": "code",
   "execution_count": 18,
   "metadata": {},
   "outputs": [],
   "source": [
    "# get dummies\n",
    "merge_int['sb'] = merge_int['sb_condition'].apply(lambda x : int(x == 'sb'))\n",
    "merge_int['bb'] = merge_int['sb_condition'].apply(lambda x : int(x == 'bb'))\n",
    "merge_int['bs'] = merge_int['sb_condition'].apply(lambda x : int(x == 'bs'))\n",
    "merge_int['ss'] = merge_int['sb_condition'].apply(lambda x : int(x == 'ss'))\n",
    "\n",
    "# get interaction\n",
    "merge_int['sb_treatment'] = merge_int.apply(lambda x : x['sb'] * x['treatment'], axis = 1)\n",
    "merge_int['bb_treatment'] = merge_int.apply(lambda x : x['bb'] * x['treatment'], axis = 1)\n",
    "merge_int['bs_treatment'] = merge_int.apply(lambda x : x['bs'] * x['treatment'], axis = 1)\n",
    "merge_int['ss_treatment'] = merge_int.apply(lambda x : x['ss'] * x['treatment'], axis = 1)"
   ]
  },
  {
   "cell_type": "code",
   "execution_count": 20,
   "metadata": {},
   "outputs": [],
   "source": [
    "# get X, Y\n",
    "merge_int_X = merge_int[['treatment', 'sb', 'bs', 'bb', 'sb_treatment', 'bs_treatment', 'bb_treatment']]\n",
    "merge_int_Y = merge_int[['wtp']]"
   ]
  },
  {
   "cell_type": "markdown",
   "metadata": {},
   "source": [
    "- 有交叉項"
   ]
  },
  {
   "cell_type": "code",
   "execution_count": 21,
   "metadata": {},
   "outputs": [
    {
     "data": {
      "text/html": [
       "<table class=\"simpletable\">\n",
       "<caption>OLS Regression Results</caption>\n",
       "<tr>\n",
       "  <th>Dep. Variable:</th>           <td>wtp</td>       <th>  R-squared:         </th> <td>   0.100</td>\n",
       "</tr>\n",
       "<tr>\n",
       "  <th>Model:</th>                   <td>OLS</td>       <th>  Adj. R-squared:    </th> <td>   0.093</td>\n",
       "</tr>\n",
       "<tr>\n",
       "  <th>Method:</th>             <td>Least Squares</td>  <th>  F-statistic:       </th> <td>   14.18</td>\n",
       "</tr>\n",
       "<tr>\n",
       "  <th>Date:</th>             <td>Fri, 03 Sep 2021</td> <th>  Prob (F-statistic):</th> <td>1.54e-17</td>\n",
       "</tr>\n",
       "<tr>\n",
       "  <th>Time:</th>                 <td>17:46:21</td>     <th>  Log-Likelihood:    </th> <td> -4061.3</td>\n",
       "</tr>\n",
       "<tr>\n",
       "  <th>No. Observations:</th>      <td>   900</td>      <th>  AIC:               </th> <td>   8139.</td>\n",
       "</tr>\n",
       "<tr>\n",
       "  <th>Df Residuals:</th>          <td>   892</td>      <th>  BIC:               </th> <td>   8177.</td>\n",
       "</tr>\n",
       "<tr>\n",
       "  <th>Df Model:</th>              <td>     7</td>      <th>                     </th>     <td> </td>   \n",
       "</tr>\n",
       "<tr>\n",
       "  <th>Covariance Type:</th>      <td>nonrobust</td>    <th>                     </th>     <td> </td>   \n",
       "</tr>\n",
       "</table>\n",
       "<table class=\"simpletable\">\n",
       "<tr>\n",
       "        <td></td>          <th>coef</th>     <th>std err</th>      <th>t</th>      <th>P>|t|</th>  <th>[0.025</th>    <th>0.975]</th>  \n",
       "</tr>\n",
       "<tr>\n",
       "  <th>const</th>        <td>   20.5524</td> <td>    2.162</td> <td>    9.505</td> <td> 0.000</td> <td>   16.309</td> <td>   24.796</td>\n",
       "</tr>\n",
       "<tr>\n",
       "  <th>treatment</th>    <td>   -3.4000</td> <td>    3.058</td> <td>   -1.112</td> <td> 0.266</td> <td>   -9.401</td> <td>    2.601</td>\n",
       "</tr>\n",
       "<tr>\n",
       "  <th>sb</th>           <td>    7.5810</td> <td>    3.058</td> <td>    2.479</td> <td> 0.013</td> <td>    1.580</td> <td>   13.582</td>\n",
       "</tr>\n",
       "<tr>\n",
       "  <th>bs</th>           <td>    7.2857</td> <td>    3.058</td> <td>    2.383</td> <td> 0.017</td> <td>    1.284</td> <td>   13.287</td>\n",
       "</tr>\n",
       "<tr>\n",
       "  <th>bb</th>           <td>   19.2254</td> <td>    2.883</td> <td>    6.669</td> <td> 0.000</td> <td>   13.567</td> <td>   24.883</td>\n",
       "</tr>\n",
       "<tr>\n",
       "  <th>sb_treatment</th> <td>    5.8857</td> <td>    4.324</td> <td>    1.361</td> <td> 0.174</td> <td>   -2.601</td> <td>   14.373</td>\n",
       "</tr>\n",
       "<tr>\n",
       "  <th>bs_treatment</th> <td>   -1.0857</td> <td>    4.324</td> <td>   -0.251</td> <td> 0.802</td> <td>   -9.573</td> <td>    7.401</td>\n",
       "</tr>\n",
       "<tr>\n",
       "  <th>bb_treatment</th> <td>   -0.1259</td> <td>    4.077</td> <td>   -0.031</td> <td> 0.975</td> <td>   -8.128</td> <td>    7.876</td>\n",
       "</tr>\n",
       "</table>\n",
       "<table class=\"simpletable\">\n",
       "<tr>\n",
       "  <th>Omnibus:</th>       <td>27.121</td> <th>  Durbin-Watson:     </th> <td>   0.880</td>\n",
       "</tr>\n",
       "<tr>\n",
       "  <th>Prob(Omnibus):</th> <td> 0.000</td> <th>  Jarque-Bera (JB):  </th> <td>  27.760</td>\n",
       "</tr>\n",
       "<tr>\n",
       "  <th>Skew:</th>          <td> 0.405</td> <th>  Prob(JB):          </th> <td>9.38e-07</td>\n",
       "</tr>\n",
       "<tr>\n",
       "  <th>Kurtosis:</th>      <td> 2.712</td> <th>  Cond. No.          </th> <td>    13.0</td>\n",
       "</tr>\n",
       "</table><br/><br/>Notes:<br/>[1] Standard Errors assume that the covariance matrix of the errors is correctly specified."
      ],
      "text/plain": [
       "<class 'statsmodels.iolib.summary.Summary'>\n",
       "\"\"\"\n",
       "                            OLS Regression Results                            \n",
       "==============================================================================\n",
       "Dep. Variable:                    wtp   R-squared:                       0.100\n",
       "Model:                            OLS   Adj. R-squared:                  0.093\n",
       "Method:                 Least Squares   F-statistic:                     14.18\n",
       "Date:                Fri, 03 Sep 2021   Prob (F-statistic):           1.54e-17\n",
       "Time:                        17:46:21   Log-Likelihood:                -4061.3\n",
       "No. Observations:                 900   AIC:                             8139.\n",
       "Df Residuals:                     892   BIC:                             8177.\n",
       "Df Model:                           7                                         \n",
       "Covariance Type:            nonrobust                                         \n",
       "================================================================================\n",
       "                   coef    std err          t      P>|t|      [0.025      0.975]\n",
       "--------------------------------------------------------------------------------\n",
       "const           20.5524      2.162      9.505      0.000      16.309      24.796\n",
       "treatment       -3.4000      3.058     -1.112      0.266      -9.401       2.601\n",
       "sb               7.5810      3.058      2.479      0.013       1.580      13.582\n",
       "bs               7.2857      3.058      2.383      0.017       1.284      13.287\n",
       "bb              19.2254      2.883      6.669      0.000      13.567      24.883\n",
       "sb_treatment     5.8857      4.324      1.361      0.174      -2.601      14.373\n",
       "bs_treatment    -1.0857      4.324     -0.251      0.802      -9.573       7.401\n",
       "bb_treatment    -0.1259      4.077     -0.031      0.975      -8.128       7.876\n",
       "==============================================================================\n",
       "Omnibus:                       27.121   Durbin-Watson:                   0.880\n",
       "Prob(Omnibus):                  0.000   Jarque-Bera (JB):               27.760\n",
       "Skew:                           0.405   Prob(JB):                     9.38e-07\n",
       "Kurtosis:                       2.712   Cond. No.                         13.0\n",
       "==============================================================================\n",
       "\n",
       "Notes:\n",
       "[1] Standard Errors assume that the covariance matrix of the errors is correctly specified.\n",
       "\"\"\""
      ]
     },
     "execution_count": 21,
     "metadata": {},
     "output_type": "execute_result"
    }
   ],
   "source": [
    "# run regression\n",
    "merge_int_X = sm.add_constant(merge_int_X)\n",
    "result = sm.OLS(merge_int_Y, merge_int_X).fit()\n",
    "result.summary(xname=['const','treatment', 'sb', 'bs', 'bb', 'sb_treatment', 'bs_treatment', 'bb_treatment'], \n",
    "               yname='wtp')"
   ]
  },
  {
   "cell_type": "markdown",
   "metadata": {},
   "source": [
    "- 沒交叉項"
   ]
  },
  {
   "cell_type": "code",
   "execution_count": 22,
   "metadata": {},
   "outputs": [],
   "source": [
    "merge_X = merge_int[['treatment', 'sb', 'bs', 'bb']]\n",
    "merge_Y = merge_int[['wtp']]"
   ]
  },
  {
   "cell_type": "code",
   "execution_count": 23,
   "metadata": {},
   "outputs": [
    {
     "data": {
      "text/html": [
       "<table class=\"simpletable\">\n",
       "<caption>OLS Regression Results</caption>\n",
       "<tr>\n",
       "  <th>Dep. Variable:</th>           <td>wtp</td>       <th>  R-squared:         </th> <td>   0.097</td>\n",
       "</tr>\n",
       "<tr>\n",
       "  <th>Model:</th>                   <td>OLS</td>       <th>  Adj. R-squared:    </th> <td>   0.093</td>\n",
       "</tr>\n",
       "<tr>\n",
       "  <th>Method:</th>             <td>Least Squares</td>  <th>  F-statistic:       </th> <td>   23.99</td>\n",
       "</tr>\n",
       "<tr>\n",
       "  <th>Date:</th>             <td>Fri, 03 Sep 2021</td> <th>  Prob (F-statistic):</th> <td>7.14e-19</td>\n",
       "</tr>\n",
       "<tr>\n",
       "  <th>Time:</th>                 <td>17:46:21</td>     <th>  Log-Likelihood:    </th> <td> -4063.0</td>\n",
       "</tr>\n",
       "<tr>\n",
       "  <th>No. Observations:</th>      <td>   900</td>      <th>  AIC:               </th> <td>   8136.</td>\n",
       "</tr>\n",
       "<tr>\n",
       "  <th>Df Residuals:</th>          <td>   895</td>      <th>  BIC:               </th> <td>   8160.</td>\n",
       "</tr>\n",
       "<tr>\n",
       "  <th>Df Model:</th>              <td>     4</td>      <th>                     </th>     <td> </td>   \n",
       "</tr>\n",
       "<tr>\n",
       "  <th>Covariance Type:</th>      <td>nonrobust</td>    <th>                     </th>     <td> </td>   \n",
       "</tr>\n",
       "</table>\n",
       "<table class=\"simpletable\">\n",
       "<tr>\n",
       "      <td></td>         <th>coef</th>     <th>std err</th>      <th>t</th>      <th>P>|t|</th>  <th>[0.025</th>    <th>0.975]</th>  \n",
       "</tr>\n",
       "<tr>\n",
       "  <th>const</th>     <td>   20.0113</td> <td>    1.698</td> <td>   11.784</td> <td> 0.000</td> <td>   16.678</td> <td>   23.344</td>\n",
       "</tr>\n",
       "<tr>\n",
       "  <th>treatment</th> <td>   -2.3178</td> <td>    1.477</td> <td>   -1.569</td> <td> 0.117</td> <td>   -5.217</td> <td>    0.582</td>\n",
       "</tr>\n",
       "<tr>\n",
       "  <th>sb</th>        <td>   10.5238</td> <td>    2.163</td> <td>    4.866</td> <td> 0.000</td> <td>    6.280</td> <td>   14.768</td>\n",
       "</tr>\n",
       "<tr>\n",
       "  <th>bs</th>        <td>    6.7429</td> <td>    2.163</td> <td>    3.118</td> <td> 0.002</td> <td>    2.499</td> <td>   10.987</td>\n",
       "</tr>\n",
       "<tr>\n",
       "  <th>bb</th>        <td>   19.1624</td> <td>    2.039</td> <td>    9.399</td> <td> 0.000</td> <td>   15.161</td> <td>   23.164</td>\n",
       "</tr>\n",
       "</table>\n",
       "<table class=\"simpletable\">\n",
       "<tr>\n",
       "  <th>Omnibus:</th>       <td>27.862</td> <th>  Durbin-Watson:     </th> <td>   0.882</td>\n",
       "</tr>\n",
       "<tr>\n",
       "  <th>Prob(Omnibus):</th> <td> 0.000</td> <th>  Jarque-Bera (JB):  </th> <td>  28.820</td>\n",
       "</tr>\n",
       "<tr>\n",
       "  <th>Skew:</th>          <td> 0.416</td> <th>  Prob(JB):          </th> <td>5.52e-07</td>\n",
       "</tr>\n",
       "<tr>\n",
       "  <th>Kurtosis:</th>      <td> 2.726</td> <th>  Cond. No.          </th> <td>    5.56</td>\n",
       "</tr>\n",
       "</table><br/><br/>Notes:<br/>[1] Standard Errors assume that the covariance matrix of the errors is correctly specified."
      ],
      "text/plain": [
       "<class 'statsmodels.iolib.summary.Summary'>\n",
       "\"\"\"\n",
       "                            OLS Regression Results                            \n",
       "==============================================================================\n",
       "Dep. Variable:                    wtp   R-squared:                       0.097\n",
       "Model:                            OLS   Adj. R-squared:                  0.093\n",
       "Method:                 Least Squares   F-statistic:                     23.99\n",
       "Date:                Fri, 03 Sep 2021   Prob (F-statistic):           7.14e-19\n",
       "Time:                        17:46:21   Log-Likelihood:                -4063.0\n",
       "No. Observations:                 900   AIC:                             8136.\n",
       "Df Residuals:                     895   BIC:                             8160.\n",
       "Df Model:                           4                                         \n",
       "Covariance Type:            nonrobust                                         \n",
       "==============================================================================\n",
       "                 coef    std err          t      P>|t|      [0.025      0.975]\n",
       "------------------------------------------------------------------------------\n",
       "const         20.0113      1.698     11.784      0.000      16.678      23.344\n",
       "treatment     -2.3178      1.477     -1.569      0.117      -5.217       0.582\n",
       "sb            10.5238      2.163      4.866      0.000       6.280      14.768\n",
       "bs             6.7429      2.163      3.118      0.002       2.499      10.987\n",
       "bb            19.1624      2.039      9.399      0.000      15.161      23.164\n",
       "==============================================================================\n",
       "Omnibus:                       27.862   Durbin-Watson:                   0.882\n",
       "Prob(Omnibus):                  0.000   Jarque-Bera (JB):               28.820\n",
       "Skew:                           0.416   Prob(JB):                     5.52e-07\n",
       "Kurtosis:                       2.726   Cond. No.                         5.56\n",
       "==============================================================================\n",
       "\n",
       "Notes:\n",
       "[1] Standard Errors assume that the covariance matrix of the errors is correctly specified.\n",
       "\"\"\""
      ]
     },
     "execution_count": 23,
     "metadata": {},
     "output_type": "execute_result"
    }
   ],
   "source": [
    "# run regression\n",
    "merge_X = sm.add_constant(merge_X)\n",
    "result = sm.OLS(merge_Y, merge_X).fit()\n",
    "result.summary(xname=['const','treatment', 'sb', 'bs', 'bb'], \n",
    "               yname='wtp')"
   ]
  },
  {
   "cell_type": "markdown",
   "metadata": {},
   "source": [
    "### ```將 control 的 wtp 改為取大或是取小```\n",
    "- a + b -> max(a, b) "
   ]
  },
  {
   "cell_type": "code",
   "execution_count": 38,
   "metadata": {},
   "outputs": [],
   "source": [
    "control_max = control_wtp[['treatment', 'player.wtp_voting_cost', 'player.wtp_voting_cost_pq', 'sb_condition']]\n",
    "control_max['wtp'] = control_max.apply(lambda x : max(x['player.wtp_voting_cost'], x['player.wtp_voting_cost_pq']), axis = 1)\n",
    "control_max = control_max[['wtp', 'treatment', 'sb_condition']]\n",
    "\n",
    "merge_max = pd.concat([treatment_wtp, control_max])"
   ]
  },
  {
   "cell_type": "code",
   "execution_count": 43,
   "metadata": {},
   "outputs": [],
   "source": [
    "# get dummies\n",
    "merge_max['sb'] = merge_max['sb_condition'].apply(lambda x : int(x == 'sb'))\n",
    "merge_max['bb'] = merge_max['sb_condition'].apply(lambda x : int(x == 'bb'))\n",
    "merge_max['bs'] = merge_max['sb_condition'].apply(lambda x : int(x == 'bs'))\n",
    "merge_max['ss'] = merge_max['sb_condition'].apply(lambda x : int(x == 'ss'))\n",
    "\n",
    "# get interaction\n",
    "merge_max['sb_treatment'] = merge_max.apply(lambda x : x['sb'] * x['treatment'], axis = 1)\n",
    "merge_max['bb_treatment'] = merge_max.apply(lambda x : x['bb'] * x['treatment'], axis = 1)\n",
    "merge_max['bs_treatment'] = merge_max.apply(lambda x : x['bs'] * x['treatment'], axis = 1)\n",
    "merge_max['ss_treatment'] = merge_max.apply(lambda x : x['ss'] * x['treatment'], axis = 1)"
   ]
  },
  {
   "cell_type": "code",
   "execution_count": 45,
   "metadata": {},
   "outputs": [],
   "source": [
    "# get X, Y\n",
    "merge_max_X = merge_max[['treatment', 'sb', 'bs', 'bb', 'sb_treatment', 'bs_treatment', 'bb_treatment']]\n",
    "merge_max_Y = merge_max[['wtp']]"
   ]
  },
  {
   "cell_type": "code",
   "execution_count": 46,
   "metadata": {},
   "outputs": [
    {
     "data": {
      "text/html": [
       "<table class=\"simpletable\">\n",
       "<caption>OLS Regression Results</caption>\n",
       "<tr>\n",
       "  <th>Dep. Variable:</th>           <td>wtp</td>       <th>  R-squared:         </th> <td>   0.124</td>\n",
       "</tr>\n",
       "<tr>\n",
       "  <th>Model:</th>                   <td>OLS</td>       <th>  Adj. R-squared:    </th> <td>   0.117</td>\n",
       "</tr>\n",
       "<tr>\n",
       "  <th>Method:</th>             <td>Least Squares</td>  <th>  F-statistic:       </th> <td>   17.96</td>\n",
       "</tr>\n",
       "<tr>\n",
       "  <th>Date:</th>             <td>Fri, 03 Sep 2021</td> <th>  Prob (F-statistic):</th> <td>2.08e-22</td>\n",
       "</tr>\n",
       "<tr>\n",
       "  <th>Time:</th>                 <td>17:57:48</td>     <th>  Log-Likelihood:    </th> <td> -3874.7</td>\n",
       "</tr>\n",
       "<tr>\n",
       "  <th>No. Observations:</th>      <td>   900</td>      <th>  AIC:               </th> <td>   7765.</td>\n",
       "</tr>\n",
       "<tr>\n",
       "  <th>Df Residuals:</th>          <td>   892</td>      <th>  BIC:               </th> <td>   7804.</td>\n",
       "</tr>\n",
       "<tr>\n",
       "  <th>Df Model:</th>              <td>     7</td>      <th>                     </th>     <td> </td>   \n",
       "</tr>\n",
       "<tr>\n",
       "  <th>Covariance Type:</th>      <td>nonrobust</td>    <th>                     </th>     <td> </td>   \n",
       "</tr>\n",
       "</table>\n",
       "<table class=\"simpletable\">\n",
       "<tr>\n",
       "        <td></td>          <th>coef</th>     <th>std err</th>      <th>t</th>      <th>P>|t|</th>  <th>[0.025</th>    <th>0.975]</th>  \n",
       "</tr>\n",
       "<tr>\n",
       "  <th>const</th>        <td>   15.0286</td> <td>    1.757</td> <td>    8.552</td> <td> 0.000</td> <td>   11.580</td> <td>   18.478</td>\n",
       "</tr>\n",
       "<tr>\n",
       "  <th>treatment</th>    <td>    2.1238</td> <td>    2.485</td> <td>    0.855</td> <td> 0.393</td> <td>   -2.754</td> <td>    7.001</td>\n",
       "</tr>\n",
       "<tr>\n",
       "  <th>sb</th>           <td>    4.2571</td> <td>    2.485</td> <td>    1.713</td> <td> 0.087</td> <td>   -0.620</td> <td>    9.135</td>\n",
       "</tr>\n",
       "<tr>\n",
       "  <th>bs</th>           <td>    8.5810</td> <td>    2.485</td> <td>    3.453</td> <td> 0.001</td> <td>    3.703</td> <td>   13.459</td>\n",
       "</tr>\n",
       "<tr>\n",
       "  <th>bb</th>           <td>    8.0085</td> <td>    2.343</td> <td>    3.418</td> <td> 0.001</td> <td>    3.410</td> <td>   12.607</td>\n",
       "</tr>\n",
       "<tr>\n",
       "  <th>sb_treatment</th> <td>    9.2095</td> <td>    3.515</td> <td>    2.620</td> <td> 0.009</td> <td>    2.312</td> <td>   16.107</td>\n",
       "</tr>\n",
       "<tr>\n",
       "  <th>bs_treatment</th> <td>   -2.3810</td> <td>    3.515</td> <td>   -0.677</td> <td> 0.498</td> <td>   -9.279</td> <td>    4.517</td>\n",
       "</tr>\n",
       "<tr>\n",
       "  <th>bb_treatment</th> <td>   11.0910</td> <td>    3.314</td> <td>    3.347</td> <td> 0.001</td> <td>    4.588</td> <td>   17.594</td>\n",
       "</tr>\n",
       "</table>\n",
       "<table class=\"simpletable\">\n",
       "<tr>\n",
       "  <th>Omnibus:</th>       <td>13.747</td> <th>  Durbin-Watson:     </th> <td>   0.884</td>\n",
       "</tr>\n",
       "<tr>\n",
       "  <th>Prob(Omnibus):</th> <td> 0.001</td> <th>  Jarque-Bera (JB):  </th> <td>  14.025</td>\n",
       "</tr>\n",
       "<tr>\n",
       "  <th>Skew:</th>          <td> 0.291</td> <th>  Prob(JB):          </th> <td>0.000901</td>\n",
       "</tr>\n",
       "<tr>\n",
       "  <th>Kurtosis:</th>      <td> 2.815</td> <th>  Cond. No.          </th> <td>    13.0</td>\n",
       "</tr>\n",
       "</table><br/><br/>Notes:<br/>[1] Standard Errors assume that the covariance matrix of the errors is correctly specified."
      ],
      "text/plain": [
       "<class 'statsmodels.iolib.summary.Summary'>\n",
       "\"\"\"\n",
       "                            OLS Regression Results                            \n",
       "==============================================================================\n",
       "Dep. Variable:                    wtp   R-squared:                       0.124\n",
       "Model:                            OLS   Adj. R-squared:                  0.117\n",
       "Method:                 Least Squares   F-statistic:                     17.96\n",
       "Date:                Fri, 03 Sep 2021   Prob (F-statistic):           2.08e-22\n",
       "Time:                        17:57:48   Log-Likelihood:                -3874.7\n",
       "No. Observations:                 900   AIC:                             7765.\n",
       "Df Residuals:                     892   BIC:                             7804.\n",
       "Df Model:                           7                                         \n",
       "Covariance Type:            nonrobust                                         \n",
       "================================================================================\n",
       "                   coef    std err          t      P>|t|      [0.025      0.975]\n",
       "--------------------------------------------------------------------------------\n",
       "const           15.0286      1.757      8.552      0.000      11.580      18.478\n",
       "treatment        2.1238      2.485      0.855      0.393      -2.754       7.001\n",
       "sb               4.2571      2.485      1.713      0.087      -0.620       9.135\n",
       "bs               8.5810      2.485      3.453      0.001       3.703      13.459\n",
       "bb               8.0085      2.343      3.418      0.001       3.410      12.607\n",
       "sb_treatment     9.2095      3.515      2.620      0.009       2.312      16.107\n",
       "bs_treatment    -2.3810      3.515     -0.677      0.498      -9.279       4.517\n",
       "bb_treatment    11.0910      3.314      3.347      0.001       4.588      17.594\n",
       "==============================================================================\n",
       "Omnibus:                       13.747   Durbin-Watson:                   0.884\n",
       "Prob(Omnibus):                  0.001   Jarque-Bera (JB):               14.025\n",
       "Skew:                           0.291   Prob(JB):                     0.000901\n",
       "Kurtosis:                       2.815   Cond. No.                         13.0\n",
       "==============================================================================\n",
       "\n",
       "Notes:\n",
       "[1] Standard Errors assume that the covariance matrix of the errors is correctly specified.\n",
       "\"\"\""
      ]
     },
     "execution_count": 46,
     "metadata": {},
     "output_type": "execute_result"
    }
   ],
   "source": [
    "# run regression\n",
    "merge_max_X = sm.add_constant(merge_max_X)\n",
    "result = sm.OLS(merge_max_Y, merge_max_X).fit()\n",
    "result.summary(xname=['const','treatment', 'sb', 'bs', 'bb', 'sb_treatment', 'bs_treatment', 'bb_treatment'], \n",
    "               yname='wtp')"
   ]
  },
  {
   "cell_type": "markdown",
   "metadata": {},
   "source": [
    "- a + b -> min(a, b)"
   ]
  },
  {
   "cell_type": "code",
   "execution_count": 47,
   "metadata": {},
   "outputs": [],
   "source": [
    "control_min = control_wtp[['treatment', 'player.wtp_voting_cost', 'player.wtp_voting_cost_pq', 'sb_condition']]\n",
    "control_min['wtp'] = control_min.apply(lambda x : min(x['player.wtp_voting_cost'], x['player.wtp_voting_cost_pq']), axis = 1)\n",
    "control_min = control_min[['wtp', 'treatment', 'sb_condition']]\n",
    "\n",
    "merge_min = pd.concat([treatment_wtp, control_min])"
   ]
  },
  {
   "cell_type": "code",
   "execution_count": 49,
   "metadata": {},
   "outputs": [],
   "source": [
    "# get dummies\n",
    "merge_min['sb'] = merge_min['sb_condition'].apply(lambda x : int(x == 'sb'))\n",
    "merge_min['bb'] = merge_min['sb_condition'].apply(lambda x : int(x == 'bb'))\n",
    "merge_min['bs'] = merge_min['sb_condition'].apply(lambda x : int(x == 'bs'))\n",
    "merge_min['ss'] = merge_min['sb_condition'].apply(lambda x : int(x == 'ss'))\n",
    "\n",
    "# get interaction\n",
    "merge_min['sb_treatment'] = merge_min.apply(lambda x : x['sb'] * x['treatment'], axis = 1)\n",
    "merge_min['bb_treatment'] = merge_min.apply(lambda x : x['bb'] * x['treatment'], axis = 1)\n",
    "merge_min['bs_treatment'] = merge_min.apply(lambda x : x['bs'] * x['treatment'], axis = 1)\n",
    "merge_min['ss_treatment'] = merge_min.apply(lambda x : x['ss'] * x['treatment'], axis = 1)"
   ]
  },
  {
   "cell_type": "code",
   "execution_count": 50,
   "metadata": {},
   "outputs": [],
   "source": [
    "# get X, Y\n",
    "merge_min_X = merge_min[['treatment', 'sb', 'bs', 'bb', 'sb_treatment', 'bs_treatment', 'bb_treatment']]\n",
    "merge_min_Y = merge_min[['wtp']]"
   ]
  },
  {
   "cell_type": "code",
   "execution_count": 51,
   "metadata": {},
   "outputs": [
    {
     "data": {
      "text/html": [
       "<table class=\"simpletable\">\n",
       "<caption>OLS Regression Results</caption>\n",
       "<tr>\n",
       "  <th>Dep. Variable:</th>           <td>wtp</td>       <th>  R-squared:         </th> <td>   0.298</td>\n",
       "</tr>\n",
       "<tr>\n",
       "  <th>Model:</th>                   <td>OLS</td>       <th>  Adj. R-squared:    </th> <td>   0.293</td>\n",
       "</tr>\n",
       "<tr>\n",
       "  <th>Method:</th>             <td>Least Squares</td>  <th>  F-statistic:       </th> <td>   54.20</td>\n",
       "</tr>\n",
       "<tr>\n",
       "  <th>Date:</th>             <td>Fri, 03 Sep 2021</td> <th>  Prob (F-statistic):</th> <td>1.42e-64</td>\n",
       "</tr>\n",
       "<tr>\n",
       "  <th>Time:</th>                 <td>18:00:21</td>     <th>  Log-Likelihood:    </th> <td> -3823.9</td>\n",
       "</tr>\n",
       "<tr>\n",
       "  <th>No. Observations:</th>      <td>   900</td>      <th>  AIC:               </th> <td>   7664.</td>\n",
       "</tr>\n",
       "<tr>\n",
       "  <th>Df Residuals:</th>          <td>   892</td>      <th>  BIC:               </th> <td>   7702.</td>\n",
       "</tr>\n",
       "<tr>\n",
       "  <th>Df Model:</th>              <td>     7</td>      <th>                     </th>     <td> </td>   \n",
       "</tr>\n",
       "<tr>\n",
       "  <th>Covariance Type:</th>      <td>nonrobust</td>    <th>                     </th>     <td> </td>   \n",
       "</tr>\n",
       "</table>\n",
       "<table class=\"simpletable\">\n",
       "<tr>\n",
       "        <td></td>          <th>coef</th>     <th>std err</th>      <th>t</th>      <th>P>|t|</th>  <th>[0.025</th>    <th>0.975]</th>  \n",
       "</tr>\n",
       "<tr>\n",
       "  <th>const</th>        <td>    5.5238</td> <td>    1.661</td> <td>    3.326</td> <td> 0.001</td> <td>    2.264</td> <td>    8.783</td>\n",
       "</tr>\n",
       "<tr>\n",
       "  <th>treatment</th>    <td>   11.6286</td> <td>    2.349</td> <td>    4.951</td> <td> 0.000</td> <td>    7.019</td> <td>   16.238</td>\n",
       "</tr>\n",
       "<tr>\n",
       "  <th>sb</th>           <td>    3.3238</td> <td>    2.349</td> <td>    1.415</td> <td> 0.157</td> <td>   -1.286</td> <td>    7.934</td>\n",
       "</tr>\n",
       "<tr>\n",
       "  <th>bs</th>           <td>   -1.2952</td> <td>    2.349</td> <td>   -0.551</td> <td> 0.581</td> <td>   -5.905</td> <td>    3.315</td>\n",
       "</tr>\n",
       "<tr>\n",
       "  <th>bb</th>           <td>   11.2169</td> <td>    2.214</td> <td>    5.065</td> <td> 0.000</td> <td>    6.871</td> <td>   15.563</td>\n",
       "</tr>\n",
       "<tr>\n",
       "  <th>sb_treatment</th> <td>   10.1429</td> <td>    3.322</td> <td>    3.053</td> <td> 0.002</td> <td>    3.624</td> <td>   16.662</td>\n",
       "</tr>\n",
       "<tr>\n",
       "  <th>bs_treatment</th> <td>    7.4952</td> <td>    3.322</td> <td>    2.256</td> <td> 0.024</td> <td>    0.976</td> <td>   14.015</td>\n",
       "</tr>\n",
       "<tr>\n",
       "  <th>bb_treatment</th> <td>    7.8825</td> <td>    3.132</td> <td>    2.517</td> <td> 0.012</td> <td>    1.736</td> <td>   14.029</td>\n",
       "</tr>\n",
       "</table>\n",
       "<table class=\"simpletable\">\n",
       "<tr>\n",
       "  <th>Omnibus:</th>       <td>42.123</td> <th>  Durbin-Watson:     </th> <td>   0.974</td>\n",
       "</tr>\n",
       "<tr>\n",
       "  <th>Prob(Omnibus):</th> <td> 0.000</td> <th>  Jarque-Bera (JB):  </th> <td>  47.360</td>\n",
       "</tr>\n",
       "<tr>\n",
       "  <th>Skew:</th>          <td> 0.522</td> <th>  Prob(JB):          </th> <td>5.20e-11</td>\n",
       "</tr>\n",
       "<tr>\n",
       "  <th>Kurtosis:</th>      <td> 3.416</td> <th>  Cond. No.          </th> <td>    13.0</td>\n",
       "</tr>\n",
       "</table><br/><br/>Notes:<br/>[1] Standard Errors assume that the covariance matrix of the errors is correctly specified."
      ],
      "text/plain": [
       "<class 'statsmodels.iolib.summary.Summary'>\n",
       "\"\"\"\n",
       "                            OLS Regression Results                            \n",
       "==============================================================================\n",
       "Dep. Variable:                    wtp   R-squared:                       0.298\n",
       "Model:                            OLS   Adj. R-squared:                  0.293\n",
       "Method:                 Least Squares   F-statistic:                     54.20\n",
       "Date:                Fri, 03 Sep 2021   Prob (F-statistic):           1.42e-64\n",
       "Time:                        18:00:21   Log-Likelihood:                -3823.9\n",
       "No. Observations:                 900   AIC:                             7664.\n",
       "Df Residuals:                     892   BIC:                             7702.\n",
       "Df Model:                           7                                         \n",
       "Covariance Type:            nonrobust                                         \n",
       "================================================================================\n",
       "                   coef    std err          t      P>|t|      [0.025      0.975]\n",
       "--------------------------------------------------------------------------------\n",
       "const            5.5238      1.661      3.326      0.001       2.264       8.783\n",
       "treatment       11.6286      2.349      4.951      0.000       7.019      16.238\n",
       "sb               3.3238      2.349      1.415      0.157      -1.286       7.934\n",
       "bs              -1.2952      2.349     -0.551      0.581      -5.905       3.315\n",
       "bb              11.2169      2.214      5.065      0.000       6.871      15.563\n",
       "sb_treatment    10.1429      3.322      3.053      0.002       3.624      16.662\n",
       "bs_treatment     7.4952      3.322      2.256      0.024       0.976      14.015\n",
       "bb_treatment     7.8825      3.132      2.517      0.012       1.736      14.029\n",
       "==============================================================================\n",
       "Omnibus:                       42.123   Durbin-Watson:                   0.974\n",
       "Prob(Omnibus):                  0.000   Jarque-Bera (JB):               47.360\n",
       "Skew:                           0.522   Prob(JB):                     5.20e-11\n",
       "Kurtosis:                       3.416   Cond. No.                         13.0\n",
       "==============================================================================\n",
       "\n",
       "Notes:\n",
       "[1] Standard Errors assume that the covariance matrix of the errors is correctly specified.\n",
       "\"\"\""
      ]
     },
     "execution_count": 51,
     "metadata": {},
     "output_type": "execute_result"
    }
   ],
   "source": [
    "# run regression\n",
    "merge_min_X = sm.add_constant(merge_min_X)\n",
    "result = sm.OLS(merge_min_Y, merge_min_X).fit()\n",
    "result.summary(xname=['const','treatment', 'sb', 'bs', 'bb', 'sb_treatment', 'bs_treatment', 'bb_treatment'], \n",
    "               yname='wtp')"
   ]
  },
  {
   "cell_type": "code",
   "execution_count": null,
   "metadata": {},
   "outputs": [],
   "source": []
  }
 ],
 "metadata": {
  "kernelspec": {
   "display_name": "Python 3",
   "language": "python",
   "name": "python3"
  },
  "language_info": {
   "codemirror_mode": {
    "name": "ipython",
    "version": 3
   },
   "file_extension": ".py",
   "mimetype": "text/x-python",
   "name": "python",
   "nbconvert_exporter": "python",
   "pygments_lexer": "ipython3",
   "version": "3.8.5"
  }
 },
 "nbformat": 4,
 "nbformat_minor": 4
}
