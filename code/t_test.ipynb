{
 "cells": [
  {
   "cell_type": "markdown",
   "metadata": {},
   "source": [
    "## 有門檻 v.s. 沒門檻 t 檢定\n",
    "- 使用 control 的資料"
   ]
  },
  {
   "cell_type": "code",
   "execution_count": 1,
   "metadata": {},
   "outputs": [],
   "source": [
    "import os\n",
    "import pandas as pd\n",
    "import pingouin as pt\n",
    "import warnings\n",
    "\n",
    "warnings.filterwarnings('ignore')"
   ]
  },
  {
   "cell_type": "code",
   "execution_count": 2,
   "metadata": {},
   "outputs": [],
   "source": [
    "pd.set_option('display.float_format', '{:.3f}'.format)"
   ]
  },
  {
   "cell_type": "code",
   "execution_count": 3,
   "metadata": {},
   "outputs": [],
   "source": [
    "all_data = pd.read_csv(r'C:\\Users\\User\\Desktop\\poll\\data\\processed_data\\merge_data.csv', index_col=0)\n",
    "data = all_data.loc[(all_data['treatment'] == 0)]"
   ]
  },
  {
   "cell_type": "markdown",
   "metadata": {},
   "source": [
    "### ```檢視人數分配```"
   ]
  },
  {
   "cell_type": "code",
   "execution_count": 4,
   "metadata": {},
   "outputs": [
    {
     "name": "stdout",
     "output_type": "stream",
     "text": [
      "資料筆數: 1800\n",
      "---------------------\n",
      "沒門檻/有門檻人數分配\n"
     ]
    },
    {
     "data": {
      "text/plain": [
       "sb_condition\n",
       "bb    540\n",
       "bs    420\n",
       "sb    420\n",
       "ss    420\n",
       "dtype: int64"
      ]
     },
     "metadata": {},
     "output_type": "display_data"
    },
    {
     "name": "stdout",
     "output_type": "stream",
     "text": [
      "---------------------\n",
      "大大底下的兩種情況\n"
     ]
    },
    {
     "data": {
      "text/plain": [
       "sb_condition  bb_pq    \n",
       "bb            different     60\n",
       "              same         480\n",
       "dtype: int64"
      ]
     },
     "metadata": {},
     "output_type": "display_data"
    },
    {
     "name": "stdout",
     "output_type": "stream",
     "text": [
      "---------------------\n"
     ]
    }
   ],
   "source": [
    "# 檢視人數\n",
    "print(f\"資料筆數: {len(data)}\")\n",
    "print(\"---------------------\")\n",
    "\n",
    "print('沒門檻/有門檻人數分配')\n",
    "display(data.groupby(['sb_condition']).size())\n",
    "print('---------------------')\n",
    "\n",
    "print('大大底下的兩種情況')\n",
    "display(data.groupby(['sb_condition', 'bb_pq']).size())\n",
    "print('---------------------')"
   ]
  },
  {
   "cell_type": "markdown",
   "metadata": {},
   "source": [
    "### ```區分為大大、小小、小大、大小```"
   ]
  },
  {
   "cell_type": "code",
   "execution_count": 5,
   "metadata": {},
   "outputs": [],
   "source": [
    "# select data based on sb_condition\n",
    "bb = 'bb'\n",
    "bb_data = data.query('sb_condition == @bb')\n",
    "\n",
    "ss = 'ss'\n",
    "ss_data = data.query('sb_condition == @ss')\n",
    "\n",
    "sb = 'sb'\n",
    "sb_data = data.query('sb_condition == @sb')\n",
    "\n",
    "bs = 'bs'\n",
    "bs_data = data.query('sb_condition == @bs')"
   ]
  },
  {
   "cell_type": "markdown",
   "metadata": {},
   "source": [
    "### t-test for 4 combinations\n",
    "- 上: paired\n",
    "- 下: 沒有 paired"
   ]
  },
  {
   "cell_type": "markdown",
   "metadata": {},
   "source": [
    "### ```all```"
   ]
  },
  {
   "cell_type": "code",
   "execution_count": 6,
   "metadata": {},
   "outputs": [
    {
     "data": {
      "text/html": [
       "<div>\n",
       "<style scoped>\n",
       "    .dataframe tbody tr th:only-of-type {\n",
       "        vertical-align: middle;\n",
       "    }\n",
       "\n",
       "    .dataframe tbody tr th {\n",
       "        vertical-align: top;\n",
       "    }\n",
       "\n",
       "    .dataframe thead th {\n",
       "        text-align: right;\n",
       "    }\n",
       "</style>\n",
       "<table border=\"1\" class=\"dataframe\">\n",
       "  <thead>\n",
       "    <tr style=\"text-align: right;\">\n",
       "      <th></th>\n",
       "      <th>T</th>\n",
       "      <th>dof</th>\n",
       "      <th>alternative</th>\n",
       "      <th>p-val</th>\n",
       "      <th>CI95%</th>\n",
       "      <th>cohen-d</th>\n",
       "      <th>BF10</th>\n",
       "      <th>power</th>\n",
       "    </tr>\n",
       "  </thead>\n",
       "  <tbody>\n",
       "    <tr>\n",
       "      <th>T-test</th>\n",
       "      <td>26.698</td>\n",
       "      <td>1799</td>\n",
       "      <td>two-sided</td>\n",
       "      <td>0.000</td>\n",
       "      <td>[8.41, 9.74]</td>\n",
       "      <td>0.719</td>\n",
       "      <td>4.232e+128</td>\n",
       "      <td>1.000</td>\n",
       "    </tr>\n",
       "  </tbody>\n",
       "</table>\n",
       "</div>"
      ],
      "text/plain": [
       "            T   dof alternative  p-val         CI95%  cohen-d        BF10  \\\n",
       "T-test 26.698  1799   two-sided  0.000  [8.41, 9.74]    0.719  4.232e+128   \n",
       "\n",
       "        power  \n",
       "T-test  1.000  "
      ]
     },
     "metadata": {},
     "output_type": "display_data"
    },
    {
     "data": {
      "text/html": [
       "<div>\n",
       "<style scoped>\n",
       "    .dataframe tbody tr th:only-of-type {\n",
       "        vertical-align: middle;\n",
       "    }\n",
       "\n",
       "    .dataframe tbody tr th {\n",
       "        vertical-align: top;\n",
       "    }\n",
       "\n",
       "    .dataframe thead th {\n",
       "        text-align: right;\n",
       "    }\n",
       "</style>\n",
       "<table border=\"1\" class=\"dataframe\">\n",
       "  <thead>\n",
       "    <tr style=\"text-align: right;\">\n",
       "      <th></th>\n",
       "      <th>T</th>\n",
       "      <th>dof</th>\n",
       "      <th>alternative</th>\n",
       "      <th>p-val</th>\n",
       "      <th>CI95%</th>\n",
       "      <th>cohen-d</th>\n",
       "      <th>BF10</th>\n",
       "      <th>power</th>\n",
       "    </tr>\n",
       "  </thead>\n",
       "  <tbody>\n",
       "    <tr>\n",
       "      <th>T-test</th>\n",
       "      <td>21.568</td>\n",
       "      <td>3598</td>\n",
       "      <td>two-sided</td>\n",
       "      <td>0.000</td>\n",
       "      <td>[8.25, 9.9]</td>\n",
       "      <td>0.719</td>\n",
       "      <td>1.934e+93</td>\n",
       "      <td>1.000</td>\n",
       "    </tr>\n",
       "  </tbody>\n",
       "</table>\n",
       "</div>"
      ],
      "text/plain": [
       "            T   dof alternative  p-val        CI95%  cohen-d       BF10  power\n",
       "T-test 21.568  3598   two-sided  0.000  [8.25, 9.9]    0.719  1.934e+93  1.000"
      ]
     },
     "metadata": {},
     "output_type": "display_data"
    }
   ],
   "source": [
    "# perform t test - all\n",
    "display(pt.ttest(data['player.wtp_voting_cost'], data['player.wtp_voting_cost_pq'], paired = True))\n",
    "display(pt.ttest(data['player.wtp_voting_cost'], data['player.wtp_voting_cost_pq'], paired = False))"
   ]
  },
  {
   "cell_type": "code",
   "execution_count": 7,
   "metadata": {},
   "outputs": [
    {
     "name": "stdout",
     "output_type": "stream",
     "text": [
      "【全部資料】有門檻與沒門檻的 wtp 平均值\n",
      "------------------------\n",
      "沒門檻: 17.245555555555555\n",
      "有門檻: 8.167777777777777\n"
     ]
    }
   ],
   "source": [
    "# get the mean\n",
    "print('【全部資料】有門檻與沒門檻的 wtp 平均值')\n",
    "print('------------------------')\n",
    "print(f\"沒門檻: {data['player.wtp_voting_cost'].describe()['mean']}\")\n",
    "print(f\"有門檻: {data['player.wtp_voting_cost_pq'].describe()['mean']}\")"
   ]
  },
  {
   "cell_type": "markdown",
   "metadata": {},
   "source": [
    "### ```bb```"
   ]
  },
  {
   "cell_type": "code",
   "execution_count": 8,
   "metadata": {},
   "outputs": [
    {
     "data": {
      "text/html": [
       "<div>\n",
       "<style scoped>\n",
       "    .dataframe tbody tr th:only-of-type {\n",
       "        vertical-align: middle;\n",
       "    }\n",
       "\n",
       "    .dataframe tbody tr th {\n",
       "        vertical-align: top;\n",
       "    }\n",
       "\n",
       "    .dataframe thead th {\n",
       "        text-align: right;\n",
       "    }\n",
       "</style>\n",
       "<table border=\"1\" class=\"dataframe\">\n",
       "  <thead>\n",
       "    <tr style=\"text-align: right;\">\n",
       "      <th></th>\n",
       "      <th>T</th>\n",
       "      <th>dof</th>\n",
       "      <th>alternative</th>\n",
       "      <th>p-val</th>\n",
       "      <th>CI95%</th>\n",
       "      <th>cohen-d</th>\n",
       "      <th>BF10</th>\n",
       "      <th>power</th>\n",
       "    </tr>\n",
       "  </thead>\n",
       "  <tbody>\n",
       "    <tr>\n",
       "      <th>T-test</th>\n",
       "      <td>14.684</td>\n",
       "      <td>539</td>\n",
       "      <td>two-sided</td>\n",
       "      <td>0.000</td>\n",
       "      <td>[7.62, 9.97]</td>\n",
       "      <td>0.669</td>\n",
       "      <td>7.754e+37</td>\n",
       "      <td>1.000</td>\n",
       "    </tr>\n",
       "  </tbody>\n",
       "</table>\n",
       "</div>"
      ],
      "text/plain": [
       "            T  dof alternative  p-val         CI95%  cohen-d       BF10  power\n",
       "T-test 14.684  539   two-sided  0.000  [7.62, 9.97]    0.669  7.754e+37  1.000"
      ]
     },
     "metadata": {},
     "output_type": "display_data"
    },
    {
     "data": {
      "text/html": [
       "<div>\n",
       "<style scoped>\n",
       "    .dataframe tbody tr th:only-of-type {\n",
       "        vertical-align: middle;\n",
       "    }\n",
       "\n",
       "    .dataframe tbody tr th {\n",
       "        vertical-align: top;\n",
       "    }\n",
       "\n",
       "    .dataframe thead th {\n",
       "        text-align: right;\n",
       "    }\n",
       "</style>\n",
       "<table border=\"1\" class=\"dataframe\">\n",
       "  <thead>\n",
       "    <tr style=\"text-align: right;\">\n",
       "      <th></th>\n",
       "      <th>T</th>\n",
       "      <th>dof</th>\n",
       "      <th>alternative</th>\n",
       "      <th>p-val</th>\n",
       "      <th>CI95%</th>\n",
       "      <th>cohen-d</th>\n",
       "      <th>BF10</th>\n",
       "      <th>power</th>\n",
       "    </tr>\n",
       "  </thead>\n",
       "  <tbody>\n",
       "    <tr>\n",
       "      <th>T-test</th>\n",
       "      <td>10.990</td>\n",
       "      <td>1078</td>\n",
       "      <td>two-sided</td>\n",
       "      <td>0.000</td>\n",
       "      <td>[7.22, 10.36]</td>\n",
       "      <td>0.669</td>\n",
       "      <td>2.774e+23</td>\n",
       "      <td>1.000</td>\n",
       "    </tr>\n",
       "  </tbody>\n",
       "</table>\n",
       "</div>"
      ],
      "text/plain": [
       "            T   dof alternative  p-val          CI95%  cohen-d       BF10  \\\n",
       "T-test 10.990  1078   two-sided  0.000  [7.22, 10.36]    0.669  2.774e+23   \n",
       "\n",
       "        power  \n",
       "T-test  1.000  "
      ]
     },
     "metadata": {},
     "output_type": "display_data"
    }
   ],
   "source": [
    "# perform t test - bb\n",
    "display(pt.ttest(bb_data['player.wtp_voting_cost'], bb_data['player.wtp_voting_cost_pq'], paired = True))\n",
    "display(pt.ttest(bb_data['player.wtp_voting_cost'], bb_data['player.wtp_voting_cost_pq'], paired = False))"
   ]
  },
  {
   "cell_type": "code",
   "execution_count": 9,
   "metadata": {},
   "outputs": [
    {
     "name": "stdout",
     "output_type": "stream",
     "text": [
      "【BB 資料】有門檻與沒門檻的 wtp 平均值\n",
      "------------------------\n",
      "沒門檻: 20.325925925925926\n",
      "有門檻: 11.533333333333333\n"
     ]
    }
   ],
   "source": [
    "# get the mean\n",
    "print('【BB 資料】有門檻與沒門檻的 wtp 平均值')\n",
    "print('------------------------')\n",
    "print(f\"沒門檻: {bb_data['player.wtp_voting_cost'].describe()['mean']}\")\n",
    "print(f\"有門檻: {bb_data['player.wtp_voting_cost_pq'].describe()['mean']}\")"
   ]
  },
  {
   "cell_type": "markdown",
   "metadata": {},
   "source": [
    "- bb_pq: same "
   ]
  },
  {
   "cell_type": "code",
   "execution_count": 10,
   "metadata": {},
   "outputs": [
    {
     "data": {
      "text/html": [
       "<div>\n",
       "<style scoped>\n",
       "    .dataframe tbody tr th:only-of-type {\n",
       "        vertical-align: middle;\n",
       "    }\n",
       "\n",
       "    .dataframe tbody tr th {\n",
       "        vertical-align: top;\n",
       "    }\n",
       "\n",
       "    .dataframe thead th {\n",
       "        text-align: right;\n",
       "    }\n",
       "</style>\n",
       "<table border=\"1\" class=\"dataframe\">\n",
       "  <thead>\n",
       "    <tr style=\"text-align: right;\">\n",
       "      <th></th>\n",
       "      <th>T</th>\n",
       "      <th>dof</th>\n",
       "      <th>alternative</th>\n",
       "      <th>p-val</th>\n",
       "      <th>CI95%</th>\n",
       "      <th>cohen-d</th>\n",
       "      <th>BF10</th>\n",
       "      <th>power</th>\n",
       "    </tr>\n",
       "  </thead>\n",
       "  <tbody>\n",
       "    <tr>\n",
       "      <th>T-test</th>\n",
       "      <td>14.355</td>\n",
       "      <td>479</td>\n",
       "      <td>two-sided</td>\n",
       "      <td>0.000</td>\n",
       "      <td>[7.82, 10.3]</td>\n",
       "      <td>0.691</td>\n",
       "      <td>5.465e+35</td>\n",
       "      <td>1.000</td>\n",
       "    </tr>\n",
       "  </tbody>\n",
       "</table>\n",
       "</div>"
      ],
      "text/plain": [
       "            T  dof alternative  p-val         CI95%  cohen-d       BF10  power\n",
       "T-test 14.355  479   two-sided  0.000  [7.82, 10.3]    0.691  5.465e+35  1.000"
      ]
     },
     "metadata": {},
     "output_type": "display_data"
    },
    {
     "data": {
      "text/html": [
       "<div>\n",
       "<style scoped>\n",
       "    .dataframe tbody tr th:only-of-type {\n",
       "        vertical-align: middle;\n",
       "    }\n",
       "\n",
       "    .dataframe tbody tr th {\n",
       "        vertical-align: top;\n",
       "    }\n",
       "\n",
       "    .dataframe thead th {\n",
       "        text-align: right;\n",
       "    }\n",
       "</style>\n",
       "<table border=\"1\" class=\"dataframe\">\n",
       "  <thead>\n",
       "    <tr style=\"text-align: right;\">\n",
       "      <th></th>\n",
       "      <th>T</th>\n",
       "      <th>dof</th>\n",
       "      <th>alternative</th>\n",
       "      <th>p-val</th>\n",
       "      <th>CI95%</th>\n",
       "      <th>cohen-d</th>\n",
       "      <th>BF10</th>\n",
       "      <th>power</th>\n",
       "    </tr>\n",
       "  </thead>\n",
       "  <tbody>\n",
       "    <tr>\n",
       "      <th>T-test</th>\n",
       "      <td>10.704</td>\n",
       "      <td>958</td>\n",
       "      <td>two-sided</td>\n",
       "      <td>0.000</td>\n",
       "      <td>[7.4, 10.72]</td>\n",
       "      <td>0.691</td>\n",
       "      <td>1.26e+22</td>\n",
       "      <td>1.000</td>\n",
       "    </tr>\n",
       "  </tbody>\n",
       "</table>\n",
       "</div>"
      ],
      "text/plain": [
       "            T  dof alternative  p-val         CI95%  cohen-d      BF10  power\n",
       "T-test 10.704  958   two-sided  0.000  [7.4, 10.72]    0.691  1.26e+22  1.000"
      ]
     },
     "metadata": {},
     "output_type": "display_data"
    }
   ],
   "source": [
    "# perform t test-bb(same)\n",
    "bb_same = bb_data.loc[(bb_data['bb_pq'] == 'same')]\n",
    "\n",
    "display(pt.ttest(bb_same['player.wtp_voting_cost'], bb_same['player.wtp_voting_cost_pq'], paired = True))\n",
    "display(pt.ttest(bb_same['player.wtp_voting_cost'], bb_same['player.wtp_voting_cost_pq'], paired = False))"
   ]
  },
  {
   "cell_type": "code",
   "execution_count": 11,
   "metadata": {},
   "outputs": [
    {
     "name": "stdout",
     "output_type": "stream",
     "text": [
      "【大大-隊友立場相同】有門檻與沒門檻的 wtp 平均值\n",
      "------------------------\n",
      "沒門檻: 20.352083333333333\n",
      "有門檻: 11.291666666666666\n"
     ]
    }
   ],
   "source": [
    "# get the mean\n",
    "print('【大大-隊友立場相同】有門檻與沒門檻的 wtp 平均值')\n",
    "print('------------------------')\n",
    "print(f\"沒門檻: {bb_same['player.wtp_voting_cost'].describe()['mean']}\")\n",
    "print(f\"有門檻: {bb_same['player.wtp_voting_cost_pq'].describe()['mean']}\")"
   ]
  },
  {
   "cell_type": "markdown",
   "metadata": {},
   "source": [
    "- bb_different"
   ]
  },
  {
   "cell_type": "code",
   "execution_count": 12,
   "metadata": {},
   "outputs": [
    {
     "data": {
      "text/html": [
       "<div>\n",
       "<style scoped>\n",
       "    .dataframe tbody tr th:only-of-type {\n",
       "        vertical-align: middle;\n",
       "    }\n",
       "\n",
       "    .dataframe tbody tr th {\n",
       "        vertical-align: top;\n",
       "    }\n",
       "\n",
       "    .dataframe thead th {\n",
       "        text-align: right;\n",
       "    }\n",
       "</style>\n",
       "<table border=\"1\" class=\"dataframe\">\n",
       "  <thead>\n",
       "    <tr style=\"text-align: right;\">\n",
       "      <th></th>\n",
       "      <th>T</th>\n",
       "      <th>dof</th>\n",
       "      <th>alternative</th>\n",
       "      <th>p-val</th>\n",
       "      <th>CI95%</th>\n",
       "      <th>cohen-d</th>\n",
       "      <th>BF10</th>\n",
       "      <th>power</th>\n",
       "    </tr>\n",
       "  </thead>\n",
       "  <tbody>\n",
       "    <tr>\n",
       "      <th>T-test</th>\n",
       "      <td>3.546</td>\n",
       "      <td>59</td>\n",
       "      <td>two-sided</td>\n",
       "      <td>0.001</td>\n",
       "      <td>[2.9, 10.4]</td>\n",
       "      <td>0.495</td>\n",
       "      <td>33.754</td>\n",
       "      <td>0.965</td>\n",
       "    </tr>\n",
       "  </tbody>\n",
       "</table>\n",
       "</div>"
      ],
      "text/plain": [
       "           T  dof alternative  p-val        CI95%  cohen-d    BF10  power\n",
       "T-test 3.546   59   two-sided  0.001  [2.9, 10.4]    0.495  33.754  0.965"
      ]
     },
     "metadata": {},
     "output_type": "display_data"
    },
    {
     "data": {
      "text/html": [
       "<div>\n",
       "<style scoped>\n",
       "    .dataframe tbody tr th:only-of-type {\n",
       "        vertical-align: middle;\n",
       "    }\n",
       "\n",
       "    .dataframe tbody tr th {\n",
       "        vertical-align: top;\n",
       "    }\n",
       "\n",
       "    .dataframe thead th {\n",
       "        text-align: right;\n",
       "    }\n",
       "</style>\n",
       "<table border=\"1\" class=\"dataframe\">\n",
       "  <thead>\n",
       "    <tr style=\"text-align: right;\">\n",
       "      <th></th>\n",
       "      <th>T</th>\n",
       "      <th>dof</th>\n",
       "      <th>alternative</th>\n",
       "      <th>p-val</th>\n",
       "      <th>CI95%</th>\n",
       "      <th>cohen-d</th>\n",
       "      <th>BF10</th>\n",
       "      <th>power</th>\n",
       "    </tr>\n",
       "  </thead>\n",
       "  <tbody>\n",
       "    <tr>\n",
       "      <th>T-test</th>\n",
       "      <td>2.709</td>\n",
       "      <td>118</td>\n",
       "      <td>two-sided</td>\n",
       "      <td>0.008</td>\n",
       "      <td>[1.79, 11.51]</td>\n",
       "      <td>0.495</td>\n",
       "      <td>5.048</td>\n",
       "      <td>0.766</td>\n",
       "    </tr>\n",
       "  </tbody>\n",
       "</table>\n",
       "</div>"
      ],
      "text/plain": [
       "           T  dof alternative  p-val          CI95%  cohen-d   BF10  power\n",
       "T-test 2.709  118   two-sided  0.008  [1.79, 11.51]    0.495  5.048  0.766"
      ]
     },
     "metadata": {},
     "output_type": "display_data"
    }
   ],
   "source": [
    "# perform t test-bb(same)\n",
    "bb_different = bb_data.loc[(bb_data['bb_pq'] == 'different')]\n",
    "\n",
    "display(pt.ttest(bb_different['player.wtp_voting_cost'], bb_different['player.wtp_voting_cost_pq'], paired = True))\n",
    "display(pt.ttest(bb_different['player.wtp_voting_cost'], bb_different['player.wtp_voting_cost_pq'], paired = False))"
   ]
  },
  {
   "cell_type": "code",
   "execution_count": 13,
   "metadata": {},
   "outputs": [
    {
     "name": "stdout",
     "output_type": "stream",
     "text": [
      "【大大-隊友立場不同】有門檻與沒門檻的 wtp 平均值\n",
      "------------------------\n",
      "沒門檻: 20.116666666666667\n",
      "有門檻: 13.466666666666667\n"
     ]
    }
   ],
   "source": [
    "# get the mean\n",
    "print('【大大-隊友立場不同】有門檻與沒門檻的 wtp 平均值')\n",
    "print('------------------------')\n",
    "print(f\"沒門檻: {bb_different['player.wtp_voting_cost'].describe()['mean']}\")\n",
    "print(f\"有門檻: {bb_different['player.wtp_voting_cost_pq'].describe()['mean']}\")"
   ]
  },
  {
   "cell_type": "markdown",
   "metadata": {},
   "source": [
    "### ```ss```"
   ]
  },
  {
   "cell_type": "code",
   "execution_count": 14,
   "metadata": {},
   "outputs": [
    {
     "data": {
      "text/html": [
       "<div>\n",
       "<style scoped>\n",
       "    .dataframe tbody tr th:only-of-type {\n",
       "        vertical-align: middle;\n",
       "    }\n",
       "\n",
       "    .dataframe tbody tr th {\n",
       "        vertical-align: top;\n",
       "    }\n",
       "\n",
       "    .dataframe thead th {\n",
       "        text-align: right;\n",
       "    }\n",
       "</style>\n",
       "<table border=\"1\" class=\"dataframe\">\n",
       "  <thead>\n",
       "    <tr style=\"text-align: right;\">\n",
       "      <th></th>\n",
       "      <th>T</th>\n",
       "      <th>dof</th>\n",
       "      <th>alternative</th>\n",
       "      <th>p-val</th>\n",
       "      <th>CI95%</th>\n",
       "      <th>cohen-d</th>\n",
       "      <th>BF10</th>\n",
       "      <th>power</th>\n",
       "    </tr>\n",
       "  </thead>\n",
       "  <tbody>\n",
       "    <tr>\n",
       "      <th>T-test</th>\n",
       "      <td>17.275</td>\n",
       "      <td>419</td>\n",
       "      <td>two-sided</td>\n",
       "      <td>0.000</td>\n",
       "      <td>[9.61, 12.08]</td>\n",
       "      <td>1.034</td>\n",
       "      <td>2.543e+47</td>\n",
       "      <td>1.000</td>\n",
       "    </tr>\n",
       "  </tbody>\n",
       "</table>\n",
       "</div>"
      ],
      "text/plain": [
       "            T  dof alternative  p-val          CI95%  cohen-d       BF10  \\\n",
       "T-test 17.275  419   two-sided  0.000  [9.61, 12.08]    1.034  2.543e+47   \n",
       "\n",
       "        power  \n",
       "T-test  1.000  "
      ]
     },
     "metadata": {},
     "output_type": "display_data"
    },
    {
     "data": {
      "text/html": [
       "<div>\n",
       "<style scoped>\n",
       "    .dataframe tbody tr th:only-of-type {\n",
       "        vertical-align: middle;\n",
       "    }\n",
       "\n",
       "    .dataframe tbody tr th {\n",
       "        vertical-align: top;\n",
       "    }\n",
       "\n",
       "    .dataframe thead th {\n",
       "        text-align: right;\n",
       "    }\n",
       "</style>\n",
       "<table border=\"1\" class=\"dataframe\">\n",
       "  <thead>\n",
       "    <tr style=\"text-align: right;\">\n",
       "      <th></th>\n",
       "      <th>T</th>\n",
       "      <th>dof</th>\n",
       "      <th>alternative</th>\n",
       "      <th>p-val</th>\n",
       "      <th>CI95%</th>\n",
       "      <th>cohen-d</th>\n",
       "      <th>BF10</th>\n",
       "      <th>power</th>\n",
       "    </tr>\n",
       "  </thead>\n",
       "  <tbody>\n",
       "    <tr>\n",
       "      <th>T-test</th>\n",
       "      <td>14.981</td>\n",
       "      <td>838</td>\n",
       "      <td>two-sided</td>\n",
       "      <td>0.000</td>\n",
       "      <td>[9.42, 12.27]</td>\n",
       "      <td>1.034</td>\n",
       "      <td>4.239e+41</td>\n",
       "      <td>1.000</td>\n",
       "    </tr>\n",
       "  </tbody>\n",
       "</table>\n",
       "</div>"
      ],
      "text/plain": [
       "            T  dof alternative  p-val          CI95%  cohen-d       BF10  \\\n",
       "T-test 14.981  838   two-sided  0.000  [9.42, 12.27]    1.034  4.239e+41   \n",
       "\n",
       "        power  \n",
       "T-test  1.000  "
      ]
     },
     "metadata": {},
     "output_type": "display_data"
    }
   ],
   "source": [
    "# perform t test - ss\n",
    "display(pt.ttest(ss_data['player.wtp_voting_cost'], ss_data['player.wtp_voting_cost_pq'], paired = True))\n",
    "display(pt.ttest(ss_data['player.wtp_voting_cost'], ss_data['player.wtp_voting_cost_pq'], paired = False))"
   ]
  },
  {
   "cell_type": "code",
   "execution_count": 15,
   "metadata": {},
   "outputs": [
    {
     "name": "stdout",
     "output_type": "stream",
     "text": [
      "【小小】有門檻與沒門檻的 wtp 平均值\n",
      "------------------------\n",
      "沒門檻: 14.238095238095237\n",
      "有門檻: 3.392857142857143\n"
     ]
    }
   ],
   "source": [
    "# get the mean\n",
    "print('【小小】有門檻與沒門檻的 wtp 平均值')\n",
    "print('------------------------')\n",
    "print(f\"沒門檻: {ss_data['player.wtp_voting_cost'].describe()['mean']}\")\n",
    "print(f\"有門檻: {ss_data['player.wtp_voting_cost_pq'].describe()['mean']}\")"
   ]
  },
  {
   "cell_type": "markdown",
   "metadata": {},
   "source": [
    "### ```sb```"
   ]
  },
  {
   "cell_type": "code",
   "execution_count": 16,
   "metadata": {},
   "outputs": [
    {
     "data": {
      "text/html": [
       "<div>\n",
       "<style scoped>\n",
       "    .dataframe tbody tr th:only-of-type {\n",
       "        vertical-align: middle;\n",
       "    }\n",
       "\n",
       "    .dataframe tbody tr th {\n",
       "        vertical-align: top;\n",
       "    }\n",
       "\n",
       "    .dataframe thead th {\n",
       "        text-align: right;\n",
       "    }\n",
       "</style>\n",
       "<table border=\"1\" class=\"dataframe\">\n",
       "  <thead>\n",
       "    <tr style=\"text-align: right;\">\n",
       "      <th></th>\n",
       "      <th>T</th>\n",
       "      <th>dof</th>\n",
       "      <th>alternative</th>\n",
       "      <th>p-val</th>\n",
       "      <th>CI95%</th>\n",
       "      <th>cohen-d</th>\n",
       "      <th>BF10</th>\n",
       "      <th>power</th>\n",
       "    </tr>\n",
       "  </thead>\n",
       "  <tbody>\n",
       "    <tr>\n",
       "      <th>T-test</th>\n",
       "      <td>1.661</td>\n",
       "      <td>419</td>\n",
       "      <td>two-sided</td>\n",
       "      <td>0.097</td>\n",
       "      <td>[-0.2, 2.44]</td>\n",
       "      <td>0.083</td>\n",
       "      <td>0.215</td>\n",
       "      <td>0.398</td>\n",
       "    </tr>\n",
       "  </tbody>\n",
       "</table>\n",
       "</div>"
      ],
      "text/plain": [
       "           T  dof alternative  p-val         CI95%  cohen-d   BF10  power\n",
       "T-test 1.661  419   two-sided  0.097  [-0.2, 2.44]    0.083  0.215  0.398"
      ]
     },
     "metadata": {},
     "output_type": "display_data"
    },
    {
     "data": {
      "text/html": [
       "<div>\n",
       "<style scoped>\n",
       "    .dataframe tbody tr th:only-of-type {\n",
       "        vertical-align: middle;\n",
       "    }\n",
       "\n",
       "    .dataframe tbody tr th {\n",
       "        vertical-align: top;\n",
       "    }\n",
       "\n",
       "    .dataframe thead th {\n",
       "        text-align: right;\n",
       "    }\n",
       "</style>\n",
       "<table border=\"1\" class=\"dataframe\">\n",
       "  <thead>\n",
       "    <tr style=\"text-align: right;\">\n",
       "      <th></th>\n",
       "      <th>T</th>\n",
       "      <th>dof</th>\n",
       "      <th>alternative</th>\n",
       "      <th>p-val</th>\n",
       "      <th>CI95%</th>\n",
       "      <th>cohen-d</th>\n",
       "      <th>BF10</th>\n",
       "      <th>power</th>\n",
       "    </tr>\n",
       "  </thead>\n",
       "  <tbody>\n",
       "    <tr>\n",
       "      <th>T-test</th>\n",
       "      <td>1.205</td>\n",
       "      <td>838</td>\n",
       "      <td>two-sided</td>\n",
       "      <td>0.228</td>\n",
       "      <td>[-0.7, 2.94]</td>\n",
       "      <td>0.083</td>\n",
       "      <td>0.157</td>\n",
       "      <td>0.226</td>\n",
       "    </tr>\n",
       "  </tbody>\n",
       "</table>\n",
       "</div>"
      ],
      "text/plain": [
       "           T  dof alternative  p-val         CI95%  cohen-d   BF10  power\n",
       "T-test 1.205  838   two-sided  0.228  [-0.7, 2.94]    0.083  0.157  0.226"
      ]
     },
     "metadata": {},
     "output_type": "display_data"
    }
   ],
   "source": [
    "# perform t test - sb\n",
    "display(pt.ttest(sb_data['player.wtp_voting_cost'], sb_data['player.wtp_voting_cost_pq'], paired = True))\n",
    "display(pt.ttest(sb_data['player.wtp_voting_cost'], sb_data['player.wtp_voting_cost_pq'], paired = False))"
   ]
  },
  {
   "cell_type": "code",
   "execution_count": 17,
   "metadata": {},
   "outputs": [
    {
     "name": "stdout",
     "output_type": "stream",
     "text": [
      "【小大】有門檻與沒門檻的 wtp 平均值\n",
      "------------------------\n",
      "沒門檻: 13.6\n",
      "有門檻: 12.483333333333333\n"
     ]
    }
   ],
   "source": [
    "# get the mean\n",
    "print('【小大】有門檻與沒門檻的 wtp 平均值')\n",
    "print('------------------------')\n",
    "print(f\"沒門檻: {sb_data['player.wtp_voting_cost'].describe()['mean']}\")\n",
    "print(f\"有門檻: {sb_data['player.wtp_voting_cost_pq'].describe()['mean']}\")"
   ]
  },
  {
   "cell_type": "markdown",
   "metadata": {},
   "source": [
    "### ```bs```"
   ]
  },
  {
   "cell_type": "code",
   "execution_count": 18,
   "metadata": {},
   "outputs": [
    {
     "data": {
      "text/html": [
       "<div>\n",
       "<style scoped>\n",
       "    .dataframe tbody tr th:only-of-type {\n",
       "        vertical-align: middle;\n",
       "    }\n",
       "\n",
       "    .dataframe tbody tr th {\n",
       "        vertical-align: top;\n",
       "    }\n",
       "\n",
       "    .dataframe thead th {\n",
       "        text-align: right;\n",
       "    }\n",
       "</style>\n",
       "<table border=\"1\" class=\"dataframe\">\n",
       "  <thead>\n",
       "    <tr style=\"text-align: right;\">\n",
       "      <th></th>\n",
       "      <th>T</th>\n",
       "      <th>dof</th>\n",
       "      <th>alternative</th>\n",
       "      <th>p-val</th>\n",
       "      <th>CI95%</th>\n",
       "      <th>cohen-d</th>\n",
       "      <th>BF10</th>\n",
       "      <th>power</th>\n",
       "    </tr>\n",
       "  </thead>\n",
       "  <tbody>\n",
       "    <tr>\n",
       "      <th>T-test</th>\n",
       "      <td>23.944</td>\n",
       "      <td>419</td>\n",
       "      <td>two-sided</td>\n",
       "      <td>0.000</td>\n",
       "      <td>[14.35, 16.92]</td>\n",
       "      <td>1.456</td>\n",
       "      <td>6.318e+76</td>\n",
       "      <td>1.000</td>\n",
       "    </tr>\n",
       "  </tbody>\n",
       "</table>\n",
       "</div>"
      ],
      "text/plain": [
       "            T  dof alternative  p-val           CI95%  cohen-d       BF10  \\\n",
       "T-test 23.944  419   two-sided  0.000  [14.35, 16.92]    1.456  6.318e+76   \n",
       "\n",
       "        power  \n",
       "T-test  1.000  "
      ]
     },
     "metadata": {},
     "output_type": "display_data"
    },
    {
     "data": {
      "text/html": [
       "<div>\n",
       "<style scoped>\n",
       "    .dataframe tbody tr th:only-of-type {\n",
       "        vertical-align: middle;\n",
       "    }\n",
       "\n",
       "    .dataframe tbody tr th {\n",
       "        vertical-align: top;\n",
       "    }\n",
       "\n",
       "    .dataframe thead th {\n",
       "        text-align: right;\n",
       "    }\n",
       "</style>\n",
       "<table border=\"1\" class=\"dataframe\">\n",
       "  <thead>\n",
       "    <tr style=\"text-align: right;\">\n",
       "      <th></th>\n",
       "      <th>T</th>\n",
       "      <th>dof</th>\n",
       "      <th>alternative</th>\n",
       "      <th>p-val</th>\n",
       "      <th>CI95%</th>\n",
       "      <th>cohen-d</th>\n",
       "      <th>BF10</th>\n",
       "      <th>power</th>\n",
       "    </tr>\n",
       "  </thead>\n",
       "  <tbody>\n",
       "    <tr>\n",
       "      <th>T-test</th>\n",
       "      <td>21.094</td>\n",
       "      <td>838</td>\n",
       "      <td>two-sided</td>\n",
       "      <td>0.000</td>\n",
       "      <td>[14.18, 17.09]</td>\n",
       "      <td>1.456</td>\n",
       "      <td>5.836e+75</td>\n",
       "      <td>1.000</td>\n",
       "    </tr>\n",
       "  </tbody>\n",
       "</table>\n",
       "</div>"
      ],
      "text/plain": [
       "            T  dof alternative  p-val           CI95%  cohen-d       BF10  \\\n",
       "T-test 21.094  838   two-sided  0.000  [14.18, 17.09]    1.456  5.836e+75   \n",
       "\n",
       "        power  \n",
       "T-test  1.000  "
      ]
     },
     "metadata": {},
     "output_type": "display_data"
    }
   ],
   "source": [
    "# perform t test - bs\n",
    "display(pt.ttest(bs_data['player.wtp_voting_cost'], bs_data['player.wtp_voting_cost_pq'], paired = True))\n",
    "display(pt.ttest(bs_data['player.wtp_voting_cost'], bs_data['player.wtp_voting_cost_pq'], paired = False))"
   ]
  },
  {
   "cell_type": "code",
   "execution_count": 19,
   "metadata": {},
   "outputs": [
    {
     "name": "stdout",
     "output_type": "stream",
     "text": [
      "【大小】有門檻與沒門檻的 wtp 平均值\n",
      "------------------------\n",
      "沒門檻: 19.938095238095237\n",
      "有門檻: 4.3\n"
     ]
    }
   ],
   "source": [
    "# get the mean\n",
    "print('【大小】有門檻與沒門檻的 wtp 平均值')\n",
    "print('------------------------')\n",
    "print(f\"沒門檻: {bs_data['player.wtp_voting_cost'].describe()['mean']}\")\n",
    "print(f\"有門檻: {bs_data['player.wtp_voting_cost_pq'].describe()['mean']}\")"
   ]
  },
  {
   "cell_type": "markdown",
   "metadata": {},
   "source": [
    "### t-test: non_pq v.s. pq "
   ]
  },
  {
   "cell_type": "markdown",
   "metadata": {},
   "source": [
    "### ```big```"
   ]
  },
  {
   "cell_type": "code",
   "execution_count": 20,
   "metadata": {},
   "outputs": [],
   "source": [
    "# select dataset\n",
    "big_non_pq = data.loc[(data['player.is_large_team'] == 1)]\n",
    "big_pq = data.loc[(data['player.is_large_team_pq'] == 1)]"
   ]
  },
  {
   "cell_type": "code",
   "execution_count": 21,
   "metadata": {},
   "outputs": [
    {
     "data": {
      "text/html": [
       "<div>\n",
       "<style scoped>\n",
       "    .dataframe tbody tr th:only-of-type {\n",
       "        vertical-align: middle;\n",
       "    }\n",
       "\n",
       "    .dataframe tbody tr th {\n",
       "        vertical-align: top;\n",
       "    }\n",
       "\n",
       "    .dataframe thead th {\n",
       "        text-align: right;\n",
       "    }\n",
       "</style>\n",
       "<table border=\"1\" class=\"dataframe\">\n",
       "  <thead>\n",
       "    <tr style=\"text-align: right;\">\n",
       "      <th></th>\n",
       "      <th>T</th>\n",
       "      <th>dof</th>\n",
       "      <th>alternative</th>\n",
       "      <th>p-val</th>\n",
       "      <th>CI95%</th>\n",
       "      <th>cohen-d</th>\n",
       "      <th>BF10</th>\n",
       "      <th>power</th>\n",
       "    </tr>\n",
       "  </thead>\n",
       "  <tbody>\n",
       "    <tr>\n",
       "      <th>T-test</th>\n",
       "      <td>13.640</td>\n",
       "      <td>1918</td>\n",
       "      <td>two-sided</td>\n",
       "      <td>0.000</td>\n",
       "      <td>[7.03, 9.39]</td>\n",
       "      <td>0.623</td>\n",
       "      <td>1.108e+37</td>\n",
       "      <td>1.000</td>\n",
       "    </tr>\n",
       "  </tbody>\n",
       "</table>\n",
       "</div>"
      ],
      "text/plain": [
       "            T   dof alternative  p-val         CI95%  cohen-d       BF10  \\\n",
       "T-test 13.640  1918   two-sided  0.000  [7.03, 9.39]    0.623  1.108e+37   \n",
       "\n",
       "        power  \n",
       "T-test  1.000  "
      ]
     },
     "metadata": {},
     "output_type": "display_data"
    }
   ],
   "source": [
    "# perform t test\n",
    "display(pt.ttest(big_non_pq['player.wtp_voting_cost'], big_pq['player.wtp_voting_cost_pq'], paired = False))"
   ]
  },
  {
   "cell_type": "code",
   "execution_count": 22,
   "metadata": {},
   "outputs": [
    {
     "name": "stdout",
     "output_type": "stream",
     "text": [
      "【大】有門檻與沒門檻的 wtp 平均值\n",
      "------------------------\n",
      "沒門檻: 20.15625\n",
      "有門檻: 11.948958333333334\n"
     ]
    }
   ],
   "source": [
    "# get the mean\n",
    "print('【大】有門檻與沒門檻的 wtp 平均值')\n",
    "print('------------------------')\n",
    "print(f\"沒門檻: {big_non_pq['player.wtp_voting_cost'].describe()['mean']}\")\n",
    "print(f\"有門檻: {big_pq['player.wtp_voting_cost_pq'].describe()['mean']}\")"
   ]
  },
  {
   "cell_type": "markdown",
   "metadata": {},
   "source": [
    "### ```small```"
   ]
  },
  {
   "cell_type": "code",
   "execution_count": 23,
   "metadata": {},
   "outputs": [],
   "source": [
    "# select dataset\n",
    "small_non_pq = data.loc[(data['player.is_large_team'] == 0)]\n",
    "small_pq = data.loc[(data['player.is_large_team_pq'] == 0)]"
   ]
  },
  {
   "cell_type": "code",
   "execution_count": 24,
   "metadata": {},
   "outputs": [
    {
     "data": {
      "text/html": [
       "<div>\n",
       "<style scoped>\n",
       "    .dataframe tbody tr th:only-of-type {\n",
       "        vertical-align: middle;\n",
       "    }\n",
       "\n",
       "    .dataframe tbody tr th {\n",
       "        vertical-align: top;\n",
       "    }\n",
       "\n",
       "    .dataframe thead th {\n",
       "        text-align: right;\n",
       "    }\n",
       "</style>\n",
       "<table border=\"1\" class=\"dataframe\">\n",
       "  <thead>\n",
       "    <tr style=\"text-align: right;\">\n",
       "      <th></th>\n",
       "      <th>T</th>\n",
       "      <th>dof</th>\n",
       "      <th>alternative</th>\n",
       "      <th>p-val</th>\n",
       "      <th>CI95%</th>\n",
       "      <th>cohen-d</th>\n",
       "      <th>BF10</th>\n",
       "      <th>power</th>\n",
       "    </tr>\n",
       "  </thead>\n",
       "  <tbody>\n",
       "    <tr>\n",
       "      <th>T-test</th>\n",
       "      <td>19.222</td>\n",
       "      <td>1678</td>\n",
       "      <td>two-sided</td>\n",
       "      <td>0.000</td>\n",
       "      <td>[9.04, 11.1]</td>\n",
       "      <td>0.938</td>\n",
       "      <td>7.19e+70</td>\n",
       "      <td>1.000</td>\n",
       "    </tr>\n",
       "  </tbody>\n",
       "</table>\n",
       "</div>"
      ],
      "text/plain": [
       "            T   dof alternative  p-val         CI95%  cohen-d      BF10  power\n",
       "T-test 19.222  1678   two-sided  0.000  [9.04, 11.1]    0.938  7.19e+70  1.000"
      ]
     },
     "metadata": {},
     "output_type": "display_data"
    }
   ],
   "source": [
    "# perform t test\n",
    "display(pt.ttest(small_non_pq['player.wtp_voting_cost'], small_pq['player.wtp_voting_cost_pq'], paired = False))"
   ]
  },
  {
   "cell_type": "code",
   "execution_count": 25,
   "metadata": {},
   "outputs": [
    {
     "name": "stdout",
     "output_type": "stream",
     "text": [
      "【小】有門檻與沒門檻的 wtp 平均值\n",
      "------------------------\n",
      "沒門檻: 13.91904761904762\n",
      "有門檻: 3.8464285714285715\n"
     ]
    }
   ],
   "source": [
    "# get the mean\n",
    "print('【小】有門檻與沒門檻的 wtp 平均值')\n",
    "print('------------------------')\n",
    "print(f\"沒門檻: {small_non_pq['player.wtp_voting_cost'].describe()['mean']}\")\n",
    "print(f\"有門檻: {small_pq['player.wtp_voting_cost_pq'].describe()['mean']}\")"
   ]
  },
  {
   "cell_type": "code",
   "execution_count": null,
   "metadata": {},
   "outputs": [],
   "source": []
  }
 ],
 "metadata": {
  "kernelspec": {
   "display_name": "Python 3",
   "language": "python",
   "name": "python3"
  },
  "language_info": {
   "codemirror_mode": {
    "name": "ipython",
    "version": 3
   },
   "file_extension": ".py",
   "mimetype": "text/x-python",
   "name": "python",
   "nbconvert_exporter": "python",
   "pygments_lexer": "ipython3",
   "version": "3.8.5"
  }
 },
 "nbformat": 4,
 "nbformat_minor": 4
}
